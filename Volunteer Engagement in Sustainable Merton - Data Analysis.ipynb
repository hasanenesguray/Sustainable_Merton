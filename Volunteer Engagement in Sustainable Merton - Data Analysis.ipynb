{
 "cells": [
  {
   "cell_type": "markdown",
   "id": "7ebc4d5a",
   "metadata": {},
   "source": [
    "# Cronbach's alpha"
   ]
  },
  {
   "cell_type": "code",
   "execution_count": 5,
   "id": "70c6aa63",
   "metadata": {},
   "outputs": [
    {
     "data": {
      "text/plain": [
       "0.8721568949299142"
      ]
     },
     "execution_count": 5,
     "metadata": {},
     "output_type": "execute_result"
    }
   ],
   "source": [
    "import pandas as pd\n",
    "import numpy as np\n",
    "\n",
    "# Provided data\n",
    "data = {\n",
    "    \"Motivations - Career\": [\n",
    "    3.6, 1, 3.8, 7, 4, 3, 1.6, 1.2, 3.8, 1, 5.2, 5.2, 1, 1, 5.2, 7, \n",
    "    3, 2, 1.4, 2, 2, 1, 3, 5.4, 6.4, 5.6, 1, 1, 1, 5.2, 1, 4.4, \n",
    "    1.4, 5, 1, 2, 1, 3.4, 1.8, 2.8, 3, 4.2, 1, 1, 1, 2.2, 2, 1, \n",
    "    5.6, 2.2],\n",
    "    \"Motivations - Social\": [\n",
    "    4.6, 1.6, 5.2, 6.8, 4.8, 3.6, 7, 4.4, 3.4, 1.4, 2.2, 2.6, 2.8, \n",
    "    2.8, 5, 6.4, 3.4, 4.6, 2, 2.8, 6, 1.8, 3.6, 5.2, 4.2, 2.6, \n",
    "    1.2, 3.8, 4.6, 2.4, 2.8, 4, 4.4, 2.2, 1.6, 4.2, 3, 4, 6.2, \n",
    "    2.6, 4.8, 3.4, 1.8, 5, 2.8, 1.4, 1.4, 3.8, 6, 1],\n",
    "    \"Motivations - Values\": [\n",
    "    6.6, 7, 6.8, 7, 6.4, 5.4, 7, 6, 6.4, 5.8, 6.6, 5.2, 6.4, 6, 7, \n",
    "    7, 4.4, 4.8, 6, 5.8, 7, 6.6, 5.8, 6, 6, 5.8, 3.6, 7, 6.2, 6, \n",
    "    6.4, 6.4, 5.8, 5.4, 5.2, 6, 5.6, 6.4, 6.8, 5.2, 5.8, 6.6, 4.4, \n",
    "    5.4, 6, 6.6, 4.4, 7, 6.4, 5.8],\n",
    "    \"Motivations - Understd\": [\n",
    "    5.8, 5, 5.8, 7, 6.8, 5.4, 6, 5.8, 6.6, 3.2, 6.8, 5.4, 4.2, 5.6, \n",
    "    6.6, 7, 4.2, 4.2, 3.6, 4.4, 6, 2.6, 6, 7, 7, 6, 5.4, 5.4, 5, \n",
    "    5.8, 4, 5.4, 3.4, 5.2, 2.8, 6.8, 3.8, 6, 5.4, 3.4, 4.4, 6, \n",
    "    2.6, 6, 3.2, 4.6, 3.4, 5.8, 5.8, 5.6],\n",
    "    \"Motivations - Enhance\": [\n",
    "    2.8, 2.6, 4, 7, 4.2, 3.8, 3.2, 4.2, 4.2, 1.8, 6.6, 2.8, 4.2, 4.6, \n",
    "    6.4, 6.6, 4.2, 6.4, 2, 2.8, 7, 1.8, 5.4, 7, 7, 5.6, 2.4, 4.2, \n",
    "    3.4, 5.8, 3, 4.6, 5, 4.8, 1.8, 4.2, 1.6, 4.6, 5, 2.6, 4.6, 5, \n",
    "    3, 5.2, 3, 3.6, 4.6, 3.6, 6.8, 5],\n",
    "    \"Motivations - Protect\": [\n",
    "    4, 3.25, 5.25, 7, 5, 3.5, 3.25, 2.25, 5.25, 2, 5, 4, 2.75, 4.5, \n",
    "    3.25, 4.5, 4.25, 4.5, 2.25, 2, 5.75, 5.5, 6.5, 7, 7, 4.5, 1.25, \n",
    "    4.25, 5, 4, 3.25, 4.5, 3.5, 5, 1.25, 5.75, 2.5, 6.5, 5, 4.25, \n",
    "    4.25, 4, 2, 5.5, 4, 3, 3.5, 2.75, 6, 1.75],\n",
    "    \"Engagement - Vigor\": [\n",
    "    5, 4, 3.666666667, 6, 4.666666667, 3, 4, 3.333333333, 4.666666667, 3, 4, 4, \n",
    "    5.666666667, 4.333333333, 4, 6, 3, 4.666666667, 2.666666667, 3, 4.666666667, \n",
    "    3.666666667, 5, 5.666666667, 6, 2.666666667, 3, 6, 4.666666667, 5.666666667, \n",
    "    3.666666667, 4.666666667, 2.666666667, 4.333333333, 4.333333333, 3.666666667, \n",
    "    1, 3.666666667, 5.333333333, 2.666666667, 4, 5, 0.333333333, 5, 3.666666667, \n",
    "    2.666666667, 3, 6, 4, 5.333333333],\n",
    "    \"Engagement - Dedication\": [\n",
    "    5.666666667, 5, 5, 6, 6, 4.666666667, 6, 4.666666667, 5.666666667, 4.666666667, \n",
    "    5.333333333, 4, 6, 6, 5.333333333, 6, 4, 4.333333333, 3.666666667, 4.333333333, \n",
    "    6, 5.333333333, 5.333333333, 6, 6, 5, 4, 6, 6, 5, 5.333333333, 5, 3.333333333, \n",
    "    5, 5, 4, 2.666666667, 4.333333333, 6, 3, 4.333333333, 6, 3.666666667, \n",
    "    4.666666667, 5, 5.333333333, 4.666666667, 6, 5.333333333, 6],\n",
    "    \"Engagement - Absorption\": [\n",
    "    5.666666667, 5.666666667, 5.333333333, 6, 4.333333333, 2.666666667, 4.333333333, \n",
    "    2, 5.333333333, 3.666666667, 4.666666667, 4, 5, 4.666666667, 5, 5, 3.666666667, \n",
    "    3.666666667, 3, 3.666666667, 5, 3.666666667, 4.333333333, 5.666666667, \n",
    "    5.666666667, 3.666666667, 3, 5.333333333, 5.333333333, 5, 3.666666667, 5, \n",
    "    4, 4.666666667, 3.666666667, 4.333333333, 1.666666667, 4.333333333, 6, \n",
    "    1.666666667, 3, 6, 1, 4, 3.333333333, 2.333333333, 2, 5.333333333, \n",
    "    5.666666667, 3.666666667],\n",
    "    \"Satisfaction - Task\": [\n",
    "    6, 6, 6.25, 7, 7, 5.75, 6.25, 6, 5.5, 6.25, 6, 5.5, 1.25, 5.75, 7, \n",
    "    7, 5.25, 6.25, 5.75, 5.5, 6, 6.25, 5, 7, 7, 5, 7, 6, 5.25, 6.5, 7, \n",
    "    6.5, 6, 5.25, 6.5, 5.75, 4.5, 6, 7, 4.5, 4.5, 6.75, 5.5, 6, 6.25, \n",
    "    5, 7, 5.75, 6.5, 7],\n",
    "    \"Satisfaction - Organisation\": [\n",
    "    6.857142857, 5.285714286, 6.285714286, 7, 5.571428571, 6.142857143, \n",
    "    3.714285714, 3.571428571, 5.857142857, 6.857142857, 6.142857143, \n",
    "    4.571428571, 1.571428571, 6.857142857, 5.714285714, 7, 5.714285714, \n",
    "    5.142857143, 5.285714286, 3.714285714, 5.857142857, 5.714285714, \n",
    "    6, 7, 7, 3.142857143, 6, 4.571428571, 4.857142857, 5.571428571, \n",
    "    6.857142857, 6.857142857, 4.142857143, 5, 2.571428571, 3.714285714, \n",
    "    5.714285714, 5.857142857, 7, 5.142857143, 4.428571429, 6.285714286, \n",
    "    4, 5, 5.428571429, 4.857142857, 6.714285714, 3.571428571, 6.714285714, \n",
    "    6.428571429],\n",
    "    \"Commitment\": [\n",
    "    4.5, 2.25, 4, 3.75, 4.25, 4, 3.75, 4.25, 3.75, 4.25, 4, 4.5, 4.5, \n",
    "    2.75, 4.5, 4.25, 3.5, 3.25, 2.5, 3, 4.75, 2.75, 2.25, 2.25, 3, \n",
    "    4.25, 3.25, 3, 4.5, 4.75, 4.25, 4.25, 2.75, 4.5, 4.5, 4.75, \n",
    "    2.5, 4, 2.5, 4.75, 2.25, 4.75, 3, 3.25, 4.25, 2.25, 4, 4, \n",
    "    2.5, 4]\n",
    "}\n",
    "\n",
    "# Convert data into a DataFrame\n",
    "df = pd.DataFrame(data)\n",
    "\n",
    "# Step 2: Compute variances for each item (column)\n",
    "variances = df.var()\n",
    "\n",
    "# Step 3: Compute covariances between items\n",
    "cov_matrix = df.cov()\n",
    "\n",
    "# Step 4: Calculate average variance\n",
    "average_variance = variances.mean()\n",
    "\n",
    "# Step 5: Calculate average covariance (off-diagonal values of covariance matrix)\n",
    "n_items = df.shape[1]\n",
    "total_covariance = cov_matrix.values.sum() - np.trace(cov_matrix.values)  # Sum all off-diagonal elements\n",
    "average_covariance = total_covariance / (n_items * (n_items - 1))  # Average of off-diagonal elements\n",
    "\n",
    "# Step 6: Calculate Cronbach's alpha\n",
    "n_items = len(df.columns)\n",
    "cronbach_alpha = (n_items * average_covariance) / (average_variance + (n_items - 1) * average_covariance)\n",
    "\n",
    "cronbach_alpha"
   ]
  },
  {
   "cell_type": "markdown",
   "id": "7d2de9f1",
   "metadata": {},
   "source": [
    "# ANOVA"
   ]
  },
  {
   "cell_type": "markdown",
   "id": "33a2296d",
   "metadata": {},
   "source": [
    "## 1. Age"
   ]
  },
  {
   "cell_type": "code",
   "execution_count": 7,
   "id": "120469a4",
   "metadata": {},
   "outputs": [
    {
     "name": "stdout",
     "output_type": "stream",
     "text": [
      "F-Statistic: 4.5469350756176805\n",
      "P-Value: 0.001986912888959459\n",
      "There is a statistically significant difference between groups.\n"
     ]
    }
   ],
   "source": [
    "#1\n",
    "import pandas as pd\n",
    "from scipy.stats import f_oneway\n",
    "\n",
    "# Load your CSV file\n",
    "file_path = \"Volunteer Engagement in Sustainable Merton - Summary.csv\"  # Replace with your actual file path\n",
    "data = pd.read_csv(file_path)\n",
    "\n",
    "# Example: Perform ANOVA for \"Motivations - Career\" across \"Age\"\n",
    "# Ensure the column names match exactly in your dataset\n",
    "groups = data.groupby(\"Age\")[\"Motivations - Career\"]\n",
    "\n",
    "# Extract the scores for each age group\n",
    "anova_data = [group.dropna().values for _, group in groups]  # Drop NaN values if any\n",
    "\n",
    "# Perform one-way ANOVA\n",
    "f_stat, p_value = f_oneway(*anova_data)\n",
    "\n",
    "# Output the results\n",
    "print(f\"F-Statistic: {f_stat}\")\n",
    "print(f\"P-Value: {p_value}\")\n",
    "\n",
    "# Interpretation\n",
    "if p_value < 0.05:\n",
    "    print(\"There is a statistically significant difference between groups.\")\n",
    "else:\n",
    "    print(\"No statistically significant difference between groups.\")"
   ]
  },
  {
   "cell_type": "code",
   "execution_count": 10,
   "id": "16d89a4e",
   "metadata": {},
   "outputs": [
    {
     "name": "stdout",
     "output_type": "stream",
     "text": [
      "F-Statistic: 0.9035003850451246\n",
      "P-Value: 0.4874287815657874\n",
      "No statistically significant difference between groups.\n"
     ]
    }
   ],
   "source": [
    "#2\n",
    "\n",
    "# Load your CSV file\n",
    "file_path = \"Volunteer Engagement in Sustainable Merton - Summary.csv\"  # Replace with your actual file path\n",
    "data = pd.read_csv(file_path)\n",
    "\n",
    "groups = data.groupby(\"Age\")[\"Motivations - Social\"]\n",
    "\n",
    "# Extract the scores for each age group\n",
    "anova_data = [group.dropna().values for _, group in groups]  # Drop NaN values if any\n",
    "\n",
    "# Perform one-way ANOVA\n",
    "f_stat, p_value = f_oneway(*anova_data)\n",
    "\n",
    "# Output the results\n",
    "print(f\"F-Statistic: {f_stat}\")\n",
    "print(f\"P-Value: {p_value}\")\n",
    "\n",
    "# Interpretation\n",
    "if p_value < 0.05:\n",
    "    print(\"There is a statistically significant difference between groups.\")\n",
    "else:\n",
    "    print(\"No statistically significant difference between groups.\")"
   ]
  },
  {
   "cell_type": "code",
   "execution_count": 11,
   "id": "c69df18e",
   "metadata": {},
   "outputs": [
    {
     "name": "stdout",
     "output_type": "stream",
     "text": [
      "F-Statistic: 0.128585934475799\n",
      "P-Value: 0.9851053841739478\n",
      "No statistically significant difference between groups.\n"
     ]
    }
   ],
   "source": [
    "#3\n",
    "\n",
    "# Load your CSV file\n",
    "file_path = \"Volunteer Engagement in Sustainable Merton - Summary.csv\"  # Replace with your actual file path\n",
    "data = pd.read_csv(file_path)\n",
    "\n",
    "groups = data.groupby(\"Age\")[\"Motivations - Values\"]\n",
    "\n",
    "# Extract the scores for each age group\n",
    "anova_data = [group.dropna().values for _, group in groups]  # Drop NaN values if any\n",
    "\n",
    "# Perform one-way ANOVA\n",
    "f_stat, p_value = f_oneway(*anova_data)\n",
    "\n",
    "# Output the results\n",
    "print(f\"F-Statistic: {f_stat}\")\n",
    "print(f\"P-Value: {p_value}\")\n",
    "\n",
    "# Interpretation\n",
    "if p_value < 0.05:\n",
    "    print(\"There is a statistically significant difference between groups.\")\n",
    "else:\n",
    "    print(\"No statistically significant difference between groups.\")"
   ]
  },
  {
   "cell_type": "code",
   "execution_count": 12,
   "id": "bed7b002",
   "metadata": {},
   "outputs": [
    {
     "name": "stdout",
     "output_type": "stream",
     "text": [
      "F-Statistic: 2.6099805615969176\n",
      "P-Value: 0.03756553260796811\n",
      "There is a statistically significant difference between groups.\n"
     ]
    }
   ],
   "source": [
    "#4\n",
    "\n",
    "# Load your CSV file\n",
    "file_path = \"Volunteer Engagement in Sustainable Merton - Summary.csv\"  # Replace with your actual file path\n",
    "data = pd.read_csv(file_path)\n",
    "\n",
    "groups = data.groupby(\"Age\")[\"Motivations - Understd\"]\n",
    "\n",
    "# Extract the scores for each age group\n",
    "anova_data = [group.dropna().values for _, group in groups]  # Drop NaN values if any\n",
    "\n",
    "# Perform one-way ANOVA\n",
    "f_stat, p_value = f_oneway(*anova_data)\n",
    "\n",
    "# Output the results\n",
    "print(f\"F-Statistic: {f_stat}\")\n",
    "print(f\"P-Value: {p_value}\")\n",
    "\n",
    "# Interpretation\n",
    "if p_value < 0.05:\n",
    "    print(\"There is a statistically significant difference between groups.\")\n",
    "else:\n",
    "    print(\"No statistically significant difference between groups.\")"
   ]
  },
  {
   "cell_type": "code",
   "execution_count": 13,
   "id": "2922f5dc",
   "metadata": {},
   "outputs": [
    {
     "name": "stdout",
     "output_type": "stream",
     "text": [
      "F-Statistic: 3.670745954265022\n",
      "P-Value: 0.007313095597516281\n",
      "There is a statistically significant difference between groups.\n"
     ]
    }
   ],
   "source": [
    "#5\n",
    "\n",
    "# Load your CSV file\n",
    "file_path = \"Volunteer Engagement in Sustainable Merton - Summary.csv\"  # Replace with your actual file path\n",
    "data = pd.read_csv(file_path)\n",
    "\n",
    "groups = data.groupby(\"Age\")[\"Motivations - Enhance\"]\n",
    "\n",
    "# Extract the scores for each age group\n",
    "anova_data = [group.dropna().values for _, group in groups]  # Drop NaN values if any\n",
    "\n",
    "# Perform one-way ANOVA\n",
    "f_stat, p_value = f_oneway(*anova_data)\n",
    "\n",
    "# Output the results\n",
    "print(f\"F-Statistic: {f_stat}\")\n",
    "print(f\"P-Value: {p_value}\")\n",
    "\n",
    "# Interpretation\n",
    "if p_value < 0.05:\n",
    "    print(\"There is a statistically significant difference between groups.\")\n",
    "else:\n",
    "    print(\"No statistically significant difference between groups.\")"
   ]
  },
  {
   "cell_type": "code",
   "execution_count": 14,
   "id": "4a15a185",
   "metadata": {},
   "outputs": [
    {
     "name": "stdout",
     "output_type": "stream",
     "text": [
      "F-Statistic: 3.404727472565987\n",
      "P-Value: 0.010968023901823477\n",
      "There is a statistically significant difference between groups.\n"
     ]
    }
   ],
   "source": [
    "#6\n",
    "\n",
    "# Load your CSV file\n",
    "file_path = \"Volunteer Engagement in Sustainable Merton - Summary.csv\"  # Replace with your actual file path\n",
    "data = pd.read_csv(file_path)\n",
    "\n",
    "groups = data.groupby(\"Age\")[\"Motivations - Protect\"]\n",
    "\n",
    "# Extract the scores for each age group\n",
    "anova_data = [group.dropna().values for _, group in groups]  # Drop NaN values if any\n",
    "\n",
    "# Perform one-way ANOVA\n",
    "f_stat, p_value = f_oneway(*anova_data)\n",
    "\n",
    "# Output the results\n",
    "print(f\"F-Statistic: {f_stat}\")\n",
    "print(f\"P-Value: {p_value}\")\n",
    "\n",
    "# Interpretation\n",
    "if p_value < 0.05:\n",
    "    print(\"There is a statistically significant difference between groups.\")\n",
    "else:\n",
    "    print(\"No statistically significant difference between groups.\")"
   ]
  },
  {
   "cell_type": "code",
   "execution_count": 15,
   "id": "92ebc8b0",
   "metadata": {},
   "outputs": [
    {
     "name": "stdout",
     "output_type": "stream",
     "text": [
      "F-Statistic: 1.4844112073981812\n",
      "P-Value: 0.21429393377518646\n",
      "No statistically significant difference between groups.\n"
     ]
    }
   ],
   "source": [
    "#7\n",
    "\n",
    "# Load your CSV file\n",
    "file_path = \"Volunteer Engagement in Sustainable Merton - Summary.csv\"  # Replace with your actual file path\n",
    "data = pd.read_csv(file_path)\n",
    "\n",
    "groups = data.groupby(\"Age\")[\"Engagement - Vigor\"]\n",
    "\n",
    "# Extract the scores for each age group\n",
    "anova_data = [group.dropna().values for _, group in groups]  # Drop NaN values if any\n",
    "\n",
    "# Perform one-way ANOVA\n",
    "f_stat, p_value = f_oneway(*anova_data)\n",
    "\n",
    "# Output the results\n",
    "print(f\"F-Statistic: {f_stat}\")\n",
    "print(f\"P-Value: {p_value}\")\n",
    "\n",
    "# Interpretation\n",
    "if p_value < 0.05:\n",
    "    print(\"There is a statistically significant difference between groups.\")\n",
    "else:\n",
    "    print(\"No statistically significant difference between groups.\")"
   ]
  },
  {
   "cell_type": "code",
   "execution_count": 16,
   "id": "ebf2cc07",
   "metadata": {},
   "outputs": [
    {
     "name": "stdout",
     "output_type": "stream",
     "text": [
      "F-Statistic: 1.4686058259752726\n",
      "P-Value: 0.21941576642972832\n",
      "No statistically significant difference between groups.\n"
     ]
    }
   ],
   "source": [
    "#8\n",
    "\n",
    "# Load your CSV file\n",
    "file_path = \"Volunteer Engagement in Sustainable Merton - Summary.csv\"  # Replace with your actual file path\n",
    "data = pd.read_csv(file_path)\n",
    "\n",
    "groups = data.groupby(\"Age\")[\"Engagement - Dedication\"]\n",
    "\n",
    "# Extract the scores for each age group\n",
    "anova_data = [group.dropna().values for _, group in groups]  # Drop NaN values if any\n",
    "\n",
    "# Perform one-way ANOVA\n",
    "f_stat, p_value = f_oneway(*anova_data)\n",
    "\n",
    "# Output the results\n",
    "print(f\"F-Statistic: {f_stat}\")\n",
    "print(f\"P-Value: {p_value}\")\n",
    "\n",
    "# Interpretation\n",
    "if p_value < 0.05:\n",
    "    print(\"There is a statistically significant difference between groups.\")\n",
    "else:\n",
    "    print(\"No statistically significant difference between groups.\")"
   ]
  },
  {
   "cell_type": "code",
   "execution_count": 17,
   "id": "dacb5236",
   "metadata": {},
   "outputs": [
    {
     "name": "stdout",
     "output_type": "stream",
     "text": [
      "F-Statistic: 1.2022399043337944\n",
      "P-Value: 0.323916445158078\n",
      "No statistically significant difference between groups.\n"
     ]
    }
   ],
   "source": [
    "#9\n",
    "\n",
    "# Load your CSV file\n",
    "file_path = \"Volunteer Engagement in Sustainable Merton - Summary.csv\"  # Replace with your actual file path\n",
    "data = pd.read_csv(file_path)\n",
    "\n",
    "groups = data.groupby(\"Age\")[\"Engagement - Absorption\"]\n",
    "\n",
    "# Extract the scores for each age group\n",
    "anova_data = [group.dropna().values for _, group in groups]  # Drop NaN values if any\n",
    "\n",
    "# Perform one-way ANOVA\n",
    "f_stat, p_value = f_oneway(*anova_data)\n",
    "\n",
    "# Output the results\n",
    "print(f\"F-Statistic: {f_stat}\")\n",
    "print(f\"P-Value: {p_value}\")\n",
    "\n",
    "# Interpretation\n",
    "if p_value < 0.05:\n",
    "    print(\"There is a statistically significant difference between groups.\")\n",
    "else:\n",
    "    print(\"No statistically significant difference between groups.\")"
   ]
  },
  {
   "cell_type": "code",
   "execution_count": 18,
   "id": "1c9e9a5a",
   "metadata": {},
   "outputs": [
    {
     "name": "stdout",
     "output_type": "stream",
     "text": [
      "F-Statistic: 0.5314877328775832\n",
      "P-Value: 0.7512086626630957\n",
      "No statistically significant difference between groups.\n"
     ]
    }
   ],
   "source": [
    "#10\n",
    "\n",
    "# Load your CSV file\n",
    "file_path = \"Volunteer Engagement in Sustainable Merton - Summary.csv\"  # Replace with your actual file path\n",
    "data = pd.read_csv(file_path)\n",
    "\n",
    "groups = data.groupby(\"Age\")[\"Satisfaction - Task\"]\n",
    "\n",
    "# Extract the scores for each age group\n",
    "anova_data = [group.dropna().values for _, group in groups]  # Drop NaN values if any\n",
    "\n",
    "# Perform one-way ANOVA\n",
    "f_stat, p_value = f_oneway(*anova_data)\n",
    "\n",
    "# Output the results\n",
    "print(f\"F-Statistic: {f_stat}\")\n",
    "print(f\"P-Value: {p_value}\")\n",
    "\n",
    "# Interpretation\n",
    "if p_value < 0.05:\n",
    "    print(\"There is a statistically significant difference between groups.\")\n",
    "else:\n",
    "    print(\"No statistically significant difference between groups.\")"
   ]
  },
  {
   "cell_type": "code",
   "execution_count": 19,
   "id": "bd363e31",
   "metadata": {},
   "outputs": [
    {
     "name": "stdout",
     "output_type": "stream",
     "text": [
      "F-Statistic: 1.9425195017541832\n",
      "P-Value: 0.10643975226701821\n",
      "No statistically significant difference between groups.\n"
     ]
    }
   ],
   "source": [
    "#11\n",
    "\n",
    "# Load your CSV file\n",
    "file_path = \"Volunteer Engagement in Sustainable Merton - Summary.csv\"  # Replace with your actual file path\n",
    "data = pd.read_csv(file_path)\n",
    "\n",
    "groups = data.groupby(\"Age\")[\"Satisfaction - Organisation\"]\n",
    "\n",
    "# Extract the scores for each age group\n",
    "anova_data = [group.dropna().values for _, group in groups]  # Drop NaN values if any\n",
    "\n",
    "# Perform one-way ANOVA\n",
    "f_stat, p_value = f_oneway(*anova_data)\n",
    "\n",
    "# Output the results\n",
    "print(f\"F-Statistic: {f_stat}\")\n",
    "print(f\"P-Value: {p_value}\")\n",
    "\n",
    "# Interpretation\n",
    "if p_value < 0.05:\n",
    "    print(\"There is a statistically significant difference between groups.\")\n",
    "else:\n",
    "    print(\"No statistically significant difference between groups.\")"
   ]
  },
  {
   "cell_type": "code",
   "execution_count": 20,
   "id": "150a50d5",
   "metadata": {},
   "outputs": [
    {
     "name": "stdout",
     "output_type": "stream",
     "text": [
      "F-Statistic: 3.7612866603595076\n",
      "P-Value: 0.006376865783799326\n",
      "There is a statistically significant difference between groups.\n"
     ]
    }
   ],
   "source": [
    "#12\n",
    "\n",
    "# Load your CSV file\n",
    "file_path = \"Volunteer Engagement in Sustainable Merton - Summary.csv\"  # Replace with your actual file path\n",
    "data = pd.read_csv(file_path)\n",
    "\n",
    "groups = data.groupby(\"Age\")[\"Commitment\"]\n",
    "\n",
    "# Extract the scores for each age group\n",
    "anova_data = [group.dropna().values for _, group in groups]  # Drop NaN values if any\n",
    "\n",
    "# Perform one-way ANOVA\n",
    "f_stat, p_value = f_oneway(*anova_data)\n",
    "\n",
    "# Output the results\n",
    "print(f\"F-Statistic: {f_stat}\")\n",
    "print(f\"P-Value: {p_value}\")\n",
    "\n",
    "# Interpretation\n",
    "if p_value < 0.05:\n",
    "    print(\"There is a statistically significant difference between groups.\")\n",
    "else:\n",
    "    print(\"No statistically significant difference between groups.\")"
   ]
  },
  {
   "cell_type": "markdown",
   "id": "a72b7fae",
   "metadata": {},
   "source": [
    "## 2. Gender Identity"
   ]
  },
  {
   "cell_type": "code",
   "execution_count": 23,
   "id": "bc962e72",
   "metadata": {},
   "outputs": [
    {
     "name": "stdout",
     "output_type": "stream",
     "text": [
      "F-Statistic: 1.843249145101017\n",
      "P-Value: 0.16956291578820495\n",
      "No statistically significant difference between groups.\n"
     ]
    }
   ],
   "source": [
    "#1\n",
    "import pandas as pd\n",
    "from scipy.stats import f_oneway\n",
    "\n",
    "# Load your CSV file\n",
    "file_path = \"Volunteer Engagement in Sustainable Merton - Summary.csv\"  # Replace with your actual file path\n",
    "data = pd.read_csv(file_path)\n",
    "\n",
    "# Example: Perform ANOVA for \"Motivations - Career\" across \"Age\"\n",
    "# Ensure the column names match exactly in your dataset\n",
    "groups = data.groupby(\"What is your gender identity? \\n(Please select one of the options below or describe your gender identity.)\")[\"Motivations - Career\"]\n",
    "\n",
    "# Extract the scores for each age group\n",
    "anova_data = [group.dropna().values for _, group in groups]  # Drop NaN values if any\n",
    "\n",
    "# Perform one-way ANOVA\n",
    "f_stat, p_value = f_oneway(*anova_data)\n",
    "\n",
    "# Output the results\n",
    "print(f\"F-Statistic: {f_stat}\")\n",
    "print(f\"P-Value: {p_value}\")\n",
    "\n",
    "# Interpretation\n",
    "if p_value < 0.05:\n",
    "    print(\"There is a statistically significant difference between groups.\")\n",
    "else:\n",
    "    print(\"No statistically significant difference between groups.\")"
   ]
  },
  {
   "cell_type": "code",
   "execution_count": 24,
   "id": "ac8b01e7",
   "metadata": {},
   "outputs": [
    {
     "name": "stdout",
     "output_type": "stream",
     "text": [
      "F-Statistic: 3.4581480371314868\n",
      "P-Value: 0.03970804430758977\n",
      "There is a statistically significant difference between groups.\n"
     ]
    }
   ],
   "source": [
    "#2\n",
    "\n",
    "# Load your CSV file\n",
    "file_path = \"Volunteer Engagement in Sustainable Merton - Summary.csv\"  # Replace with your actual file path\n",
    "data = pd.read_csv(file_path)\n",
    "\n",
    "groups = data.groupby(\"What is your gender identity? \\n(Please select one of the options below or describe your gender identity.)\")[\"Motivations - Social\"]\n",
    "\n",
    "# Extract the scores for each age group\n",
    "anova_data = [group.dropna().values for _, group in groups]  # Drop NaN values if any\n",
    "\n",
    "# Perform one-way ANOVA\n",
    "f_stat, p_value = f_oneway(*anova_data)\n",
    "\n",
    "# Output the results\n",
    "print(f\"F-Statistic: {f_stat}\")\n",
    "print(f\"P-Value: {p_value}\")\n",
    "\n",
    "# Interpretation\n",
    "if p_value < 0.05:\n",
    "    print(\"There is a statistically significant difference between groups.\")\n",
    "else:\n",
    "    print(\"No statistically significant difference between groups.\")"
   ]
  },
  {
   "cell_type": "code",
   "execution_count": 25,
   "id": "fcd148c5",
   "metadata": {},
   "outputs": [
    {
     "name": "stdout",
     "output_type": "stream",
     "text": [
      "F-Statistic: 0.25848937132519245\n",
      "P-Value: 0.7733078331821023\n",
      "No statistically significant difference between groups.\n"
     ]
    }
   ],
   "source": [
    "#3\n",
    "\n",
    "# Load your CSV file\n",
    "file_path = \"Volunteer Engagement in Sustainable Merton - Summary.csv\"  # Replace with your actual file path\n",
    "data = pd.read_csv(file_path)\n",
    "\n",
    "groups = data.groupby(\"What is your gender identity? \\n(Please select one of the options below or describe your gender identity.)\")[\"Motivations - Values\"]\n",
    "\n",
    "# Extract the scores for each age group\n",
    "anova_data = [group.dropna().values for _, group in groups]  # Drop NaN values if any\n",
    "\n",
    "# Perform one-way ANOVA\n",
    "f_stat, p_value = f_oneway(*anova_data)\n",
    "\n",
    "# Output the results\n",
    "print(f\"F-Statistic: {f_stat}\")\n",
    "print(f\"P-Value: {p_value}\")\n",
    "\n",
    "# Interpretation\n",
    "if p_value < 0.05:\n",
    "    print(\"There is a statistically significant difference between groups.\")\n",
    "else:\n",
    "    print(\"No statistically significant difference between groups.\")"
   ]
  },
  {
   "cell_type": "code",
   "execution_count": 26,
   "id": "3c540e83",
   "metadata": {},
   "outputs": [
    {
     "name": "stdout",
     "output_type": "stream",
     "text": [
      "F-Statistic: 1.5731382496858817\n",
      "P-Value: 0.2181174558988344\n",
      "No statistically significant difference between groups.\n"
     ]
    }
   ],
   "source": [
    "#4\n",
    "\n",
    "# Load your CSV file\n",
    "file_path = \"Volunteer Engagement in Sustainable Merton - Summary.csv\"  # Replace with your actual file path\n",
    "data = pd.read_csv(file_path)\n",
    "\n",
    "groups = data.groupby(\"What is your gender identity? \\n(Please select one of the options below or describe your gender identity.)\")[\"Motivations - Understd\"]\n",
    "\n",
    "# Extract the scores for each age group\n",
    "anova_data = [group.dropna().values for _, group in groups]  # Drop NaN values if any\n",
    "\n",
    "# Perform one-way ANOVA\n",
    "f_stat, p_value = f_oneway(*anova_data)\n",
    "\n",
    "# Output the results\n",
    "print(f\"F-Statistic: {f_stat}\")\n",
    "print(f\"P-Value: {p_value}\")\n",
    "\n",
    "# Interpretation\n",
    "if p_value < 0.05:\n",
    "    print(\"There is a statistically significant difference between groups.\")\n",
    "else:\n",
    "    print(\"No statistically significant difference between groups.\")"
   ]
  },
  {
   "cell_type": "code",
   "execution_count": 27,
   "id": "058bb1c4",
   "metadata": {},
   "outputs": [
    {
     "name": "stdout",
     "output_type": "stream",
     "text": [
      "F-Statistic: 2.753086953197132\n",
      "P-Value: 0.07402116294099305\n",
      "No statistically significant difference between groups.\n"
     ]
    }
   ],
   "source": [
    "#5\n",
    "\n",
    "# Load your CSV file\n",
    "file_path = \"Volunteer Engagement in Sustainable Merton - Summary.csv\"  # Replace with your actual file path\n",
    "data = pd.read_csv(file_path)\n",
    "\n",
    "groups = data.groupby(\"What is your gender identity? \\n(Please select one of the options below or describe your gender identity.)\")[\"Motivations - Enhance\"]\n",
    "\n",
    "# Extract the scores for each age group\n",
    "anova_data = [group.dropna().values for _, group in groups]  # Drop NaN values if any\n",
    "\n",
    "# Perform one-way ANOVA\n",
    "f_stat, p_value = f_oneway(*anova_data)\n",
    "\n",
    "# Output the results\n",
    "print(f\"F-Statistic: {f_stat}\")\n",
    "print(f\"P-Value: {p_value}\")\n",
    "\n",
    "# Interpretation\n",
    "if p_value < 0.05:\n",
    "    print(\"There is a statistically significant difference between groups.\")\n",
    "else:\n",
    "    print(\"No statistically significant difference between groups.\")"
   ]
  },
  {
   "cell_type": "code",
   "execution_count": 28,
   "id": "33cd242b",
   "metadata": {},
   "outputs": [
    {
     "name": "stdout",
     "output_type": "stream",
     "text": [
      "F-Statistic: 1.8643539440312467\n",
      "P-Value: 0.166278213170716\n",
      "No statistically significant difference between groups.\n"
     ]
    }
   ],
   "source": [
    "#6\n",
    "\n",
    "# Load your CSV file\n",
    "file_path = \"Volunteer Engagement in Sustainable Merton - Summary.csv\"  # Replace with your actual file path\n",
    "data = pd.read_csv(file_path)\n",
    "\n",
    "groups = data.groupby(\"What is your gender identity? \\n(Please select one of the options below or describe your gender identity.)\")[\"Motivations - Protect\"]\n",
    "\n",
    "# Extract the scores for each age group\n",
    "anova_data = [group.dropna().values for _, group in groups]  # Drop NaN values if any\n",
    "\n",
    "# Perform one-way ANOVA\n",
    "f_stat, p_value = f_oneway(*anova_data)\n",
    "\n",
    "# Output the results\n",
    "print(f\"F-Statistic: {f_stat}\")\n",
    "print(f\"P-Value: {p_value}\")\n",
    "\n",
    "# Interpretation\n",
    "if p_value < 0.05:\n",
    "    print(\"There is a statistically significant difference between groups.\")\n",
    "else:\n",
    "    print(\"No statistically significant difference between groups.\")"
   ]
  },
  {
   "cell_type": "code",
   "execution_count": 29,
   "id": "a44810f5",
   "metadata": {},
   "outputs": [
    {
     "name": "stdout",
     "output_type": "stream",
     "text": [
      "F-Statistic: 0.738381367599298\n",
      "P-Value: 0.48334788775213355\n",
      "No statistically significant difference between groups.\n"
     ]
    }
   ],
   "source": [
    "#7\n",
    "\n",
    "# Load your CSV file\n",
    "file_path = \"Volunteer Engagement in Sustainable Merton - Summary.csv\"  # Replace with your actual file path\n",
    "data = pd.read_csv(file_path)\n",
    "\n",
    "groups = data.groupby(\"What is your gender identity? \\n(Please select one of the options below or describe your gender identity.)\")[\"Engagement - Vigor\"]\n",
    "\n",
    "# Extract the scores for each age group\n",
    "anova_data = [group.dropna().values for _, group in groups]  # Drop NaN values if any\n",
    "\n",
    "# Perform one-way ANOVA\n",
    "f_stat, p_value = f_oneway(*anova_data)\n",
    "\n",
    "# Output the results\n",
    "print(f\"F-Statistic: {f_stat}\")\n",
    "print(f\"P-Value: {p_value}\")\n",
    "\n",
    "# Interpretation\n",
    "if p_value < 0.05:\n",
    "    print(\"There is a statistically significant difference between groups.\")\n",
    "else:\n",
    "    print(\"No statistically significant difference between groups.\")"
   ]
  },
  {
   "cell_type": "code",
   "execution_count": 30,
   "id": "5edd1818",
   "metadata": {},
   "outputs": [
    {
     "name": "stdout",
     "output_type": "stream",
     "text": [
      "F-Statistic: 0.80368775340155\n",
      "P-Value: 0.45373116159477755\n",
      "No statistically significant difference between groups.\n"
     ]
    }
   ],
   "source": [
    "#8\n",
    "\n",
    "# Load your CSV file\n",
    "file_path = \"Volunteer Engagement in Sustainable Merton - Summary.csv\"  # Replace with your actual file path\n",
    "data = pd.read_csv(file_path)\n",
    "\n",
    "groups = data.groupby(\"What is your gender identity? \\n(Please select one of the options below or describe your gender identity.)\")[\"Engagement - Dedication\"]\n",
    "\n",
    "# Extract the scores for each age group\n",
    "anova_data = [group.dropna().values for _, group in groups]  # Drop NaN values if any\n",
    "\n",
    "# Perform one-way ANOVA\n",
    "f_stat, p_value = f_oneway(*anova_data)\n",
    "\n",
    "# Output the results\n",
    "print(f\"F-Statistic: {f_stat}\")\n",
    "print(f\"P-Value: {p_value}\")\n",
    "\n",
    "# Interpretation\n",
    "if p_value < 0.05:\n",
    "    print(\"There is a statistically significant difference between groups.\")\n",
    "else:\n",
    "    print(\"No statistically significant difference between groups.\")"
   ]
  },
  {
   "cell_type": "code",
   "execution_count": 31,
   "id": "e465f160",
   "metadata": {},
   "outputs": [
    {
     "name": "stdout",
     "output_type": "stream",
     "text": [
      "F-Statistic: 0.7422332399703315\n",
      "P-Value: 0.4815463190468694\n",
      "No statistically significant difference between groups.\n"
     ]
    }
   ],
   "source": [
    "#9\n",
    "\n",
    "# Load your CSV file\n",
    "file_path = \"Volunteer Engagement in Sustainable Merton - Summary.csv\"  # Replace with your actual file path\n",
    "data = pd.read_csv(file_path)\n",
    "\n",
    "groups = data.groupby(\"What is your gender identity? \\n(Please select one of the options below or describe your gender identity.)\")[\"Engagement - Absorption\"]\n",
    "\n",
    "# Extract the scores for each age group\n",
    "anova_data = [group.dropna().values for _, group in groups]  # Drop NaN values if any\n",
    "\n",
    "# Perform one-way ANOVA\n",
    "f_stat, p_value = f_oneway(*anova_data)\n",
    "\n",
    "# Output the results\n",
    "print(f\"F-Statistic: {f_stat}\")\n",
    "print(f\"P-Value: {p_value}\")\n",
    "\n",
    "# Interpretation\n",
    "if p_value < 0.05:\n",
    "    print(\"There is a statistically significant difference between groups.\")\n",
    "else:\n",
    "    print(\"No statistically significant difference between groups.\")"
   ]
  },
  {
   "cell_type": "code",
   "execution_count": 32,
   "id": "7417354a",
   "metadata": {},
   "outputs": [
    {
     "name": "stdout",
     "output_type": "stream",
     "text": [
      "F-Statistic: 2.1632262583722124\n",
      "P-Value: 0.1262642258111957\n",
      "No statistically significant difference between groups.\n"
     ]
    }
   ],
   "source": [
    "#10\n",
    "\n",
    "# Load your CSV file\n",
    "file_path = \"Volunteer Engagement in Sustainable Merton - Summary.csv\"  # Replace with your actual file path\n",
    "data = pd.read_csv(file_path)\n",
    "\n",
    "groups = data.groupby(\"What is your gender identity? \\n(Please select one of the options below or describe your gender identity.)\")[\"Satisfaction - Task\"]\n",
    "\n",
    "# Extract the scores for each age group\n",
    "anova_data = [group.dropna().values for _, group in groups]  # Drop NaN values if any\n",
    "\n",
    "# Perform one-way ANOVA\n",
    "f_stat, p_value = f_oneway(*anova_data)\n",
    "\n",
    "# Output the results\n",
    "print(f\"F-Statistic: {f_stat}\")\n",
    "print(f\"P-Value: {p_value}\")\n",
    "\n",
    "# Interpretation\n",
    "if p_value < 0.05:\n",
    "    print(\"There is a statistically significant difference between groups.\")\n",
    "else:\n",
    "    print(\"No statistically significant difference between groups.\")"
   ]
  },
  {
   "cell_type": "code",
   "execution_count": 33,
   "id": "4e28f4e7",
   "metadata": {},
   "outputs": [
    {
     "name": "stdout",
     "output_type": "stream",
     "text": [
      "F-Statistic: 1.1735314074646155\n",
      "P-Value: 0.31816977443338684\n",
      "No statistically significant difference between groups.\n"
     ]
    }
   ],
   "source": [
    "#11\n",
    "\n",
    "# Load your CSV file\n",
    "file_path = \"Volunteer Engagement in Sustainable Merton - Summary.csv\"  # Replace with your actual file path\n",
    "data = pd.read_csv(file_path)\n",
    "\n",
    "groups = data.groupby(\"What is your gender identity? \\n(Please select one of the options below or describe your gender identity.)\")[\"Satisfaction - Organisation\"]\n",
    "\n",
    "# Extract the scores for each age group\n",
    "anova_data = [group.dropna().values for _, group in groups]  # Drop NaN values if any\n",
    "\n",
    "# Perform one-way ANOVA\n",
    "f_stat, p_value = f_oneway(*anova_data)\n",
    "\n",
    "# Output the results\n",
    "print(f\"F-Statistic: {f_stat}\")\n",
    "print(f\"P-Value: {p_value}\")\n",
    "\n",
    "# Interpretation\n",
    "if p_value < 0.05:\n",
    "    print(\"There is a statistically significant difference between groups.\")\n",
    "else:\n",
    "    print(\"No statistically significant difference between groups.\")"
   ]
  },
  {
   "cell_type": "code",
   "execution_count": 34,
   "id": "142369f1",
   "metadata": {},
   "outputs": [
    {
     "name": "stdout",
     "output_type": "stream",
     "text": [
      "F-Statistic: 1.6025463878685122\n",
      "P-Value: 0.21219100677119643\n",
      "No statistically significant difference between groups.\n"
     ]
    }
   ],
   "source": [
    "#12\n",
    "\n",
    "# Load your CSV file\n",
    "file_path = \"Volunteer Engagement in Sustainable Merton - Summary.csv\"  # Replace with your actual file path\n",
    "data = pd.read_csv(file_path)\n",
    "\n",
    "groups = data.groupby(\"What is your gender identity? \\n(Please select one of the options below or describe your gender identity.)\")[\"Commitment\"]\n",
    "\n",
    "# Extract the scores for each age group\n",
    "anova_data = [group.dropna().values for _, group in groups]  # Drop NaN values if any\n",
    "\n",
    "# Perform one-way ANOVA\n",
    "f_stat, p_value = f_oneway(*anova_data)\n",
    "\n",
    "# Output the results\n",
    "print(f\"F-Statistic: {f_stat}\")\n",
    "print(f\"P-Value: {p_value}\")\n",
    "\n",
    "# Interpretation\n",
    "if p_value < 0.05:\n",
    "    print(\"There is a statistically significant difference between groups.\")\n",
    "else:\n",
    "    print(\"No statistically significant difference between groups.\")"
   ]
  },
  {
   "cell_type": "markdown",
   "id": "9037ec3c",
   "metadata": {},
   "source": [
    "## 3. Ethnic Background"
   ]
  },
  {
   "cell_type": "code",
   "execution_count": 36,
   "id": "3cb43983",
   "metadata": {},
   "outputs": [
    {
     "name": "stdout",
     "output_type": "stream",
     "text": [
      "F-Statistic: 5.173344302558738\n",
      "P-Value: 0.001625022688211805\n",
      "There is a statistically significant difference between groups.\n"
     ]
    }
   ],
   "source": [
    "#1\n",
    "import pandas as pd\n",
    "from scipy.stats import f_oneway\n",
    "\n",
    "# Load your CSV file\n",
    "file_path = \"Volunteer Engagement in Sustainable Merton - Summary.csv\"  # Replace with your actual file path\n",
    "data = pd.read_csv(file_path)\n",
    "\n",
    "# Example: Perform ANOVA for \"Motivations - Career\" across \"Age\"\n",
    "# Ensure the column names match exactly in your dataset\n",
    "groups = data.groupby(\"How do you identify your ethnic background?\\n(Please select the option that best describes you.) \")[\"Motivations - Career\"]\n",
    "\n",
    "# Extract the scores for each age group\n",
    "anova_data = [group.dropna().values for _, group in groups]  # Drop NaN values if any\n",
    "\n",
    "# Perform one-way ANOVA\n",
    "f_stat, p_value = f_oneway(*anova_data)\n",
    "\n",
    "# Output the results\n",
    "print(f\"F-Statistic: {f_stat}\")\n",
    "print(f\"P-Value: {p_value}\")\n",
    "\n",
    "# Interpretation\n",
    "if p_value < 0.05:\n",
    "    print(\"There is a statistically significant difference between groups.\")\n",
    "else:\n",
    "    print(\"No statistically significant difference between groups.\")"
   ]
  },
  {
   "cell_type": "code",
   "execution_count": 37,
   "id": "f3636290",
   "metadata": {},
   "outputs": [
    {
     "name": "stdout",
     "output_type": "stream",
     "text": [
      "F-Statistic: 2.0497088145830857\n",
      "P-Value: 0.10340959031231656\n",
      "No statistically significant difference between groups.\n"
     ]
    }
   ],
   "source": [
    "#2\n",
    "\n",
    "# Load your CSV file\n",
    "file_path = \"Volunteer Engagement in Sustainable Merton - Summary.csv\"  # Replace with your actual file path\n",
    "data = pd.read_csv(file_path)\n",
    "\n",
    "groups = data.groupby(\"How do you identify your ethnic background?\\n(Please select the option that best describes you.) \")[\"Motivations - Social\"]\n",
    "\n",
    "# Extract the scores for each age group\n",
    "anova_data = [group.dropna().values for _, group in groups]  # Drop NaN values if any\n",
    "\n",
    "# Perform one-way ANOVA\n",
    "f_stat, p_value = f_oneway(*anova_data)\n",
    "\n",
    "# Output the results\n",
    "print(f\"F-Statistic: {f_stat}\")\n",
    "print(f\"P-Value: {p_value}\")\n",
    "\n",
    "# Interpretation\n",
    "if p_value < 0.05:\n",
    "    print(\"There is a statistically significant difference between groups.\")\n",
    "else:\n",
    "    print(\"No statistically significant difference between groups.\")"
   ]
  },
  {
   "cell_type": "code",
   "execution_count": 38,
   "id": "31445f64",
   "metadata": {},
   "outputs": [
    {
     "name": "stdout",
     "output_type": "stream",
     "text": [
      "F-Statistic: 0.31268561810360956\n",
      "P-Value: 0.8680020489887591\n",
      "No statistically significant difference between groups.\n"
     ]
    }
   ],
   "source": [
    "#3\n",
    "\n",
    "# Load your CSV file\n",
    "file_path = \"Volunteer Engagement in Sustainable Merton - Summary.csv\"  # Replace with your actual file path\n",
    "data = pd.read_csv(file_path)\n",
    "\n",
    "groups = data.groupby(\"How do you identify your ethnic background?\\n(Please select the option that best describes you.) \")[\"Motivations - Values\"]\n",
    "\n",
    "# Extract the scores for each age group\n",
    "anova_data = [group.dropna().values for _, group in groups]  # Drop NaN values if any\n",
    "\n",
    "# Perform one-way ANOVA\n",
    "f_stat, p_value = f_oneway(*anova_data)\n",
    "\n",
    "# Output the results\n",
    "print(f\"F-Statistic: {f_stat}\")\n",
    "print(f\"P-Value: {p_value}\")\n",
    "\n",
    "# Interpretation\n",
    "if p_value < 0.05:\n",
    "    print(\"There is a statistically significant difference between groups.\")\n",
    "else:\n",
    "    print(\"No statistically significant difference between groups.\")"
   ]
  },
  {
   "cell_type": "code",
   "execution_count": 39,
   "id": "5cef3203",
   "metadata": {},
   "outputs": [
    {
     "name": "stdout",
     "output_type": "stream",
     "text": [
      "F-Statistic: 3.925310412499529\n",
      "P-Value: 0.008111796613584542\n",
      "There is a statistically significant difference between groups.\n"
     ]
    }
   ],
   "source": [
    "#4\n",
    "\n",
    "# Load your CSV file\n",
    "file_path = \"Volunteer Engagement in Sustainable Merton - Summary.csv\"  # Replace with your actual file path\n",
    "data = pd.read_csv(file_path)\n",
    "\n",
    "groups = data.groupby(\"How do you identify your ethnic background?\\n(Please select the option that best describes you.) \")[\"Motivations - Understd\"]\n",
    "\n",
    "# Extract the scores for each age group\n",
    "anova_data = [group.dropna().values for _, group in groups]  # Drop NaN values if any\n",
    "\n",
    "# Perform one-way ANOVA\n",
    "f_stat, p_value = f_oneway(*anova_data)\n",
    "\n",
    "# Output the results\n",
    "print(f\"F-Statistic: {f_stat}\")\n",
    "print(f\"P-Value: {p_value}\")\n",
    "\n",
    "# Interpretation\n",
    "if p_value < 0.05:\n",
    "    print(\"There is a statistically significant difference between groups.\")\n",
    "else:\n",
    "    print(\"No statistically significant difference between groups.\")"
   ]
  },
  {
   "cell_type": "code",
   "execution_count": 40,
   "id": "1f395954",
   "metadata": {},
   "outputs": [
    {
     "name": "stdout",
     "output_type": "stream",
     "text": [
      "F-Statistic: 4.562569993196921\n",
      "P-Value: 0.0035316996300269405\n",
      "There is a statistically significant difference between groups.\n"
     ]
    }
   ],
   "source": [
    "#5\n",
    "\n",
    "# Load your CSV file\n",
    "file_path = \"Volunteer Engagement in Sustainable Merton - Summary.csv\"  # Replace with your actual file path\n",
    "data = pd.read_csv(file_path)\n",
    "\n",
    "groups = data.groupby(\"How do you identify your ethnic background?\\n(Please select the option that best describes you.) \")[\"Motivations - Enhance\"]\n",
    "\n",
    "# Extract the scores for each age group\n",
    "anova_data = [group.dropna().values for _, group in groups]  # Drop NaN values if any\n",
    "\n",
    "# Perform one-way ANOVA\n",
    "f_stat, p_value = f_oneway(*anova_data)\n",
    "\n",
    "# Output the results\n",
    "print(f\"F-Statistic: {f_stat}\")\n",
    "print(f\"P-Value: {p_value}\")\n",
    "\n",
    "# Interpretation\n",
    "if p_value < 0.05:\n",
    "    print(\"There is a statistically significant difference between groups.\")\n",
    "else:\n",
    "    print(\"No statistically significant difference between groups.\")"
   ]
  },
  {
   "cell_type": "code",
   "execution_count": 41,
   "id": "1f7eaa60",
   "metadata": {},
   "outputs": [
    {
     "name": "stdout",
     "output_type": "stream",
     "text": [
      "F-Statistic: 2.6375765919491196\n",
      "P-Value: 0.04612293106177416\n",
      "There is a statistically significant difference between groups.\n"
     ]
    }
   ],
   "source": [
    "#6\n",
    "\n",
    "# Load your CSV file\n",
    "file_path = \"Volunteer Engagement in Sustainable Merton - Summary.csv\"  # Replace with your actual file path\n",
    "data = pd.read_csv(file_path)\n",
    "\n",
    "groups = data.groupby(\"How do you identify your ethnic background?\\n(Please select the option that best describes you.) \")[\"Motivations - Protect\"]\n",
    "\n",
    "# Extract the scores for each age group\n",
    "anova_data = [group.dropna().values for _, group in groups]  # Drop NaN values if any\n",
    "\n",
    "# Perform one-way ANOVA\n",
    "f_stat, p_value = f_oneway(*anova_data)\n",
    "\n",
    "# Output the results\n",
    "print(f\"F-Statistic: {f_stat}\")\n",
    "print(f\"P-Value: {p_value}\")\n",
    "\n",
    "# Interpretation\n",
    "if p_value < 0.05:\n",
    "    print(\"There is a statistically significant difference between groups.\")\n",
    "else:\n",
    "    print(\"No statistically significant difference between groups.\")"
   ]
  },
  {
   "cell_type": "code",
   "execution_count": 42,
   "id": "994e849c",
   "metadata": {},
   "outputs": [
    {
     "name": "stdout",
     "output_type": "stream",
     "text": [
      "F-Statistic: 2.09344472996097\n",
      "P-Value: 0.09738720139581482\n",
      "No statistically significant difference between groups.\n"
     ]
    }
   ],
   "source": [
    "#7\n",
    "\n",
    "# Load your CSV file\n",
    "file_path = \"Volunteer Engagement in Sustainable Merton - Summary.csv\"  # Replace with your actual file path\n",
    "data = pd.read_csv(file_path)\n",
    "\n",
    "groups = data.groupby(\"How do you identify your ethnic background?\\n(Please select the option that best describes you.) \")[\"Engagement - Vigor\"]\n",
    "\n",
    "# Extract the scores for each age group\n",
    "anova_data = [group.dropna().values for _, group in groups]  # Drop NaN values if any\n",
    "\n",
    "# Perform one-way ANOVA\n",
    "f_stat, p_value = f_oneway(*anova_data)\n",
    "\n",
    "# Output the results\n",
    "print(f\"F-Statistic: {f_stat}\")\n",
    "print(f\"P-Value: {p_value}\")\n",
    "\n",
    "# Interpretation\n",
    "if p_value < 0.05:\n",
    "    print(\"There is a statistically significant difference between groups.\")\n",
    "else:\n",
    "    print(\"No statistically significant difference between groups.\")"
   ]
  },
  {
   "cell_type": "code",
   "execution_count": 43,
   "id": "c660a6eb",
   "metadata": {},
   "outputs": [
    {
     "name": "stdout",
     "output_type": "stream",
     "text": [
      "F-Statistic: 2.694131594473146\n",
      "P-Value: 0.042682537892609944\n",
      "There is a statistically significant difference between groups.\n"
     ]
    }
   ],
   "source": [
    "#8\n",
    "\n",
    "# Load your CSV file\n",
    "file_path = \"Volunteer Engagement in Sustainable Merton - Summary.csv\"  # Replace with your actual file path\n",
    "data = pd.read_csv(file_path)\n",
    "\n",
    "groups = data.groupby(\"How do you identify your ethnic background?\\n(Please select the option that best describes you.) \")[\"Engagement - Dedication\"]\n",
    "\n",
    "# Extract the scores for each age group\n",
    "anova_data = [group.dropna().values for _, group in groups]  # Drop NaN values if any\n",
    "\n",
    "# Perform one-way ANOVA\n",
    "f_stat, p_value = f_oneway(*anova_data)\n",
    "\n",
    "# Output the results\n",
    "print(f\"F-Statistic: {f_stat}\")\n",
    "print(f\"P-Value: {p_value}\")\n",
    "\n",
    "# Interpretation\n",
    "if p_value < 0.05:\n",
    "    print(\"There is a statistically significant difference between groups.\")\n",
    "else:\n",
    "    print(\"No statistically significant difference between groups.\")"
   ]
  },
  {
   "cell_type": "code",
   "execution_count": 44,
   "id": "c2a64257",
   "metadata": {},
   "outputs": [
    {
     "name": "stdout",
     "output_type": "stream",
     "text": [
      "F-Statistic: 1.538781676003434\n",
      "P-Value: 0.2071708654662448\n",
      "No statistically significant difference between groups.\n"
     ]
    }
   ],
   "source": [
    "#9\n",
    "\n",
    "# Load your CSV file\n",
    "file_path = \"Volunteer Engagement in Sustainable Merton - Summary.csv\"  # Replace with your actual file path\n",
    "data = pd.read_csv(file_path)\n",
    "\n",
    "groups = data.groupby(\"How do you identify your ethnic background?\\n(Please select the option that best describes you.) \")[\"Engagement - Absorption\"]\n",
    "\n",
    "# Extract the scores for each age group\n",
    "anova_data = [group.dropna().values for _, group in groups]  # Drop NaN values if any\n",
    "\n",
    "# Perform one-way ANOVA\n",
    "f_stat, p_value = f_oneway(*anova_data)\n",
    "\n",
    "# Output the results\n",
    "print(f\"F-Statistic: {f_stat}\")\n",
    "print(f\"P-Value: {p_value}\")\n",
    "\n",
    "# Interpretation\n",
    "if p_value < 0.05:\n",
    "    print(\"There is a statistically significant difference between groups.\")\n",
    "else:\n",
    "    print(\"No statistically significant difference between groups.\")"
   ]
  },
  {
   "cell_type": "code",
   "execution_count": 45,
   "id": "65bb618c",
   "metadata": {},
   "outputs": [
    {
     "name": "stdout",
     "output_type": "stream",
     "text": [
      "F-Statistic: 2.137567613977849\n",
      "P-Value: 0.09166346121489172\n",
      "No statistically significant difference between groups.\n"
     ]
    }
   ],
   "source": [
    "#10\n",
    "\n",
    "# Load your CSV file\n",
    "file_path = \"Volunteer Engagement in Sustainable Merton - Summary.csv\"  # Replace with your actual file path\n",
    "data = pd.read_csv(file_path)\n",
    "\n",
    "groups = data.groupby(\"How do you identify your ethnic background?\\n(Please select the option that best describes you.) \")[\"Satisfaction - Task\"]\n",
    "\n",
    "# Extract the scores for each age group\n",
    "anova_data = [group.dropna().values for _, group in groups]  # Drop NaN values if any\n",
    "\n",
    "# Perform one-way ANOVA\n",
    "f_stat, p_value = f_oneway(*anova_data)\n",
    "\n",
    "# Output the results\n",
    "print(f\"F-Statistic: {f_stat}\")\n",
    "print(f\"P-Value: {p_value}\")\n",
    "\n",
    "# Interpretation\n",
    "if p_value < 0.05:\n",
    "    print(\"There is a statistically significant difference between groups.\")\n",
    "else:\n",
    "    print(\"No statistically significant difference between groups.\")"
   ]
  },
  {
   "cell_type": "code",
   "execution_count": 46,
   "id": "ada8dc70",
   "metadata": {},
   "outputs": [
    {
     "name": "stdout",
     "output_type": "stream",
     "text": [
      "F-Statistic: 2.1324297408864163\n",
      "P-Value: 0.0923124165635675\n",
      "No statistically significant difference between groups.\n"
     ]
    }
   ],
   "source": [
    "#11\n",
    "\n",
    "# Load your CSV file\n",
    "file_path = \"Volunteer Engagement in Sustainable Merton - Summary.csv\"  # Replace with your actual file path\n",
    "data = pd.read_csv(file_path)\n",
    "\n",
    "groups = data.groupby(\"How do you identify your ethnic background?\\n(Please select the option that best describes you.) \")[\"Satisfaction - Organisation\"]\n",
    "\n",
    "# Extract the scores for each age group\n",
    "anova_data = [group.dropna().values for _, group in groups]  # Drop NaN values if any\n",
    "\n",
    "# Perform one-way ANOVA\n",
    "f_stat, p_value = f_oneway(*anova_data)\n",
    "\n",
    "# Output the results\n",
    "print(f\"F-Statistic: {f_stat}\")\n",
    "print(f\"P-Value: {p_value}\")\n",
    "\n",
    "# Interpretation\n",
    "if p_value < 0.05:\n",
    "    print(\"There is a statistically significant difference between groups.\")\n",
    "else:\n",
    "    print(\"No statistically significant difference between groups.\")"
   ]
  },
  {
   "cell_type": "code",
   "execution_count": 47,
   "id": "d3092481",
   "metadata": {},
   "outputs": [
    {
     "name": "stdout",
     "output_type": "stream",
     "text": [
      "F-Statistic: 1.4263281471004243\n",
      "P-Value: 0.24074636164820193\n",
      "No statistically significant difference between groups.\n"
     ]
    }
   ],
   "source": [
    "#12\n",
    "\n",
    "# Load your CSV file\n",
    "file_path = \"Volunteer Engagement in Sustainable Merton - Summary.csv\"  # Replace with your actual file path\n",
    "data = pd.read_csv(file_path)\n",
    "\n",
    "groups = data.groupby(\"How do you identify your ethnic background?\\n(Please select the option that best describes you.) \")[\"Commitment\"]\n",
    "\n",
    "# Extract the scores for each age group\n",
    "anova_data = [group.dropna().values for _, group in groups]  # Drop NaN values if any\n",
    "\n",
    "# Perform one-way ANOVA\n",
    "f_stat, p_value = f_oneway(*anova_data)\n",
    "\n",
    "# Output the results\n",
    "print(f\"F-Statistic: {f_stat}\")\n",
    "print(f\"P-Value: {p_value}\")\n",
    "\n",
    "# Interpretation\n",
    "if p_value < 0.05:\n",
    "    print(\"There is a statistically significant difference between groups.\")\n",
    "else:\n",
    "    print(\"No statistically significant difference between groups.\")"
   ]
  },
  {
   "cell_type": "markdown",
   "id": "ceafa0f1",
   "metadata": {},
   "source": [
    "## 4. Disability Status"
   ]
  },
  {
   "cell_type": "code",
   "execution_count": 49,
   "id": "5b7382ba",
   "metadata": {},
   "outputs": [
    {
     "name": "stdout",
     "output_type": "stream",
     "text": [
      "F-Statistic: 0.29326246676347223\n",
      "P-Value: 0.7471810896102404\n",
      "No statistically significant difference between groups.\n"
     ]
    }
   ],
   "source": [
    "#1\n",
    "import pandas as pd\n",
    "from scipy.stats import f_oneway\n",
    "\n",
    "# Load your CSV file\n",
    "file_path = \"Volunteer Engagement in Sustainable Merton - Summary.csv\"  # Replace with your actual file path\n",
    "data = pd.read_csv(file_path)\n",
    "\n",
    "# Example: Perform ANOVA for \"Motivations - Career\" across \"Age\"\n",
    "# Ensure the column names match exactly in your dataset\n",
    "groups = data.groupby(\"Do you identify as having a disability? \")[\"Motivations - Career\"]\n",
    "\n",
    "# Extract the scores for each age group\n",
    "anova_data = [group.dropna().values for _, group in groups]  # Drop NaN values if any\n",
    "\n",
    "# Perform one-way ANOVA\n",
    "f_stat, p_value = f_oneway(*anova_data)\n",
    "\n",
    "# Output the results\n",
    "print(f\"F-Statistic: {f_stat}\")\n",
    "print(f\"P-Value: {p_value}\")\n",
    "\n",
    "# Interpretation\n",
    "if p_value < 0.05:\n",
    "    print(\"There is a statistically significant difference between groups.\")\n",
    "else:\n",
    "    print(\"No statistically significant difference between groups.\")"
   ]
  },
  {
   "cell_type": "code",
   "execution_count": 50,
   "id": "bfcc748c",
   "metadata": {},
   "outputs": [
    {
     "name": "stdout",
     "output_type": "stream",
     "text": [
      "F-Statistic: 0.4395352555902369\n",
      "P-Value: 0.6469570636757545\n",
      "No statistically significant difference between groups.\n"
     ]
    }
   ],
   "source": [
    "#2\n",
    "\n",
    "# Load your CSV file\n",
    "file_path = \"Volunteer Engagement in Sustainable Merton - Summary.csv\"  # Replace with your actual file path\n",
    "data = pd.read_csv(file_path)\n",
    "\n",
    "groups = data.groupby(\"Do you identify as having a disability? \")[\"Motivations - Social\"]\n",
    "\n",
    "# Extract the scores for each age group\n",
    "anova_data = [group.dropna().values for _, group in groups]  # Drop NaN values if any\n",
    "\n",
    "# Perform one-way ANOVA\n",
    "f_stat, p_value = f_oneway(*anova_data)\n",
    "\n",
    "# Output the results\n",
    "print(f\"F-Statistic: {f_stat}\")\n",
    "print(f\"P-Value: {p_value}\")\n",
    "\n",
    "# Interpretation\n",
    "if p_value < 0.05:\n",
    "    print(\"There is a statistically significant difference between groups.\")\n",
    "else:\n",
    "    print(\"No statistically significant difference between groups.\")"
   ]
  },
  {
   "cell_type": "code",
   "execution_count": 51,
   "id": "505ad4b6",
   "metadata": {},
   "outputs": [
    {
     "name": "stdout",
     "output_type": "stream",
     "text": [
      "F-Statistic: 1.2067217630854\n",
      "P-Value: 0.3082757334437812\n",
      "No statistically significant difference between groups.\n"
     ]
    }
   ],
   "source": [
    "#3\n",
    "\n",
    "# Load your CSV file\n",
    "file_path = \"Volunteer Engagement in Sustainable Merton - Summary.csv\"  # Replace with your actual file path\n",
    "data = pd.read_csv(file_path)\n",
    "\n",
    "groups = data.groupby(\"Do you identify as having a disability? \")[\"Motivations - Values\"]\n",
    "\n",
    "# Extract the scores for each age group\n",
    "anova_data = [group.dropna().values for _, group in groups]  # Drop NaN values if any\n",
    "\n",
    "# Perform one-way ANOVA\n",
    "f_stat, p_value = f_oneway(*anova_data)\n",
    "\n",
    "# Output the results\n",
    "print(f\"F-Statistic: {f_stat}\")\n",
    "print(f\"P-Value: {p_value}\")\n",
    "\n",
    "# Interpretation\n",
    "if p_value < 0.05:\n",
    "    print(\"There is a statistically significant difference between groups.\")\n",
    "else:\n",
    "    print(\"No statistically significant difference between groups.\")"
   ]
  },
  {
   "cell_type": "code",
   "execution_count": 52,
   "id": "da60dbed",
   "metadata": {},
   "outputs": [
    {
     "name": "stdout",
     "output_type": "stream",
     "text": [
      "F-Statistic: 0.8941183755643858\n",
      "P-Value: 0.41580937792316985\n",
      "No statistically significant difference between groups.\n"
     ]
    }
   ],
   "source": [
    "#4\n",
    "\n",
    "# Load your CSV file\n",
    "file_path = \"Volunteer Engagement in Sustainable Merton - Summary.csv\"  # Replace with your actual file path\n",
    "data = pd.read_csv(file_path)\n",
    "\n",
    "groups = data.groupby(\"Do you identify as having a disability? \")[\"Motivations - Understd\"]\n",
    "\n",
    "# Extract the scores for each age group\n",
    "anova_data = [group.dropna().values for _, group in groups]  # Drop NaN values if any\n",
    "\n",
    "# Perform one-way ANOVA\n",
    "f_stat, p_value = f_oneway(*anova_data)\n",
    "\n",
    "# Output the results\n",
    "print(f\"F-Statistic: {f_stat}\")\n",
    "print(f\"P-Value: {p_value}\")\n",
    "\n",
    "# Interpretation\n",
    "if p_value < 0.05:\n",
    "    print(\"There is a statistically significant difference between groups.\")\n",
    "else:\n",
    "    print(\"No statistically significant difference between groups.\")"
   ]
  },
  {
   "cell_type": "code",
   "execution_count": 53,
   "id": "a579809c",
   "metadata": {},
   "outputs": [
    {
     "name": "stdout",
     "output_type": "stream",
     "text": [
      "F-Statistic: 1.3239464235223422\n",
      "P-Value: 0.2758229314404366\n",
      "No statistically significant difference between groups.\n"
     ]
    }
   ],
   "source": [
    "#5\n",
    "\n",
    "# Load your CSV file\n",
    "file_path = \"Volunteer Engagement in Sustainable Merton - Summary.csv\"  # Replace with your actual file path\n",
    "data = pd.read_csv(file_path)\n",
    "\n",
    "groups = data.groupby(\"Do you identify as having a disability? \")[\"Motivations - Enhance\"]\n",
    "\n",
    "# Extract the scores for each age group\n",
    "anova_data = [group.dropna().values for _, group in groups]  # Drop NaN values if any\n",
    "\n",
    "# Perform one-way ANOVA\n",
    "f_stat, p_value = f_oneway(*anova_data)\n",
    "\n",
    "# Output the results\n",
    "print(f\"F-Statistic: {f_stat}\")\n",
    "print(f\"P-Value: {p_value}\")\n",
    "\n",
    "# Interpretation\n",
    "if p_value < 0.05:\n",
    "    print(\"There is a statistically significant difference between groups.\")\n",
    "else:\n",
    "    print(\"No statistically significant difference between groups.\")"
   ]
  },
  {
   "cell_type": "code",
   "execution_count": 54,
   "id": "86cdb273",
   "metadata": {},
   "outputs": [
    {
     "name": "stdout",
     "output_type": "stream",
     "text": [
      "F-Statistic: 2.6245848787190287\n",
      "P-Value: 0.08306802893501071\n",
      "No statistically significant difference between groups.\n"
     ]
    }
   ],
   "source": [
    "#6\n",
    "\n",
    "# Load your CSV file\n",
    "file_path = \"Volunteer Engagement in Sustainable Merton - Summary.csv\"  # Replace with your actual file path\n",
    "data = pd.read_csv(file_path)\n",
    "\n",
    "groups = data.groupby(\"Do you identify as having a disability? \")[\"Motivations - Protect\"]\n",
    "\n",
    "# Extract the scores for each age group\n",
    "anova_data = [group.dropna().values for _, group in groups]  # Drop NaN values if any\n",
    "\n",
    "# Perform one-way ANOVA\n",
    "f_stat, p_value = f_oneway(*anova_data)\n",
    "\n",
    "# Output the results\n",
    "print(f\"F-Statistic: {f_stat}\")\n",
    "print(f\"P-Value: {p_value}\")\n",
    "\n",
    "# Interpretation\n",
    "if p_value < 0.05:\n",
    "    print(\"There is a statistically significant difference between groups.\")\n",
    "else:\n",
    "    print(\"No statistically significant difference between groups.\")"
   ]
  },
  {
   "cell_type": "code",
   "execution_count": 55,
   "id": "a3674d04",
   "metadata": {},
   "outputs": [
    {
     "name": "stdout",
     "output_type": "stream",
     "text": [
      "F-Statistic: 0.8601932176967713\n",
      "P-Value: 0.42963300760444445\n",
      "No statistically significant difference between groups.\n"
     ]
    }
   ],
   "source": [
    "#7\n",
    "\n",
    "# Load your CSV file\n",
    "file_path = \"Volunteer Engagement in Sustainable Merton - Summary.csv\"  # Replace with your actual file path\n",
    "data = pd.read_csv(file_path)\n",
    "\n",
    "groups = data.groupby(\"Do you identify as having a disability? \")[\"Engagement - Vigor\"]\n",
    "\n",
    "# Extract the scores for each age group\n",
    "anova_data = [group.dropna().values for _, group in groups]  # Drop NaN values if any\n",
    "\n",
    "# Perform one-way ANOVA\n",
    "f_stat, p_value = f_oneway(*anova_data)\n",
    "\n",
    "# Output the results\n",
    "print(f\"F-Statistic: {f_stat}\")\n",
    "print(f\"P-Value: {p_value}\")\n",
    "\n",
    "# Interpretation\n",
    "if p_value < 0.05:\n",
    "    print(\"There is a statistically significant difference between groups.\")\n",
    "else:\n",
    "    print(\"No statistically significant difference between groups.\")"
   ]
  },
  {
   "cell_type": "code",
   "execution_count": 56,
   "id": "b0201421",
   "metadata": {},
   "outputs": [
    {
     "name": "stdout",
     "output_type": "stream",
     "text": [
      "F-Statistic: 0.3077423548865514\n",
      "P-Value: 0.7365745929583427\n",
      "No statistically significant difference between groups.\n"
     ]
    }
   ],
   "source": [
    "#8\n",
    "\n",
    "# Load your CSV file\n",
    "file_path = \"Volunteer Engagement in Sustainable Merton - Summary.csv\"  # Replace with your actual file path\n",
    "data = pd.read_csv(file_path)\n",
    "\n",
    "groups = data.groupby(\"Do you identify as having a disability? \")[\"Engagement - Dedication\"]\n",
    "\n",
    "# Extract the scores for each age group\n",
    "anova_data = [group.dropna().values for _, group in groups]  # Drop NaN values if any\n",
    "\n",
    "# Perform one-way ANOVA\n",
    "f_stat, p_value = f_oneway(*anova_data)\n",
    "\n",
    "# Output the results\n",
    "print(f\"F-Statistic: {f_stat}\")\n",
    "print(f\"P-Value: {p_value}\")\n",
    "\n",
    "# Interpretation\n",
    "if p_value < 0.05:\n",
    "    print(\"There is a statistically significant difference between groups.\")\n",
    "else:\n",
    "    print(\"No statistically significant difference between groups.\")"
   ]
  },
  {
   "cell_type": "code",
   "execution_count": 57,
   "id": "c166b800",
   "metadata": {},
   "outputs": [
    {
     "name": "stdout",
     "output_type": "stream",
     "text": [
      "F-Statistic: 0.7608486890847059\n",
      "P-Value: 0.47293778913195716\n",
      "No statistically significant difference between groups.\n"
     ]
    }
   ],
   "source": [
    "#9\n",
    "\n",
    "# Load your CSV file\n",
    "file_path = \"Volunteer Engagement in Sustainable Merton - Summary.csv\"  # Replace with your actual file path\n",
    "data = pd.read_csv(file_path)\n",
    "\n",
    "groups = data.groupby(\"Do you identify as having a disability? \")[\"Engagement - Absorption\"]\n",
    "\n",
    "# Extract the scores for each age group\n",
    "anova_data = [group.dropna().values for _, group in groups]  # Drop NaN values if any\n",
    "\n",
    "# Perform one-way ANOVA\n",
    "f_stat, p_value = f_oneway(*anova_data)\n",
    "\n",
    "# Output the results\n",
    "print(f\"F-Statistic: {f_stat}\")\n",
    "print(f\"P-Value: {p_value}\")\n",
    "\n",
    "# Interpretation\n",
    "if p_value < 0.05:\n",
    "    print(\"There is a statistically significant difference between groups.\")\n",
    "else:\n",
    "    print(\"No statistically significant difference between groups.\")"
   ]
  },
  {
   "cell_type": "code",
   "execution_count": 58,
   "id": "1e6fc6f0",
   "metadata": {},
   "outputs": [
    {
     "name": "stdout",
     "output_type": "stream",
     "text": [
      "F-Statistic: 0.6704420227745808\n",
      "P-Value: 0.5163055980017369\n",
      "No statistically significant difference between groups.\n"
     ]
    }
   ],
   "source": [
    "#10\n",
    "\n",
    "# Load your CSV file\n",
    "file_path = \"Volunteer Engagement in Sustainable Merton - Summary.csv\"  # Replace with your actual file path\n",
    "data = pd.read_csv(file_path)\n",
    "\n",
    "groups = data.groupby(\"Do you identify as having a disability? \")[\"Satisfaction - Task\"]\n",
    "\n",
    "# Extract the scores for each age group\n",
    "anova_data = [group.dropna().values for _, group in groups]  # Drop NaN values if any\n",
    "\n",
    "# Perform one-way ANOVA\n",
    "f_stat, p_value = f_oneway(*anova_data)\n",
    "\n",
    "# Output the results\n",
    "print(f\"F-Statistic: {f_stat}\")\n",
    "print(f\"P-Value: {p_value}\")\n",
    "\n",
    "# Interpretation\n",
    "if p_value < 0.05:\n",
    "    print(\"There is a statistically significant difference between groups.\")\n",
    "else:\n",
    "    print(\"No statistically significant difference between groups.\")"
   ]
  },
  {
   "cell_type": "code",
   "execution_count": 59,
   "id": "cfb6c625",
   "metadata": {},
   "outputs": [
    {
     "name": "stdout",
     "output_type": "stream",
     "text": [
      "F-Statistic: 1.0325211866187638\n",
      "P-Value: 0.3640436606435315\n",
      "No statistically significant difference between groups.\n"
     ]
    }
   ],
   "source": [
    "#11\n",
    "\n",
    "# Load your CSV file\n",
    "file_path = \"Volunteer Engagement in Sustainable Merton - Summary.csv\"  # Replace with your actual file path\n",
    "data = pd.read_csv(file_path)\n",
    "\n",
    "groups = data.groupby(\"Do you identify as having a disability? \")[\"Satisfaction - Organisation\"]\n",
    "\n",
    "# Extract the scores for each age group\n",
    "anova_data = [group.dropna().values for _, group in groups]  # Drop NaN values if any\n",
    "\n",
    "# Perform one-way ANOVA\n",
    "f_stat, p_value = f_oneway(*anova_data)\n",
    "\n",
    "# Output the results\n",
    "print(f\"F-Statistic: {f_stat}\")\n",
    "print(f\"P-Value: {p_value}\")\n",
    "\n",
    "# Interpretation\n",
    "if p_value < 0.05:\n",
    "    print(\"There is a statistically significant difference between groups.\")\n",
    "else:\n",
    "    print(\"No statistically significant difference between groups.\")"
   ]
  },
  {
   "cell_type": "code",
   "execution_count": 60,
   "id": "8d09a425",
   "metadata": {},
   "outputs": [
    {
     "name": "stdout",
     "output_type": "stream",
     "text": [
      "F-Statistic: 1.9965686469070665\n",
      "P-Value: 0.14715463759447273\n",
      "No statistically significant difference between groups.\n"
     ]
    }
   ],
   "source": [
    "#12\n",
    "\n",
    "# Load your CSV file\n",
    "file_path = \"Volunteer Engagement in Sustainable Merton - Summary.csv\"  # Replace with your actual file path\n",
    "data = pd.read_csv(file_path)\n",
    "\n",
    "groups = data.groupby(\"Do you identify as having a disability? \")[\"Commitment\"]\n",
    "\n",
    "# Extract the scores for each age group\n",
    "anova_data = [group.dropna().values for _, group in groups]  # Drop NaN values if any\n",
    "\n",
    "# Perform one-way ANOVA\n",
    "f_stat, p_value = f_oneway(*anova_data)\n",
    "\n",
    "# Output the results\n",
    "print(f\"F-Statistic: {f_stat}\")\n",
    "print(f\"P-Value: {p_value}\")\n",
    "\n",
    "# Interpretation\n",
    "if p_value < 0.05:\n",
    "    print(\"There is a statistically significant difference between groups.\")\n",
    "else:\n",
    "    print(\"No statistically significant difference between groups.\")"
   ]
  },
  {
   "cell_type": "markdown",
   "id": "faf63e9f",
   "metadata": {},
   "source": [
    "## 5. Education Level"
   ]
  },
  {
   "cell_type": "code",
   "execution_count": 62,
   "id": "08dd46be",
   "metadata": {},
   "outputs": [
    {
     "name": "stdout",
     "output_type": "stream",
     "text": [
      "F-Statistic: 2.6228436441276974\n",
      "P-Value: 0.036818374665591375\n",
      "There is a statistically significant difference between groups.\n"
     ]
    }
   ],
   "source": [
    "#1\n",
    "import pandas as pd\n",
    "from scipy.stats import f_oneway\n",
    "\n",
    "# Load your CSV file\n",
    "file_path = \"Volunteer Engagement in Sustainable Merton - Summary.csv\"  # Replace with your actual file path\n",
    "data = pd.read_csv(file_path)\n",
    "\n",
    "# Example: Perform ANOVA for \"Motivations - Career\" across \"Age\"\n",
    "# Ensure the column names match exactly in your dataset\n",
    "groups = data.groupby(\"What is the highest level of education you have completed?\\n(Please select the option that best describes your educational attainment.) \")[\"Motivations - Career\"]\n",
    "\n",
    "# Extract the scores for each age group\n",
    "anova_data = [group.dropna().values for _, group in groups]  # Drop NaN values if any\n",
    "\n",
    "# Perform one-way ANOVA\n",
    "f_stat, p_value = f_oneway(*anova_data)\n",
    "\n",
    "# Output the results\n",
    "print(f\"F-Statistic: {f_stat}\")\n",
    "print(f\"P-Value: {p_value}\")\n",
    "\n",
    "# Interpretation\n",
    "if p_value < 0.05:\n",
    "    print(\"There is a statistically significant difference between groups.\")\n",
    "else:\n",
    "    print(\"No statistically significant difference between groups.\")"
   ]
  },
  {
   "cell_type": "code",
   "execution_count": 63,
   "id": "abdd82b2",
   "metadata": {},
   "outputs": [
    {
     "name": "stdout",
     "output_type": "stream",
     "text": [
      "F-Statistic: 1.6922386933737177\n",
      "P-Value: 0.1564850068694703\n",
      "No statistically significant difference between groups.\n"
     ]
    }
   ],
   "source": [
    "#2\n",
    "\n",
    "# Load your CSV file\n",
    "file_path = \"Volunteer Engagement in Sustainable Merton - Summary.csv\"  # Replace with your actual file path\n",
    "data = pd.read_csv(file_path)\n",
    "\n",
    "groups = data.groupby(\"What is the highest level of education you have completed?\\n(Please select the option that best describes your educational attainment.) \")[\"Motivations - Social\"]\n",
    "\n",
    "# Extract the scores for each age group\n",
    "anova_data = [group.dropna().values for _, group in groups]  # Drop NaN values if any\n",
    "\n",
    "# Perform one-way ANOVA\n",
    "f_stat, p_value = f_oneway(*anova_data)\n",
    "\n",
    "# Output the results\n",
    "print(f\"F-Statistic: {f_stat}\")\n",
    "print(f\"P-Value: {p_value}\")\n",
    "\n",
    "# Interpretation\n",
    "if p_value < 0.05:\n",
    "    print(\"There is a statistically significant difference between groups.\")\n",
    "else:\n",
    "    print(\"No statistically significant difference between groups.\")"
   ]
  },
  {
   "cell_type": "code",
   "execution_count": 64,
   "id": "5f6b6e4f",
   "metadata": {},
   "outputs": [
    {
     "name": "stdout",
     "output_type": "stream",
     "text": [
      "F-Statistic: 0.20605155450990723\n",
      "P-Value: 0.9582137833416118\n",
      "No statistically significant difference between groups.\n"
     ]
    }
   ],
   "source": [
    "#3\n",
    "\n",
    "# Load your CSV file\n",
    "file_path = \"Volunteer Engagement in Sustainable Merton - Summary.csv\"  # Replace with your actual file path\n",
    "data = pd.read_csv(file_path)\n",
    "\n",
    "groups = data.groupby(\"What is the highest level of education you have completed?\\n(Please select the option that best describes your educational attainment.) \")[\"Motivations - Values\"]\n",
    "\n",
    "# Extract the scores for each age group\n",
    "anova_data = [group.dropna().values for _, group in groups]  # Drop NaN values if any\n",
    "\n",
    "# Perform one-way ANOVA\n",
    "f_stat, p_value = f_oneway(*anova_data)\n",
    "\n",
    "# Output the results\n",
    "print(f\"F-Statistic: {f_stat}\")\n",
    "print(f\"P-Value: {p_value}\")\n",
    "\n",
    "# Interpretation\n",
    "if p_value < 0.05:\n",
    "    print(\"There is a statistically significant difference between groups.\")\n",
    "else:\n",
    "    print(\"No statistically significant difference between groups.\")"
   ]
  },
  {
   "cell_type": "code",
   "execution_count": 65,
   "id": "acad0880",
   "metadata": {},
   "outputs": [
    {
     "name": "stdout",
     "output_type": "stream",
     "text": [
      "F-Statistic: 2.0329652069495388\n",
      "P-Value: 0.09249465820323804\n",
      "No statistically significant difference between groups.\n"
     ]
    }
   ],
   "source": [
    "#4\n",
    "\n",
    "# Load your CSV file\n",
    "file_path = \"Volunteer Engagement in Sustainable Merton - Summary.csv\"  # Replace with your actual file path\n",
    "data = pd.read_csv(file_path)\n",
    "\n",
    "groups = data.groupby(\"What is the highest level of education you have completed?\\n(Please select the option that best describes your educational attainment.) \")[\"Motivations - Understd\"]\n",
    "\n",
    "# Extract the scores for each age group\n",
    "anova_data = [group.dropna().values for _, group in groups]  # Drop NaN values if any\n",
    "\n",
    "# Perform one-way ANOVA\n",
    "f_stat, p_value = f_oneway(*anova_data)\n",
    "\n",
    "# Output the results\n",
    "print(f\"F-Statistic: {f_stat}\")\n",
    "print(f\"P-Value: {p_value}\")\n",
    "\n",
    "# Interpretation\n",
    "if p_value < 0.05:\n",
    "    print(\"There is a statistically significant difference between groups.\")\n",
    "else:\n",
    "    print(\"No statistically significant difference between groups.\")"
   ]
  },
  {
   "cell_type": "code",
   "execution_count": 66,
   "id": "bfb43205",
   "metadata": {},
   "outputs": [
    {
     "name": "stdout",
     "output_type": "stream",
     "text": [
      "F-Statistic: 6.412435809969861\n",
      "P-Value: 0.00014846977519976438\n",
      "There is a statistically significant difference between groups.\n"
     ]
    }
   ],
   "source": [
    "#5\n",
    "\n",
    "# Load your CSV file\n",
    "file_path = \"Volunteer Engagement in Sustainable Merton - Summary.csv\"  # Replace with your actual file path\n",
    "data = pd.read_csv(file_path)\n",
    "\n",
    "groups = data.groupby(\"What is the highest level of education you have completed?\\n(Please select the option that best describes your educational attainment.) \")[\"Motivations - Enhance\"]\n",
    "\n",
    "# Extract the scores for each age group\n",
    "anova_data = [group.dropna().values for _, group in groups]  # Drop NaN values if any\n",
    "\n",
    "# Perform one-way ANOVA\n",
    "f_stat, p_value = f_oneway(*anova_data)\n",
    "\n",
    "# Output the results\n",
    "print(f\"F-Statistic: {f_stat}\")\n",
    "print(f\"P-Value: {p_value}\")\n",
    "\n",
    "# Interpretation\n",
    "if p_value < 0.05:\n",
    "    print(\"There is a statistically significant difference between groups.\")\n",
    "else:\n",
    "    print(\"No statistically significant difference between groups.\")"
   ]
  },
  {
   "cell_type": "code",
   "execution_count": 67,
   "id": "be64e94d",
   "metadata": {},
   "outputs": [
    {
     "name": "stdout",
     "output_type": "stream",
     "text": [
      "F-Statistic: 3.5631284782478607\n",
      "P-Value: 0.008611872135272721\n",
      "There is a statistically significant difference between groups.\n"
     ]
    }
   ],
   "source": [
    "#6\n",
    "\n",
    "# Load your CSV file\n",
    "file_path = \"Volunteer Engagement in Sustainable Merton - Summary.csv\"  # Replace with your actual file path\n",
    "data = pd.read_csv(file_path)\n",
    "\n",
    "groups = data.groupby(\"What is the highest level of education you have completed?\\n(Please select the option that best describes your educational attainment.) \")[\"Motivations - Protect\"]\n",
    "\n",
    "# Extract the scores for each age group\n",
    "anova_data = [group.dropna().values for _, group in groups]  # Drop NaN values if any\n",
    "\n",
    "# Perform one-way ANOVA\n",
    "f_stat, p_value = f_oneway(*anova_data)\n",
    "\n",
    "# Output the results\n",
    "print(f\"F-Statistic: {f_stat}\")\n",
    "print(f\"P-Value: {p_value}\")\n",
    "\n",
    "# Interpretation\n",
    "if p_value < 0.05:\n",
    "    print(\"There is a statistically significant difference between groups.\")\n",
    "else:\n",
    "    print(\"No statistically significant difference between groups.\")"
   ]
  },
  {
   "cell_type": "code",
   "execution_count": 68,
   "id": "3f11d687",
   "metadata": {},
   "outputs": [
    {
     "name": "stdout",
     "output_type": "stream",
     "text": [
      "F-Statistic: 1.0514449452891559\n",
      "P-Value: 0.40002471870409245\n",
      "No statistically significant difference between groups.\n"
     ]
    }
   ],
   "source": [
    "#7\n",
    "\n",
    "# Load your CSV file\n",
    "file_path = \"Volunteer Engagement in Sustainable Merton - Summary.csv\"  # Replace with your actual file path\n",
    "data = pd.read_csv(file_path)\n",
    "\n",
    "groups = data.groupby(\"What is the highest level of education you have completed?\\n(Please select the option that best describes your educational attainment.) \")[\"Engagement - Vigor\"]\n",
    "\n",
    "# Extract the scores for each age group\n",
    "anova_data = [group.dropna().values for _, group in groups]  # Drop NaN values if any\n",
    "\n",
    "# Perform one-way ANOVA\n",
    "f_stat, p_value = f_oneway(*anova_data)\n",
    "\n",
    "# Output the results\n",
    "print(f\"F-Statistic: {f_stat}\")\n",
    "print(f\"P-Value: {p_value}\")\n",
    "\n",
    "# Interpretation\n",
    "if p_value < 0.05:\n",
    "    print(\"There is a statistically significant difference between groups.\")\n",
    "else:\n",
    "    print(\"No statistically significant difference between groups.\")"
   ]
  },
  {
   "cell_type": "code",
   "execution_count": 69,
   "id": "0d6669cd",
   "metadata": {},
   "outputs": [
    {
     "name": "stdout",
     "output_type": "stream",
     "text": [
      "F-Statistic: 0.5435792285035768\n",
      "P-Value: 0.7422061423812247\n",
      "No statistically significant difference between groups.\n"
     ]
    }
   ],
   "source": [
    "#8\n",
    "\n",
    "# Load your CSV file\n",
    "file_path = \"Volunteer Engagement in Sustainable Merton - Summary.csv\"  # Replace with your actual file path\n",
    "data = pd.read_csv(file_path)\n",
    "\n",
    "groups = data.groupby(\"What is the highest level of education you have completed?\\n(Please select the option that best describes your educational attainment.) \")[\"Engagement - Dedication\"]\n",
    "\n",
    "# Extract the scores for each age group\n",
    "anova_data = [group.dropna().values for _, group in groups]  # Drop NaN values if any\n",
    "\n",
    "# Perform one-way ANOVA\n",
    "f_stat, p_value = f_oneway(*anova_data)\n",
    "\n",
    "# Output the results\n",
    "print(f\"F-Statistic: {f_stat}\")\n",
    "print(f\"P-Value: {p_value}\")\n",
    "\n",
    "# Interpretation\n",
    "if p_value < 0.05:\n",
    "    print(\"There is a statistically significant difference between groups.\")\n",
    "else:\n",
    "    print(\"No statistically significant difference between groups.\")"
   ]
  },
  {
   "cell_type": "code",
   "execution_count": 70,
   "id": "1e18e460",
   "metadata": {},
   "outputs": [
    {
     "name": "stdout",
     "output_type": "stream",
     "text": [
      "F-Statistic: 0.848243137430178\n",
      "P-Value: 0.5232024023537936\n",
      "No statistically significant difference between groups.\n"
     ]
    }
   ],
   "source": [
    "#9\n",
    "\n",
    "# Load your CSV file\n",
    "file_path = \"Volunteer Engagement in Sustainable Merton - Summary.csv\"  # Replace with your actual file path\n",
    "data = pd.read_csv(file_path)\n",
    "\n",
    "groups = data.groupby(\"What is the highest level of education you have completed?\\n(Please select the option that best describes your educational attainment.) \")[\"Engagement - Absorption\"]\n",
    "\n",
    "# Extract the scores for each age group\n",
    "anova_data = [group.dropna().values for _, group in groups]  # Drop NaN values if any\n",
    "\n",
    "# Perform one-way ANOVA\n",
    "f_stat, p_value = f_oneway(*anova_data)\n",
    "\n",
    "# Output the results\n",
    "print(f\"F-Statistic: {f_stat}\")\n",
    "print(f\"P-Value: {p_value}\")\n",
    "\n",
    "# Interpretation\n",
    "if p_value < 0.05:\n",
    "    print(\"There is a statistically significant difference between groups.\")\n",
    "else:\n",
    "    print(\"No statistically significant difference between groups.\")"
   ]
  },
  {
   "cell_type": "code",
   "execution_count": 71,
   "id": "61dc55f0",
   "metadata": {},
   "outputs": [
    {
     "name": "stdout",
     "output_type": "stream",
     "text": [
      "F-Statistic: 1.0869367868015505\n",
      "P-Value: 0.3809352964479943\n",
      "No statistically significant difference between groups.\n"
     ]
    }
   ],
   "source": [
    "#10\n",
    "\n",
    "# Load your CSV file\n",
    "file_path = \"Volunteer Engagement in Sustainable Merton - Summary.csv\"  # Replace with your actual file path\n",
    "data = pd.read_csv(file_path)\n",
    "\n",
    "groups = data.groupby(\"What is the highest level of education you have completed?\\n(Please select the option that best describes your educational attainment.) \")[\"Satisfaction - Task\"]\n",
    "\n",
    "# Extract the scores for each age group\n",
    "anova_data = [group.dropna().values for _, group in groups]  # Drop NaN values if any\n",
    "\n",
    "# Perform one-way ANOVA\n",
    "f_stat, p_value = f_oneway(*anova_data)\n",
    "\n",
    "# Output the results\n",
    "print(f\"F-Statistic: {f_stat}\")\n",
    "print(f\"P-Value: {p_value}\")\n",
    "\n",
    "# Interpretation\n",
    "if p_value < 0.05:\n",
    "    print(\"There is a statistically significant difference between groups.\")\n",
    "else:\n",
    "    print(\"No statistically significant difference between groups.\")"
   ]
  },
  {
   "cell_type": "code",
   "execution_count": 72,
   "id": "6c8ccd38",
   "metadata": {},
   "outputs": [
    {
     "name": "stdout",
     "output_type": "stream",
     "text": [
      "F-Statistic: 1.0826664600871925\n",
      "P-Value: 0.38319342478146134\n",
      "No statistically significant difference between groups.\n"
     ]
    }
   ],
   "source": [
    "#11\n",
    "\n",
    "# Load your CSV file\n",
    "file_path = \"Volunteer Engagement in Sustainable Merton - Summary.csv\"  # Replace with your actual file path\n",
    "data = pd.read_csv(file_path)\n",
    "\n",
    "groups = data.groupby(\"What is the highest level of education you have completed?\\n(Please select the option that best describes your educational attainment.) \")[\"Satisfaction - Organisation\"]\n",
    "\n",
    "# Extract the scores for each age group\n",
    "anova_data = [group.dropna().values for _, group in groups]  # Drop NaN values if any\n",
    "\n",
    "# Perform one-way ANOVA\n",
    "f_stat, p_value = f_oneway(*anova_data)\n",
    "\n",
    "# Output the results\n",
    "print(f\"F-Statistic: {f_stat}\")\n",
    "print(f\"P-Value: {p_value}\")\n",
    "\n",
    "# Interpretation\n",
    "if p_value < 0.05:\n",
    "    print(\"There is a statistically significant difference between groups.\")\n",
    "else:\n",
    "    print(\"No statistically significant difference between groups.\")"
   ]
  },
  {
   "cell_type": "code",
   "execution_count": 73,
   "id": "e2b9415a",
   "metadata": {},
   "outputs": [
    {
     "name": "stdout",
     "output_type": "stream",
     "text": [
      "F-Statistic: 1.326530263819027\n",
      "P-Value: 0.2706828460366153\n",
      "No statistically significant difference between groups.\n"
     ]
    }
   ],
   "source": [
    "#12\n",
    "\n",
    "# Load your CSV file\n",
    "file_path = \"Volunteer Engagement in Sustainable Merton - Summary.csv\"  # Replace with your actual file path\n",
    "data = pd.read_csv(file_path)\n",
    "\n",
    "groups = data.groupby(\"What is the highest level of education you have completed?\\n(Please select the option that best describes your educational attainment.) \")[\"Commitment\"]\n",
    "\n",
    "# Extract the scores for each age group\n",
    "anova_data = [group.dropna().values for _, group in groups]  # Drop NaN values if any\n",
    "\n",
    "# Perform one-way ANOVA\n",
    "f_stat, p_value = f_oneway(*anova_data)\n",
    "\n",
    "# Output the results\n",
    "print(f\"F-Statistic: {f_stat}\")\n",
    "print(f\"P-Value: {p_value}\")\n",
    "\n",
    "# Interpretation\n",
    "if p_value < 0.05:\n",
    "    print(\"There is a statistically significant difference between groups.\")\n",
    "else:\n",
    "    print(\"No statistically significant difference between groups.\")"
   ]
  },
  {
   "cell_type": "markdown",
   "id": "58745399",
   "metadata": {},
   "source": [
    "## 6. Employment Status"
   ]
  },
  {
   "cell_type": "code",
   "execution_count": 75,
   "id": "35ee439d",
   "metadata": {},
   "outputs": [
    {
     "name": "stdout",
     "output_type": "stream",
     "text": [
      "F-Statistic: 4.051336613108195\n",
      "P-Value: 0.0017867449872141982\n",
      "There is a statistically significant difference between groups.\n"
     ]
    }
   ],
   "source": [
    "#1\n",
    "import pandas as pd\n",
    "from scipy.stats import f_oneway\n",
    "\n",
    "# Load your CSV file\n",
    "file_path = \"Volunteer Engagement in Sustainable Merton - Summary.csv\"  # Replace with your actual file path\n",
    "data = pd.read_csv(file_path)\n",
    "\n",
    "# Example: Perform ANOVA for \"Motivations - Career\" across \"Age\"\n",
    "# Ensure the column names match exactly in your dataset\n",
    "groups = data.groupby(\"What is your current employment status?\\n(Please select the option that best describes your current employment status.) \")[\"Motivations - Career\"]\n",
    "\n",
    "# Extract the scores for each age group\n",
    "anova_data = [group.dropna().values for _, group in groups]  # Drop NaN values if any\n",
    "\n",
    "# Perform one-way ANOVA\n",
    "f_stat, p_value = f_oneway(*anova_data)\n",
    "\n",
    "# Output the results\n",
    "print(f\"F-Statistic: {f_stat}\")\n",
    "print(f\"P-Value: {p_value}\")\n",
    "\n",
    "# Interpretation\n",
    "if p_value < 0.05:\n",
    "    print(\"There is a statistically significant difference between groups.\")\n",
    "else:\n",
    "    print(\"No statistically significant difference between groups.\")"
   ]
  },
  {
   "cell_type": "code",
   "execution_count": 76,
   "id": "ff713295",
   "metadata": {},
   "outputs": [
    {
     "name": "stdout",
     "output_type": "stream",
     "text": [
      "F-Statistic: 3.0805187483049226\n",
      "P-Value: 0.010343173841568977\n",
      "There is a statistically significant difference between groups.\n"
     ]
    }
   ],
   "source": [
    "#2\n",
    "\n",
    "# Load your CSV file\n",
    "file_path = \"Volunteer Engagement in Sustainable Merton - Summary.csv\"  # Replace with your actual file path\n",
    "data = pd.read_csv(file_path)\n",
    "\n",
    "groups = data.groupby(\"What is your current employment status?\\n(Please select the option that best describes your current employment status.) \")[\"Motivations - Social\"]\n",
    "\n",
    "# Extract the scores for each age group\n",
    "anova_data = [group.dropna().values for _, group in groups]  # Drop NaN values if any\n",
    "\n",
    "# Perform one-way ANOVA\n",
    "f_stat, p_value = f_oneway(*anova_data)\n",
    "\n",
    "# Output the results\n",
    "print(f\"F-Statistic: {f_stat}\")\n",
    "print(f\"P-Value: {p_value}\")\n",
    "\n",
    "# Interpretation\n",
    "if p_value < 0.05:\n",
    "    print(\"There is a statistically significant difference between groups.\")\n",
    "else:\n",
    "    print(\"No statistically significant difference between groups.\")"
   ]
  },
  {
   "cell_type": "code",
   "execution_count": 77,
   "id": "e9acc219",
   "metadata": {},
   "outputs": [
    {
     "name": "stdout",
     "output_type": "stream",
     "text": [
      "F-Statistic: 1.912728469465414\n",
      "P-Value: 0.09153323484561285\n",
      "No statistically significant difference between groups.\n"
     ]
    }
   ],
   "source": [
    "#3\n",
    "\n",
    "# Load your CSV file\n",
    "file_path = \"Volunteer Engagement in Sustainable Merton - Summary.csv\"  # Replace with your actual file path\n",
    "data = pd.read_csv(file_path)\n",
    "\n",
    "groups = data.groupby(\"What is your current employment status?\\n(Please select the option that best describes your current employment status.) \")[\"Motivations - Values\"]\n",
    "\n",
    "# Extract the scores for each age group\n",
    "anova_data = [group.dropna().values for _, group in groups]  # Drop NaN values if any\n",
    "\n",
    "# Perform one-way ANOVA\n",
    "f_stat, p_value = f_oneway(*anova_data)\n",
    "\n",
    "# Output the results\n",
    "print(f\"F-Statistic: {f_stat}\")\n",
    "print(f\"P-Value: {p_value}\")\n",
    "\n",
    "# Interpretation\n",
    "if p_value < 0.05:\n",
    "    print(\"There is a statistically significant difference between groups.\")\n",
    "else:\n",
    "    print(\"No statistically significant difference between groups.\")"
   ]
  },
  {
   "cell_type": "code",
   "execution_count": 78,
   "id": "f111ea2e",
   "metadata": {},
   "outputs": [
    {
     "name": "stdout",
     "output_type": "stream",
     "text": [
      "F-Statistic: 1.9009162105263153\n",
      "P-Value: 0.09355569990366565\n",
      "No statistically significant difference between groups.\n"
     ]
    }
   ],
   "source": [
    "#4\n",
    "\n",
    "# Load your CSV file\n",
    "file_path = \"Volunteer Engagement in Sustainable Merton - Summary.csv\"  # Replace with your actual file path\n",
    "data = pd.read_csv(file_path)\n",
    "\n",
    "groups = data.groupby(\"What is your current employment status?\\n(Please select the option that best describes your current employment status.) \")[\"Motivations - Understd\"]\n",
    "\n",
    "# Extract the scores for each age group\n",
    "anova_data = [group.dropna().values for _, group in groups]  # Drop NaN values if any\n",
    "\n",
    "# Perform one-way ANOVA\n",
    "f_stat, p_value = f_oneway(*anova_data)\n",
    "\n",
    "# Output the results\n",
    "print(f\"F-Statistic: {f_stat}\")\n",
    "print(f\"P-Value: {p_value}\")\n",
    "\n",
    "# Interpretation\n",
    "if p_value < 0.05:\n",
    "    print(\"There is a statistically significant difference between groups.\")\n",
    "else:\n",
    "    print(\"No statistically significant difference between groups.\")"
   ]
  },
  {
   "cell_type": "code",
   "execution_count": 79,
   "id": "3009437a",
   "metadata": {},
   "outputs": [
    {
     "name": "stdout",
     "output_type": "stream",
     "text": [
      "F-Statistic: 1.0939736561024611\n",
      "P-Value: 0.3845246189107069\n",
      "No statistically significant difference between groups.\n"
     ]
    }
   ],
   "source": [
    "#7\n",
    "\n",
    "# Load your CSV file\n",
    "file_path = \"Volunteer Engagement in Sustainable Merton - Summary.csv\"  # Replace with your actual file path\n",
    "data = pd.read_csv(file_path)\n",
    "\n",
    "groups = data.groupby(\"What is your current employment status?\\n(Please select the option that best describes your current employment status.) \")[\"Engagement - Vigor\"]\n",
    "\n",
    "# Extract the scores for each age group\n",
    "anova_data = [group.dropna().values for _, group in groups]  # Drop NaN values if any\n",
    "\n",
    "# Perform one-way ANOVA\n",
    "f_stat, p_value = f_oneway(*anova_data)\n",
    "\n",
    "# Output the results\n",
    "print(f\"F-Statistic: {f_stat}\")\n",
    "print(f\"P-Value: {p_value}\")\n",
    "\n",
    "# Interpretation\n",
    "if p_value < 0.05:\n",
    "    print(\"There is a statistically significant difference between groups.\")\n",
    "else:\n",
    "    print(\"No statistically significant difference between groups.\")"
   ]
  },
  {
   "cell_type": "code",
   "execution_count": 80,
   "id": "87c4bac5",
   "metadata": {},
   "outputs": [
    {
     "name": "stdout",
     "output_type": "stream",
     "text": [
      "F-Statistic: 0.9102211032570479\n",
      "P-Value: 0.5080122985420146\n",
      "No statistically significant difference between groups.\n"
     ]
    }
   ],
   "source": [
    "#8\n",
    "\n",
    "# Load your CSV file\n",
    "file_path = \"Volunteer Engagement in Sustainable Merton - Summary.csv\"  # Replace with your actual file path\n",
    "data = pd.read_csv(file_path)\n",
    "\n",
    "groups = data.groupby(\"What is your current employment status?\\n(Please select the option that best describes your current employment status.) \")[\"Engagement - Dedication\"]\n",
    "\n",
    "# Extract the scores for each age group\n",
    "anova_data = [group.dropna().values for _, group in groups]  # Drop NaN values if any\n",
    "\n",
    "# Perform one-way ANOVA\n",
    "f_stat, p_value = f_oneway(*anova_data)\n",
    "\n",
    "# Output the results\n",
    "print(f\"F-Statistic: {f_stat}\")\n",
    "print(f\"P-Value: {p_value}\")\n",
    "\n",
    "# Interpretation\n",
    "if p_value < 0.05:\n",
    "    print(\"There is a statistically significant difference between groups.\")\n",
    "else:\n",
    "    print(\"No statistically significant difference between groups.\")"
   ]
  },
  {
   "cell_type": "code",
   "execution_count": 81,
   "id": "6b8e91cd",
   "metadata": {},
   "outputs": [
    {
     "name": "stdout",
     "output_type": "stream",
     "text": [
      "F-Statistic: 0.6874480703239166\n",
      "P-Value: 0.6819165301958185\n",
      "No statistically significant difference between groups.\n"
     ]
    }
   ],
   "source": [
    "#9\n",
    "\n",
    "# Load your CSV file\n",
    "file_path = \"Volunteer Engagement in Sustainable Merton - Summary.csv\"  # Replace with your actual file path\n",
    "data = pd.read_csv(file_path)\n",
    "\n",
    "groups = data.groupby(\"What is your current employment status?\\n(Please select the option that best describes your current employment status.) \")[\"Engagement - Absorption\"]\n",
    "\n",
    "# Extract the scores for each age group\n",
    "anova_data = [group.dropna().values for _, group in groups]  # Drop NaN values if any\n",
    "\n",
    "# Perform one-way ANOVA\n",
    "f_stat, p_value = f_oneway(*anova_data)\n",
    "\n",
    "# Output the results\n",
    "print(f\"F-Statistic: {f_stat}\")\n",
    "print(f\"P-Value: {p_value}\")\n",
    "\n",
    "# Interpretation\n",
    "if p_value < 0.05:\n",
    "    print(\"There is a statistically significant difference between groups.\")\n",
    "else:\n",
    "    print(\"No statistically significant difference between groups.\")"
   ]
  },
  {
   "cell_type": "code",
   "execution_count": 82,
   "id": "91b3ee05",
   "metadata": {},
   "outputs": [
    {
     "name": "stdout",
     "output_type": "stream",
     "text": [
      "F-Statistic: 0.6787517209729232\n",
      "P-Value: 0.6889536475897975\n",
      "No statistically significant difference between groups.\n"
     ]
    }
   ],
   "source": [
    "#10\n",
    "\n",
    "# Load your CSV file\n",
    "file_path = \"Volunteer Engagement in Sustainable Merton - Summary.csv\"  # Replace with your actual file path\n",
    "data = pd.read_csv(file_path)\n",
    "\n",
    "groups = data.groupby(\"What is your current employment status?\\n(Please select the option that best describes your current employment status.) \")[\"Satisfaction - Task\"]\n",
    "\n",
    "# Extract the scores for each age group\n",
    "anova_data = [group.dropna().values for _, group in groups]  # Drop NaN values if any\n",
    "\n",
    "# Perform one-way ANOVA\n",
    "f_stat, p_value = f_oneway(*anova_data)\n",
    "\n",
    "# Output the results\n",
    "print(f\"F-Statistic: {f_stat}\")\n",
    "print(f\"P-Value: {p_value}\")\n",
    "\n",
    "# Interpretation\n",
    "if p_value < 0.05:\n",
    "    print(\"There is a statistically significant difference between groups.\")\n",
    "else:\n",
    "    print(\"No statistically significant difference between groups.\")"
   ]
  },
  {
   "cell_type": "code",
   "execution_count": 83,
   "id": "516d8227",
   "metadata": {},
   "outputs": [
    {
     "name": "stdout",
     "output_type": "stream",
     "text": [
      "F-Statistic: 0.5690419774429386\n",
      "P-Value: 0.7767145615559377\n",
      "No statistically significant difference between groups.\n"
     ]
    }
   ],
   "source": [
    "#11\n",
    "\n",
    "# Load your CSV file\n",
    "file_path = \"Volunteer Engagement in Sustainable Merton - Summary.csv\"  # Replace with your actual file path\n",
    "data = pd.read_csv(file_path)\n",
    "\n",
    "groups = data.groupby(\"What is your current employment status?\\n(Please select the option that best describes your current employment status.) \")[\"Satisfaction - Organisation\"]\n",
    "\n",
    "# Extract the scores for each age group\n",
    "anova_data = [group.dropna().values for _, group in groups]  # Drop NaN values if any\n",
    "\n",
    "# Perform one-way ANOVA\n",
    "f_stat, p_value = f_oneway(*anova_data)\n",
    "\n",
    "# Output the results\n",
    "print(f\"F-Statistic: {f_stat}\")\n",
    "print(f\"P-Value: {p_value}\")\n",
    "\n",
    "# Interpretation\n",
    "if p_value < 0.05:\n",
    "    print(\"There is a statistically significant difference between groups.\")\n",
    "else:\n",
    "    print(\"No statistically significant difference between groups.\")"
   ]
  },
  {
   "cell_type": "code",
   "execution_count": 84,
   "id": "6f7c4dce",
   "metadata": {},
   "outputs": [
    {
     "name": "stdout",
     "output_type": "stream",
     "text": [
      "F-Statistic: 0.672851604256745\n",
      "P-Value: 0.6937276805744885\n",
      "No statistically significant difference between groups.\n"
     ]
    }
   ],
   "source": [
    "#12\n",
    "\n",
    "# Load your CSV file\n",
    "file_path = \"Volunteer Engagement in Sustainable Merton - Summary.csv\"  # Replace with your actual file path\n",
    "data = pd.read_csv(file_path)\n",
    "\n",
    "groups = data.groupby(\"What is your current employment status?\\n(Please select the option that best describes your current employment status.) \")[\"Commitment\"]\n",
    "\n",
    "# Extract the scores for each age group\n",
    "anova_data = [group.dropna().values for _, group in groups]  # Drop NaN values if any\n",
    "\n",
    "# Perform one-way ANOVA\n",
    "f_stat, p_value = f_oneway(*anova_data)\n",
    "\n",
    "# Output the results\n",
    "print(f\"F-Statistic: {f_stat}\")\n",
    "print(f\"P-Value: {p_value}\")\n",
    "\n",
    "# Interpretation\n",
    "if p_value < 0.05:\n",
    "    print(\"There is a statistically significant difference between groups.\")\n",
    "else:\n",
    "    print(\"No statistically significant difference between groups.\")"
   ]
  },
  {
   "cell_type": "markdown",
   "id": "ae6f4e94",
   "metadata": {},
   "source": [
    "# Chi Square Test to Analyze Relationship between Project Involvement and Motivation"
   ]
  },
  {
   "cell_type": "code",
   "execution_count": 85,
   "id": "b7cc74e7",
   "metadata": {},
   "outputs": [
    {
     "name": "stdout",
     "output_type": "stream",
     "text": [
      "Chi-Square Test for Motivations - Career\n",
      "Chi-Square Statistic: 12.712053571428573, P-Value: 0.24021975918811614\n",
      "Degrees of Freedom: 10\n",
      "Expected Frequencies:\n",
      "[[8.96 2.24 2.8 ]\n",
      " [4.48 1.12 1.4 ]\n",
      " [8.96 2.24 2.8 ]\n",
      " [7.68 1.92 2.4 ]\n",
      " [1.28 0.32 0.4 ]\n",
      " [0.64 0.16 0.2 ]]\n",
      "-----\n",
      "\n",
      "No significant relationship between Project Involvement and Motivations - Career.\n",
      "\n",
      "Chi-Square Test for Motivations - Social\n",
      "Chi-Square Statistic: 14.871482683982682, P-Value: 0.13681809114689505\n",
      "Degrees of Freedom: 10\n",
      "Expected Frequencies:\n",
      "[[6.16 5.6  2.24]\n",
      " [3.08 2.8  1.12]\n",
      " [6.16 5.6  2.24]\n",
      " [5.28 4.8  1.92]\n",
      " [0.88 0.8  0.32]\n",
      " [0.44 0.4  0.16]]\n",
      "-----\n",
      "\n",
      "No significant relationship between Project Involvement and Motivations - Social.\n",
      "\n",
      "Chi-Square Test for Motivations - Values\n",
      "Chi-Square Statistic: 11.659306195596518, P-Value: 0.30850469973913525\n",
      "Degrees of Freedom: 10\n",
      "Expected Frequencies:\n",
      "[[1.12 4.2  8.68]\n",
      " [0.56 2.1  4.34]\n",
      " [1.12 4.2  8.68]\n",
      " [0.96 3.6  7.44]\n",
      " [0.16 0.6  1.24]\n",
      " [0.08 0.3  0.62]]\n",
      "-----\n",
      "\n",
      "No significant relationship between Project Involvement and Motivations - Values.\n",
      "\n",
      "Chi-Square Test for Motivations - Understd\n",
      "Chi-Square Statistic: 19.235209235209233, P-Value: 0.03737489217474844\n",
      "Degrees of Freedom: 10\n",
      "Expected Frequencies:\n",
      "[[3.08 4.2  6.72]\n",
      " [1.54 2.1  3.36]\n",
      " [3.08 4.2  6.72]\n",
      " [2.64 3.6  5.76]\n",
      " [0.44 0.6  0.96]\n",
      " [0.22 0.3  0.48]]\n",
      "-----\n",
      "\n",
      "There is a significant relationship between Project Involvement and Motivations - Understd.\n",
      "\n",
      "Chi-Square Test for Motivations - Enhance\n",
      "Chi-Square Statistic: 12.722086940836942, P-Value: 0.23962798343996222\n",
      "Degrees of Freedom: 10\n",
      "Expected Frequencies:\n",
      "[[4.48 6.16 3.36]\n",
      " [2.24 3.08 1.68]\n",
      " [4.48 6.16 3.36]\n",
      " [3.84 5.28 2.88]\n",
      " [0.64 0.88 0.48]\n",
      " [0.32 0.44 0.24]]\n",
      "-----\n",
      "\n",
      "No significant relationship between Project Involvement and Motivations - Enhance.\n",
      "\n",
      "Chi-Square Test for Motivations - Protect\n",
      "Chi-Square Statistic: 8.577533577533577, P-Value: 0.5726101505366552\n",
      "Degrees of Freedom: 10\n",
      "Expected Frequencies:\n",
      "[[3.36 7.28 3.36]\n",
      " [1.68 3.64 1.68]\n",
      " [3.36 7.28 3.36]\n",
      " [2.88 6.24 2.88]\n",
      " [0.48 1.04 0.48]\n",
      " [0.24 0.52 0.24]]\n",
      "-----\n",
      "\n",
      "No significant relationship between Project Involvement and Motivations - Protect.\n",
      "\n"
     ]
    }
   ],
   "source": [
    "import pandas as pd\n",
    "from scipy.stats import chi2_contingency\n",
    "\n",
    "# Load your data (adjust file path and column names as needed)\n",
    "# Re-loading the data after code execution state reset\n",
    "file_path = 'Volunteer Engagement in Sustainable Merton - Project Involvement vs Motivation.xlsx'\n",
    "sheet_name = 'Project Involvement'\n",
    "\n",
    "# Read the data from the sheet\n",
    "data = pd.read_excel(file_path, sheet_name=sheet_name)\n",
    "\n",
    "# Step 1: Categorize motivation scores into bins (e.g., Low, Medium, High)\n",
    "# Example: Categorizing \"Motivations - Career\" into 3 bins\n",
    "data['Motivations_Career_Binned'] = pd.cut(data['Motivations - Career'], bins=3, labels=[\"Low\", \"Medium\", \"High\"])\n",
    "\n",
    "# Repeat for other motivation columns as needed\n",
    "motivation_columns = ['Motivations - Career', 'Motivations - Social', 'Motivations - Values', \n",
    "                      'Motivations - Understd', 'Motivations - Enhance', 'Motivations - Protect']\n",
    "\n",
    "for col in motivation_columns:\n",
    "    data[f'{col}_Binned'] = pd.cut(data[col], bins=3, labels=[\"Low\", \"Medium\", \"High\"])\n",
    "\n",
    "# Step 2: Perform chi-square test for each motivation variable against \"Project Involvement\"\n",
    "for col in motivation_columns:\n",
    "    contingency_table = pd.crosstab(data['Project Involvement'], data[f'{col}_Binned'])\n",
    "    chi2, p, dof, expected = chi2_contingency(contingency_table)\n",
    "\n",
    "    print(f\"Chi-Square Test for {col}\")\n",
    "    print(f\"Chi-Square Statistic: {chi2}, P-Value: {p}\")\n",
    "    print(f\"Degrees of Freedom: {dof}\")\n",
    "    print(\"Expected Frequencies:\")\n",
    "    print(expected)\n",
    "    print(\"-----\\n\")\n",
    "\n",
    "    # Interpretation\n",
    "    if p < 0.05:\n",
    "        print(f\"There is a significant relationship between Project Involvement and {col}.\\n\")\n",
    "    else:\n",
    "        print(f\"No significant relationship between Project Involvement and {col}.\\n\")"
   ]
  },
  {
   "cell_type": "code",
   "execution_count": 89,
   "id": "8832647c",
   "metadata": {},
   "outputs": [
    {
     "data": {
      "image/png": "[encoded data removed]",
      "text/plain": [
       "<Figure size 640x480 with 2 Axes>"
      ]
     },
     "metadata": {},
     "output_type": "display_data"
    }
   ],
   "source": [
    "import seaborn as sns\n",
    "import matplotlib.pyplot as plt\n",
    "\n",
    "# Heatmap for one motivation variable\n",
    "contingency_table = pd.crosstab(data['Project Involvement'], data['Motivations - Understd_Binned'])\n",
    "sns.heatmap(contingency_table, annot=True, fmt=\"d\", cmap=\"YlGnBu\")\n",
    "plt.title(\"Project Involvement vs. Motivations - Understd\")\n",
    "plt.xlabel(\"Motivations - Understd (Binned)\")\n",
    "plt.ylabel(\"Project Involvement\")\n",
    "plt.show()"
   ]
  },
  {
   "cell_type": "markdown",
   "id": "14c71423",
   "metadata": {},
   "source": [
    "# Chi Square Test to Analyze Relationship between Hours and Engagement&Satisfaction"
   ]
  },
  {
   "cell_type": "code",
   "execution_count": 92,
   "id": "47d57e5c",
   "metadata": {},
   "outputs": [
    {
     "name": "stdout",
     "output_type": "stream",
     "text": [
      "Chi-Square Test for Hours vs Engagement - Vigor\n",
      "Chi-Square Statistic: 6.733141877601906, P-Value: 0.565679255670171\n",
      "Degrees of Freedom: 8\n",
      "Expected Frequencies:\n",
      "[[ 0.36  4.5   4.14]\n",
      " [ 1.24 15.5  14.26]\n",
      " [ 0.28  3.5   3.22]\n",
      " [ 0.08  1.    0.92]\n",
      " [ 0.04  0.5   0.46]]\n",
      "-----\n",
      "\n",
      "No significant relationship between Hours and Engagement - Vigor.\n",
      "\n",
      "Chi-Square Test for Hours vs Engagement - Dedication\n",
      "Chi-Square Statistic: 13.430127220449803, P-Value: 0.09788236620084259\n",
      "Degrees of Freedom: 8\n",
      "Expected Frequencies:\n",
      "[[ 0.9   2.34  5.76]\n",
      " [ 3.1   8.06 19.84]\n",
      " [ 0.7   1.82  4.48]\n",
      " [ 0.2   0.52  1.28]\n",
      " [ 0.1   0.26  0.64]]\n",
      "-----\n",
      "\n",
      "No significant relationship between Hours and Engagement - Dedication.\n",
      "\n",
      "Chi-Square Test for Hours vs Engagement - Absorption\n",
      "Chi-Square Statistic: 10.063771354093936, P-Value: 0.26057851101084806\n",
      "Degrees of Freedom: 8\n",
      "Expected Frequencies:\n",
      "[[ 1.08  3.96  3.96]\n",
      " [ 3.72 13.64 13.64]\n",
      " [ 0.84  3.08  3.08]\n",
      " [ 0.24  0.88  0.88]\n",
      " [ 0.12  0.44  0.44]]\n",
      "-----\n",
      "\n",
      "No significant relationship between Hours and Engagement - Absorption.\n",
      "\n",
      "Chi-Square Test for Hours vs Satisfaction - Task\n",
      "Chi-Square Statistic: 2.9326776138479063, P-Value: 0.9385110217940594\n",
      "Degrees of Freedom: 8\n",
      "Expected Frequencies:\n",
      "[[1.800e-01 1.080e+00 7.740e+00]\n",
      " [6.200e-01 3.720e+00 2.666e+01]\n",
      " [1.400e-01 8.400e-01 6.020e+00]\n",
      " [4.000e-02 2.400e-01 1.720e+00]\n",
      " [2.000e-02 1.200e-01 8.600e-01]]\n",
      "-----\n",
      "\n",
      "No significant relationship between Hours and Satisfaction - Task.\n",
      "\n",
      "Chi-Square Test for Hours vs Satisfaction - Organisation\n",
      "Chi-Square Statistic: 8.313848215318036, P-Value: 0.4034283930227826\n",
      "Degrees of Freedom: 8\n",
      "Expected Frequencies:\n",
      "[[ 0.54  2.88  5.58]\n",
      " [ 1.86  9.92 19.22]\n",
      " [ 0.42  2.24  4.34]\n",
      " [ 0.12  0.64  1.24]\n",
      " [ 0.06  0.32  0.62]]\n",
      "-----\n",
      "\n",
      "No significant relationship between Hours and Satisfaction - Organisation.\n",
      "\n"
     ]
    }
   ],
   "source": [
    "# Load the dataset (adjust file path and sheet name as needed)\n",
    "file_path = \"Volunteer Engagement in Sustainable Merton - Project Involvement vs Motivation.xlsx\"  # Replace with your actual file path\n",
    "sheet_name = \"Hours\"         # Replace with the correct sheet name\n",
    "data = pd.read_excel(file_path, sheet_name=sheet_name)\n",
    "\n",
    "# Variables for analysis\n",
    "independent_var = \"Hours\"\n",
    "dependent_vars = [\"Engagement - Vigor\", \"Engagement - Dedication\", \"Engagement - Absorption\", \n",
    "                  \"Satisfaction - Task\", \"Satisfaction - Organisation\"]\n",
    "\n",
    "# Step 1: Categorize engagement and satisfaction scores into bins (Low, Medium, High)\n",
    "for dep_var in dependent_vars:\n",
    "    data[f'{dep_var}_Binned'] = pd.cut(data[dep_var], bins=3, labels=[\"Low\", \"Medium\", \"High\"])\n",
    "\n",
    "# Step 2: Perform chi-square test for each dependent variable against Hours\n",
    "for dep_var in dependent_vars:\n",
    "    contingency_table = pd.crosstab(data[independent_var], data[f'{dep_var}_Binned'])\n",
    "    chi2, p, dof, expected = chi2_contingency(contingency_table)\n",
    "    \n",
    "    # Print results\n",
    "    print(f\"Chi-Square Test for {independent_var} vs {dep_var}\")\n",
    "    print(f\"Chi-Square Statistic: {chi2}, P-Value: {p}\")\n",
    "    print(f\"Degrees of Freedom: {dof}\")\n",
    "    print(\"Expected Frequencies:\")\n",
    "    print(expected)\n",
    "    print(\"-----\\n\")\n",
    "\n",
    "    # Interpretation\n",
    "    if p < 0.05:\n",
    "        print(f\"There is a significant relationship between {independent_var} and {dep_var}.\\n\")\n",
    "    else:\n",
    "        print(f\"No significant relationship between {independent_var} and {dep_var}.\\n\")"
   ]
  },
  {
   "cell_type": "markdown",
   "id": "fcdaeb61",
   "metadata": {},
   "source": [
    "# Sustainability Correlations"
   ]
  },
  {
   "cell_type": "code",
   "execution_count": 93,
   "id": "8fe8090b",
   "metadata": {},
   "outputs": [
    {
     "name": "stdout",
     "output_type": "stream",
     "text": [
      "Correlation Results:\n",
      "                       Variable  Correlation   P-Value  Significant\n",
      "0          Motivations - Career     0.445791  0.001177         True\n",
      "1          Motivations - Social     0.495212  0.000256         True\n",
      "2          Motivations - Values     0.497574  0.000237         True\n",
      "3        Motivations - Understd     0.582872  0.000009         True\n",
      "4         Motivations - Enhance     0.375665  0.007179         True\n",
      "5         Motivations - Protect     0.388313  0.005326         True\n",
      "6            Engagement - Vigor     0.601434  0.000004         True\n",
      "7       Engagement - Dedication     0.478302  0.000443         True\n",
      "8       Engagement - Absorption     0.590445  0.000006         True\n",
      "9           Satisfaction - Task     0.194682  0.175482        False\n",
      "10  Satisfaction - Organisation     0.245789  0.085335        False\n",
      "11                   Commitment     0.386137  0.005612         True\n"
     ]
    }
   ],
   "source": [
    "from scipy.stats import pearsonr\n",
    "\n",
    "# Load your dataset\n",
    "file_path = \"Sustainability.xlsx\"  # Replace with your actual file path\n",
    "sheet_name = \"Sustainability\"  # Replace with the sheet name where the data is\n",
    "data = pd.read_excel(file_path, sheet_name=sheet_name)\n",
    "\n",
    "# Define the variables\n",
    "sustainability = \"Sustainability\"  # Replace with the actual column name\n",
    "other_columns = [\n",
    "    \"Motivations - Career\", \"Motivations - Social\", \"Motivations - Values\",\n",
    "    \"Motivations - Understd\", \"Motivations - Enhance\", \"Motivations - Protect\",\n",
    "    \"Engagement - Vigor\", \"Engagement - Dedication\", \"Engagement - Absorption\",\n",
    "    \"Satisfaction - Task\", \"Satisfaction - Organisation\", \"Commitment\"\n",
    "]\n",
    "\n",
    "# Calculate correlations\n",
    "correlation_results = []\n",
    "for column in other_columns:\n",
    "    corr, p_value = pearsonr(data[sustainability], data[column])\n",
    "    correlation_results.append({\"Variable\": column, \"Correlation\": corr, \"P-Value\": p_value})\n",
    "\n",
    "# Convert results to DataFrame\n",
    "correlation_df = pd.DataFrame(correlation_results)\n",
    "\n",
    "# Add significance flag\n",
    "correlation_df[\"Significant\"] = correlation_df[\"P-Value\"] < 0.05\n",
    "\n",
    "# Display the results\n",
    "print(\"Correlation Results:\")\n",
    "print(correlation_df)"
   ]
  },
  {
   "cell_type": "markdown",
   "id": "63894e55",
   "metadata": {},
   "source": [
    "# Analyse new volunteers"
   ]
  },
  {
   "cell_type": "code",
   "execution_count": 95,
   "id": "59e96993",
   "metadata": {},
   "outputs": [
    {
     "name": "stdout",
     "output_type": "stream",
     "text": [
      "                       Variable    t-stat   p-value  Significant\n",
      "0          Motivations - Career  1.724020  0.091009        False\n",
      "1          Motivations - Social  1.427769  0.159701        False\n",
      "2          Motivations - Values  1.434072  0.157903        False\n",
      "3        Motivations - Understd  3.057448  0.003610         True\n",
      "4         Motivations - Enhance  1.697296  0.095985        False\n",
      "5         Motivations - Protect  1.383213  0.172870        False\n",
      "6            Engagement - Vigor  1.891887  0.064423        False\n",
      "7       Engagement - Dedication  2.479112  0.016660         True\n",
      "8       Engagement - Absorption  2.058087  0.044921         True\n",
      "9           Satisfaction - Task  1.329645  0.189792        False\n",
      "10  Satisfaction - Organisation  2.300356  0.025726         True\n",
      "11                   Commitment -3.853685  0.000339         True\n"
     ]
    }
   ],
   "source": [
    "from scipy.stats import ttest_ind\n",
    "\n",
    "# Load the dataset\n",
    "file_path = \"New Volunteers.xlsx\"  # Replace with your actual file path\n",
    "sheet_name = \"New Volunteers\"  # Replace with the sheet name where the data is\n",
    "df = pd.read_excel(file_path, sheet_name=sheet_name)\n",
    "\n",
    "# Separate groups\n",
    "new_volunteers = df[df['New / Old'] == 'New']\n",
    "old_volunteers = df[df['New / Old'] == 'Old']\n",
    "\n",
    "# List of columns to test\n",
    "columns_to_test = ['Motivations - Career', 'Motivations - Social', 'Motivations - Values', \n",
    "                   'Motivations - Understd', 'Motivations - Enhance', 'Motivations - Protect', \n",
    "                   'Engagement - Vigor', 'Engagement - Dedication', 'Engagement - Absorption', \n",
    "                   'Satisfaction - Task', 'Satisfaction - Organisation', 'Commitment']\n",
    "\n",
    "# Perform t-tests\n",
    "results = []\n",
    "for column in columns_to_test:\n",
    "    t_stat, p_value = ttest_ind(new_volunteers[column], old_volunteers[column], nan_policy='omit')\n",
    "    results.append({'Variable': column, 't-stat': t_stat, 'p-value': p_value, \n",
    "                    'Significant': p_value < 0.05})\n",
    "\n",
    "# Convert results to DataFrame for better readability\n",
    "results_df = pd.DataFrame(results)\n",
    "\n",
    "# Display the results\n",
    "print(results_df)"
   ]
  },
  {
   "cell_type": "code",
   "execution_count": null,
   "id": "3f89c634",
   "metadata": {},
   "outputs": [],
   "source": []
  }
 ],
 "metadata": {
  "kernelspec": {
   "display_name": "Python 3 (ipykernel)",
   "language": "python",
   "name": "python3"
  },
  "language_info": {
   "codemirror_mode": {
    "name": "ipython",
    "version": 3
   },
   "file_extension": ".py",
   "mimetype": "text/x-python",
   "name": "python",
   "nbconvert_exporter": "python",
   "pygments_lexer": "ipython3",
   "version": "3.9.12"
  }
 },
 "nbformat": 4,
 "nbformat_minor": 5
}
