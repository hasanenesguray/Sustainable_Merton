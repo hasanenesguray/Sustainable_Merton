{
 "cells": [
  {
   "cell_type": "markdown",
   "id": "48fcf421",
   "metadata": {},
   "source": [
    "# Cronbach's alpha"
   ]
  },
  {
   "cell_type": "code",
   "execution_count": 5,
   "id": "3f0c5ccc",
   "metadata": {},
   "outputs": [
    {
     "data": {
      "text/plain": [
       "0.8721568949299142"
      ]
     },
     "execution_count": 5,
     "metadata": {},
     "output_type": "execute_result"
    }
   ],
   "source": [
    "import pandas as pd\n",
    "import numpy as np\n",
    "\n",
    "# Provided data\n",
    "data = {\n",
    "    \"Motivations - Career\": [\n",
    "    3.6, 1, 3.8, 7, 4, 3, 1.6, 1.2, 3.8, 1, 5.2, 5.2, 1, 1, 5.2, 7, \n",
    "    3, 2, 1.4, 2, 2, 1, 3, 5.4, 6.4, 5.6, 1, 1, 1, 5.2, 1, 4.4, \n",
    "    1.4, 5, 1, 2, 1, 3.4, 1.8, 2.8, 3, 4.2, 1, 1, 1, 2.2, 2, 1, \n",
    "    5.6, 2.2],\n",
    "    \"Motivations - Social\": [\n",
    "    4.6, 1.6, 5.2, 6.8, 4.8, 3.6, 7, 4.4, 3.4, 1.4, 2.2, 2.6, 2.8, \n",
    "    2.8, 5, 6.4, 3.4, 4.6, 2, 2.8, 6, 1.8, 3.6, 5.2, 4.2, 2.6, \n",
    "    1.2, 3.8, 4.6, 2.4, 2.8, 4, 4.4, 2.2, 1.6, 4.2, 3, 4, 6.2, \n",
    "    2.6, 4.8, 3.4, 1.8, 5, 2.8, 1.4, 1.4, 3.8, 6, 1],\n",
    "    \"Motivations - Values\": [\n",
    "    6.6, 7, 6.8, 7, 6.4, 5.4, 7, 6, 6.4, 5.8, 6.6, 5.2, 6.4, 6, 7, \n",
    "    7, 4.4, 4.8, 6, 5.8, 7, 6.6, 5.8, 6, 6, 5.8, 3.6, 7, 6.2, 6, \n",
    "    6.4, 6.4, 5.8, 5.4, 5.2, 6, 5.6, 6.4, 6.8, 5.2, 5.8, 6.6, 4.4, \n",
    "    5.4, 6, 6.6, 4.4, 7, 6.4, 5.8],\n",
    "    \"Motivations - Understd\": [\n",
    "    5.8, 5, 5.8, 7, 6.8, 5.4, 6, 5.8, 6.6, 3.2, 6.8, 5.4, 4.2, 5.6, \n",
    "    6.6, 7, 4.2, 4.2, 3.6, 4.4, 6, 2.6, 6, 7, 7, 6, 5.4, 5.4, 5, \n",
    "    5.8, 4, 5.4, 3.4, 5.2, 2.8, 6.8, 3.8, 6, 5.4, 3.4, 4.4, 6, \n",
    "    2.6, 6, 3.2, 4.6, 3.4, 5.8, 5.8, 5.6],\n",
    "    \"Motivations - Enhance\": [\n",
    "    2.8, 2.6, 4, 7, 4.2, 3.8, 3.2, 4.2, 4.2, 1.8, 6.6, 2.8, 4.2, 4.6, \n",
    "    6.4, 6.6, 4.2, 6.4, 2, 2.8, 7, 1.8, 5.4, 7, 7, 5.6, 2.4, 4.2, \n",
    "    3.4, 5.8, 3, 4.6, 5, 4.8, 1.8, 4.2, 1.6, 4.6, 5, 2.6, 4.6, 5, \n",
    "    3, 5.2, 3, 3.6, 4.6, 3.6, 6.8, 5],\n",
    "    \"Motivations - Protect\": [\n",
    "    4, 3.25, 5.25, 7, 5, 3.5, 3.25, 2.25, 5.25, 2, 5, 4, 2.75, 4.5, \n",
    "    3.25, 4.5, 4.25, 4.5, 2.25, 2, 5.75, 5.5, 6.5, 7, 7, 4.5, 1.25, \n",
    "    4.25, 5, 4, 3.25, 4.5, 3.5, 5, 1.25, 5.75, 2.5, 6.5, 5, 4.25, \n",
    "    4.25, 4, 2, 5.5, 4, 3, 3.5, 2.75, 6, 1.75],\n",
    "    \"Engagement - Vigor\": [\n",
    "    5, 4, 3.666666667, 6, 4.666666667, 3, 4, 3.333333333, 4.666666667, 3, 4, 4, \n",
    "    5.666666667, 4.333333333, 4, 6, 3, 4.666666667, 2.666666667, 3, 4.666666667, \n",
    "    3.666666667, 5, 5.666666667, 6, 2.666666667, 3, 6, 4.666666667, 5.666666667, \n",
    "    3.666666667, 4.666666667, 2.666666667, 4.333333333, 4.333333333, 3.666666667, \n",
    "    1, 3.666666667, 5.333333333, 2.666666667, 4, 5, 0.333333333, 5, 3.666666667, \n",
    "    2.666666667, 3, 6, 4, 5.333333333],\n",
    "    \"Engagement - Dedication\": [\n",
    "    5.666666667, 5, 5, 6, 6, 4.666666667, 6, 4.666666667, 5.666666667, 4.666666667, \n",
    "    5.333333333, 4, 6, 6, 5.333333333, 6, 4, 4.333333333, 3.666666667, 4.333333333, \n",
    "    6, 5.333333333, 5.333333333, 6, 6, 5, 4, 6, 6, 5, 5.333333333, 5, 3.333333333, \n",
    "    5, 5, 4, 2.666666667, 4.333333333, 6, 3, 4.333333333, 6, 3.666666667, \n",
    "    4.666666667, 5, 5.333333333, 4.666666667, 6, 5.333333333, 6],\n",
    "    \"Engagement - Absorption\": [\n",
    "    5.666666667, 5.666666667, 5.333333333, 6, 4.333333333, 2.666666667, 4.333333333, \n",
    "    2, 5.333333333, 3.666666667, 4.666666667, 4, 5, 4.666666667, 5, 5, 3.666666667, \n",
    "    3.666666667, 3, 3.666666667, 5, 3.666666667, 4.333333333, 5.666666667, \n",
    "    5.666666667, 3.666666667, 3, 5.333333333, 5.333333333, 5, 3.666666667, 5, \n",
    "    4, 4.666666667, 3.666666667, 4.333333333, 1.666666667, 4.333333333, 6, \n",
    "    1.666666667, 3, 6, 1, 4, 3.333333333, 2.333333333, 2, 5.333333333, \n",
    "    5.666666667, 3.666666667],\n",
    "    \"Satisfaction - Task\": [\n",
    "    6, 6, 6.25, 7, 7, 5.75, 6.25, 6, 5.5, 6.25, 6, 5.5, 1.25, 5.75, 7, \n",
    "    7, 5.25, 6.25, 5.75, 5.5, 6, 6.25, 5, 7, 7, 5, 7, 6, 5.25, 6.5, 7, \n",
    "    6.5, 6, 5.25, 6.5, 5.75, 4.5, 6, 7, 4.5, 4.5, 6.75, 5.5, 6, 6.25, \n",
    "    5, 7, 5.75, 6.5, 7],\n",
    "    \"Satisfaction - Organisation\": [\n",
    "    6.857142857, 5.285714286, 6.285714286, 7, 5.571428571, 6.142857143, \n",
    "    3.714285714, 3.571428571, 5.857142857, 6.857142857, 6.142857143, \n",
    "    4.571428571, 1.571428571, 6.857142857, 5.714285714, 7, 5.714285714, \n",
    "    5.142857143, 5.285714286, 3.714285714, 5.857142857, 5.714285714, \n",
    "    6, 7, 7, 3.142857143, 6, 4.571428571, 4.857142857, 5.571428571, \n",
    "    6.857142857, 6.857142857, 4.142857143, 5, 2.571428571, 3.714285714, \n",
    "    5.714285714, 5.857142857, 7, 5.142857143, 4.428571429, 6.285714286, \n",
    "    4, 5, 5.428571429, 4.857142857, 6.714285714, 3.571428571, 6.714285714, \n",
    "    6.428571429],\n",
    "    \"Commitment\": [\n",
    "    4.5, 2.25, 4, 3.75, 4.25, 4, 3.75, 4.25, 3.75, 4.25, 4, 4.5, 4.5, \n",
    "    2.75, 4.5, 4.25, 3.5, 3.25, 2.5, 3, 4.75, 2.75, 2.25, 2.25, 3, \n",
    "    4.25, 3.25, 3, 4.5, 4.75, 4.25, 4.25, 2.75, 4.5, 4.5, 4.75, \n",
    "    2.5, 4, 2.5, 4.75, 2.25, 4.75, 3, 3.25, 4.25, 2.25, 4, 4, \n",
    "    2.5, 4]\n",
    "}\n",
    "\n",
    "# Convert data into a DataFrame\n",
    "df = pd.DataFrame(data)\n",
    "\n",
    "# Step 2: Compute variances for each item (column)\n",
    "variances = df.var()\n",
    "\n",
    "# Step 3: Compute covariances between items\n",
    "cov_matrix = df.cov()\n",
    "\n",
    "# Step 4: Calculate average variance\n",
    "average_variance = variances.mean()\n",
    "\n",
    "# Step 5: Calculate average covariance (off-diagonal values of covariance matrix)\n",
    "n_items = df.shape[1]\n",
    "total_covariance = cov_matrix.values.sum() - np.trace(cov_matrix.values)  # Sum all off-diagonal elements\n",
    "average_covariance = total_covariance / (n_items * (n_items - 1))  # Average of off-diagonal elements\n",
    "\n",
    "# Step 6: Calculate Cronbach's alpha\n",
    "n_items = len(df.columns)\n",
    "cronbach_alpha = (n_items * average_covariance) / (average_variance + (n_items - 1) * average_covariance)\n",
    "\n",
    "cronbach_alpha"
   ]
  },
  {
   "cell_type": "markdown",
   "id": "83e4bf26",
   "metadata": {},
   "source": [
    "# ANOVA"
   ]
  },
  {
   "cell_type": "markdown",
   "id": "fc913682",
   "metadata": {},
   "source": [
    "## 1. Age"
   ]
  },
  {
   "cell_type": "code",
   "execution_count": 7,
   "id": "c1ae81f9",
   "metadata": {},
   "outputs": [
    {
     "name": "stdout",
     "output_type": "stream",
     "text": [
      "F-Statistic: 4.5469350756176805\n",
      "P-Value: 0.001986912888959459\n",
      "There is a statistically significant difference between groups.\n"
     ]
    }
   ],
   "source": [
    "#1\n",
    "import pandas as pd\n",
    "from scipy.stats import f_oneway\n",
    "\n",
    "# Load your CSV file\n",
    "file_path = \"Volunteer Engagement in Sustainable Merton - Summary.csv\"  # Replace with your actual file path\n",
    "data = pd.read_csv(file_path)\n",
    "\n",
    "# Example: Perform ANOVA for \"Motivations - Career\" across \"Age\"\n",
    "# Ensure the column names match exactly in your dataset\n",
    "groups = data.groupby(\"Age\")[\"Motivations - Career\"]\n",
    "\n",
    "# Extract the scores for each age group\n",
    "anova_data = [group.dropna().values for _, group in groups]  # Drop NaN values if any\n",
    "\n",
    "# Perform one-way ANOVA\n",
    "f_stat, p_value = f_oneway(*anova_data)\n",
    "\n",
    "# Output the results\n",
    "print(f\"F-Statistic: {f_stat}\")\n",
    "print(f\"P-Value: {p_value}\")\n",
    "\n",
    "# Interpretation\n",
    "if p_value < 0.05:\n",
    "    print(\"There is a statistically significant difference between groups.\")\n",
    "else:\n",
    "    print(\"No statistically significant difference between groups.\")"
   ]
  },
  {
   "cell_type": "code",
   "execution_count": 10,
   "id": "f492775b",
   "metadata": {},
   "outputs": [
    {
     "name": "stdout",
     "output_type": "stream",
     "text": [
      "F-Statistic: 0.9035003850451246\n",
      "P-Value: 0.4874287815657874\n",
      "No statistically significant difference between groups.\n"
     ]
    }
   ],
   "source": [
    "#2\n",
    "\n",
    "# Load your CSV file\n",
    "file_path = \"Volunteer Engagement in Sustainable Merton - Summary.csv\"  # Replace with your actual file path\n",
    "data = pd.read_csv(file_path)\n",
    "\n",
    "groups = data.groupby(\"Age\")[\"Motivations - Social\"]\n",
    "\n",
    "# Extract the scores for each age group\n",
    "anova_data = [group.dropna().values for _, group in groups]  # Drop NaN values if any\n",
    "\n",
    "# Perform one-way ANOVA\n",
    "f_stat, p_value = f_oneway(*anova_data)\n",
    "\n",
    "# Output the results\n",
    "print(f\"F-Statistic: {f_stat}\")\n",
    "print(f\"P-Value: {p_value}\")\n",
    "\n",
    "# Interpretation\n",
    "if p_value < 0.05:\n",
    "    print(\"There is a statistically significant difference between groups.\")\n",
    "else:\n",
    "    print(\"No statistically significant difference between groups.\")"
   ]
  },
  {
   "cell_type": "code",
   "execution_count": 11,
   "id": "9ff6ca7c",
   "metadata": {},
   "outputs": [
    {
     "name": "stdout",
     "output_type": "stream",
     "text": [
      "F-Statistic: 0.128585934475799\n",
      "P-Value: 0.9851053841739478\n",
      "No statistically significant difference between groups.\n"
     ]
    }
   ],
   "source": [
    "#3\n",
    "\n",
    "# Load your CSV file\n",
    "file_path = \"Volunteer Engagement in Sustainable Merton - Summary.csv\"  # Replace with your actual file path\n",
    "data = pd.read_csv(file_path)\n",
    "\n",
    "groups = data.groupby(\"Age\")[\"Motivations - Values\"]\n",
    "\n",
    "# Extract the scores for each age group\n",
    "anova_data = [group.dropna().values for _, group in groups]  # Drop NaN values if any\n",
    "\n",
    "# Perform one-way ANOVA\n",
    "f_stat, p_value = f_oneway(*anova_data)\n",
    "\n",
    "# Output the results\n",
    "print(f\"F-Statistic: {f_stat}\")\n",
    "print(f\"P-Value: {p_value}\")\n",
    "\n",
    "# Interpretation\n",
    "if p_value < 0.05:\n",
    "    print(\"There is a statistically significant difference between groups.\")\n",
    "else:\n",
    "    print(\"No statistically significant difference between groups.\")"
   ]
  },
  {
   "cell_type": "code",
   "execution_count": 12,
   "id": "a9b150c5",
   "metadata": {},
   "outputs": [
    {
     "name": "stdout",
     "output_type": "stream",
     "text": [
      "F-Statistic: 2.6099805615969176\n",
      "P-Value: 0.03756553260796811\n",
      "There is a statistically significant difference between groups.\n"
     ]
    }
   ],
   "source": [
    "#4\n",
    "\n",
    "# Load your CSV file\n",
    "file_path = \"Volunteer Engagement in Sustainable Merton - Summary.csv\"  # Replace with your actual file path\n",
    "data = pd.read_csv(file_path)\n",
    "\n",
    "groups = data.groupby(\"Age\")[\"Motivations - Understd\"]\n",
    "\n",
    "# Extract the scores for each age group\n",
    "anova_data = [group.dropna().values for _, group in groups]  # Drop NaN values if any\n",
    "\n",
    "# Perform one-way ANOVA\n",
    "f_stat, p_value = f_oneway(*anova_data)\n",
    "\n",
    "# Output the results\n",
    "print(f\"F-Statistic: {f_stat}\")\n",
    "print(f\"P-Value: {p_value}\")\n",
    "\n",
    "# Interpretation\n",
    "if p_value < 0.05:\n",
    "    print(\"There is a statistically significant difference between groups.\")\n",
    "else:\n",
    "    print(\"No statistically significant difference between groups.\")"
   ]
  },
  {
   "cell_type": "code",
   "execution_count": 13,
   "id": "549dde33",
   "metadata": {},
   "outputs": [
    {
     "name": "stdout",
     "output_type": "stream",
     "text": [
      "F-Statistic: 3.670745954265022\n",
      "P-Value: 0.007313095597516281\n",
      "There is a statistically significant difference between groups.\n"
     ]
    }
   ],
   "source": [
    "#5\n",
    "\n",
    "# Load your CSV file\n",
    "file_path = \"Volunteer Engagement in Sustainable Merton - Summary.csv\"  # Replace with your actual file path\n",
    "data = pd.read_csv(file_path)\n",
    "\n",
    "groups = data.groupby(\"Age\")[\"Motivations - Enhance\"]\n",
    "\n",
    "# Extract the scores for each age group\n",
    "anova_data = [group.dropna().values for _, group in groups]  # Drop NaN values if any\n",
    "\n",
    "# Perform one-way ANOVA\n",
    "f_stat, p_value = f_oneway(*anova_data)\n",
    "\n",
    "# Output the results\n",
    "print(f\"F-Statistic: {f_stat}\")\n",
    "print(f\"P-Value: {p_value}\")\n",
    "\n",
    "# Interpretation\n",
    "if p_value < 0.05:\n",
    "    print(\"There is a statistically significant difference between groups.\")\n",
    "else:\n",
    "    print(\"No statistically significant difference between groups.\")"
   ]
  },
  {
   "cell_type": "code",
   "execution_count": 14,
   "id": "191cb888",
   "metadata": {},
   "outputs": [
    {
     "name": "stdout",
     "output_type": "stream",
     "text": [
      "F-Statistic: 3.404727472565987\n",
      "P-Value: 0.010968023901823477\n",
      "There is a statistically significant difference between groups.\n"
     ]
    }
   ],
   "source": [
    "#6\n",
    "\n",
    "# Load your CSV file\n",
    "file_path = \"Volunteer Engagement in Sustainable Merton - Summary.csv\"  # Replace with your actual file path\n",
    "data = pd.read_csv(file_path)\n",
    "\n",
    "groups = data.groupby(\"Age\")[\"Motivations - Protect\"]\n",
    "\n",
    "# Extract the scores for each age group\n",
    "anova_data = [group.dropna().values for _, group in groups]  # Drop NaN values if any\n",
    "\n",
    "# Perform one-way ANOVA\n",
    "f_stat, p_value = f_oneway(*anova_data)\n",
    "\n",
    "# Output the results\n",
    "print(f\"F-Statistic: {f_stat}\")\n",
    "print(f\"P-Value: {p_value}\")\n",
    "\n",
    "# Interpretation\n",
    "if p_value < 0.05:\n",
    "    print(\"There is a statistically significant difference between groups.\")\n",
    "else:\n",
    "    print(\"No statistically significant difference between groups.\")"
   ]
  },
  {
   "cell_type": "code",
   "execution_count": 15,
   "id": "a1e72988",
   "metadata": {},
   "outputs": [
    {
     "name": "stdout",
     "output_type": "stream",
     "text": [
      "F-Statistic: 1.4844112073981812\n",
      "P-Value: 0.21429393377518646\n",
      "No statistically significant difference between groups.\n"
     ]
    }
   ],
   "source": [
    "#7\n",
    "\n",
    "# Load your CSV file\n",
    "file_path = \"Volunteer Engagement in Sustainable Merton - Summary.csv\"  # Replace with your actual file path\n",
    "data = pd.read_csv(file_path)\n",
    "\n",
    "groups = data.groupby(\"Age\")[\"Engagement - Vigor\"]\n",
    "\n",
    "# Extract the scores for each age group\n",
    "anova_data = [group.dropna().values for _, group in groups]  # Drop NaN values if any\n",
    "\n",
    "# Perform one-way ANOVA\n",
    "f_stat, p_value = f_oneway(*anova_data)\n",
    "\n",
    "# Output the results\n",
    "print(f\"F-Statistic: {f_stat}\")\n",
    "print(f\"P-Value: {p_value}\")\n",
    "\n",
    "# Interpretation\n",
    "if p_value < 0.05:\n",
    "    print(\"There is a statistically significant difference between groups.\")\n",
    "else:\n",
    "    print(\"No statistically significant difference between groups.\")"
   ]
  },
  {
   "cell_type": "code",
   "execution_count": 16,
   "id": "b9c5c605",
   "metadata": {},
   "outputs": [
    {
     "name": "stdout",
     "output_type": "stream",
     "text": [
      "F-Statistic: 1.4686058259752726\n",
      "P-Value: 0.21941576642972832\n",
      "No statistically significant difference between groups.\n"
     ]
    }
   ],
   "source": [
    "#8\n",
    "\n",
    "# Load your CSV file\n",
    "file_path = \"Volunteer Engagement in Sustainable Merton - Summary.csv\"  # Replace with your actual file path\n",
    "data = pd.read_csv(file_path)\n",
    "\n",
    "groups = data.groupby(\"Age\")[\"Engagement - Dedication\"]\n",
    "\n",
    "# Extract the scores for each age group\n",
    "anova_data = [group.dropna().values for _, group in groups]  # Drop NaN values if any\n",
    "\n",
    "# Perform one-way ANOVA\n",
    "f_stat, p_value = f_oneway(*anova_data)\n",
    "\n",
    "# Output the results\n",
    "print(f\"F-Statistic: {f_stat}\")\n",
    "print(f\"P-Value: {p_value}\")\n",
    "\n",
    "# Interpretation\n",
    "if p_value < 0.05:\n",
    "    print(\"There is a statistically significant difference between groups.\")\n",
    "else:\n",
    "    print(\"No statistically significant difference between groups.\")"
   ]
  },
  {
   "cell_type": "code",
   "execution_count": 17,
   "id": "c0e45a4c",
   "metadata": {},
   "outputs": [
    {
     "name": "stdout",
     "output_type": "stream",
     "text": [
      "F-Statistic: 1.2022399043337944\n",
      "P-Value: 0.323916445158078\n",
      "No statistically significant difference between groups.\n"
     ]
    }
   ],
   "source": [
    "#9\n",
    "\n",
    "# Load your CSV file\n",
    "file_path = \"Volunteer Engagement in Sustainable Merton - Summary.csv\"  # Replace with your actual file path\n",
    "data = pd.read_csv(file_path)\n",
    "\n",
    "groups = data.groupby(\"Age\")[\"Engagement - Absorption\"]\n",
    "\n",
    "# Extract the scores for each age group\n",
    "anova_data = [group.dropna().values for _, group in groups]  # Drop NaN values if any\n",
    "\n",
    "# Perform one-way ANOVA\n",
    "f_stat, p_value = f_oneway(*anova_data)\n",
    "\n",
    "# Output the results\n",
    "print(f\"F-Statistic: {f_stat}\")\n",
    "print(f\"P-Value: {p_value}\")\n",
    "\n",
    "# Interpretation\n",
    "if p_value < 0.05:\n",
    "    print(\"There is a statistically significant difference between groups.\")\n",
    "else:\n",
    "    print(\"No statistically significant difference between groups.\")"
   ]
  },
  {
   "cell_type": "code",
   "execution_count": 18,
   "id": "e08ee59c",
   "metadata": {},
   "outputs": [
    {
     "name": "stdout",
     "output_type": "stream",
     "text": [
      "F-Statistic: 0.5314877328775832\n",
      "P-Value: 0.7512086626630957\n",
      "No statistically significant difference between groups.\n"
     ]
    }
   ],
   "source": [
    "#10\n",
    "\n",
    "# Load your CSV file\n",
    "file_path = \"Volunteer Engagement in Sustainable Merton - Summary.csv\"  # Replace with your actual file path\n",
    "data = pd.read_csv(file_path)\n",
    "\n",
    "groups = data.groupby(\"Age\")[\"Satisfaction - Task\"]\n",
    "\n",
    "# Extract the scores for each age group\n",
    "anova_data = [group.dropna().values for _, group in groups]  # Drop NaN values if any\n",
    "\n",
    "# Perform one-way ANOVA\n",
    "f_stat, p_value = f_oneway(*anova_data)\n",
    "\n",
    "# Output the results\n",
    "print(f\"F-Statistic: {f_stat}\")\n",
    "print(f\"P-Value: {p_value}\")\n",
    "\n",
    "# Interpretation\n",
    "if p_value < 0.05:\n",
    "    print(\"There is a statistically significant difference between groups.\")\n",
    "else:\n",
    "    print(\"No statistically significant difference between groups.\")"
   ]
  },
  {
   "cell_type": "code",
   "execution_count": 19,
   "id": "4bbac33e",
   "metadata": {},
   "outputs": [
    {
     "name": "stdout",
     "output_type": "stream",
     "text": [
      "F-Statistic: 1.9425195017541832\n",
      "P-Value: 0.10643975226701821\n",
      "No statistically significant difference between groups.\n"
     ]
    }
   ],
   "source": [
    "#11\n",
    "\n",
    "# Load your CSV file\n",
    "file_path = \"Volunteer Engagement in Sustainable Merton - Summary.csv\"  # Replace with your actual file path\n",
    "data = pd.read_csv(file_path)\n",
    "\n",
    "groups = data.groupby(\"Age\")[\"Satisfaction - Organisation\"]\n",
    "\n",
    "# Extract the scores for each age group\n",
    "anova_data = [group.dropna().values for _, group in groups]  # Drop NaN values if any\n",
    "\n",
    "# Perform one-way ANOVA\n",
    "f_stat, p_value = f_oneway(*anova_data)\n",
    "\n",
    "# Output the results\n",
    "print(f\"F-Statistic: {f_stat}\")\n",
    "print(f\"P-Value: {p_value}\")\n",
    "\n",
    "# Interpretation\n",
    "if p_value < 0.05:\n",
    "    print(\"There is a statistically significant difference between groups.\")\n",
    "else:\n",
    "    print(\"No statistically significant difference between groups.\")"
   ]
  },
  {
   "cell_type": "code",
   "execution_count": 20,
   "id": "a0967e3e",
   "metadata": {},
   "outputs": [
    {
     "name": "stdout",
     "output_type": "stream",
     "text": [
      "F-Statistic: 3.7612866603595076\n",
      "P-Value: 0.006376865783799326\n",
      "There is a statistically significant difference between groups.\n"
     ]
    }
   ],
   "source": [
    "#12\n",
    "\n",
    "# Load your CSV file\n",
    "file_path = \"Volunteer Engagement in Sustainable Merton - Summary.csv\"  # Replace with your actual file path\n",
    "data = pd.read_csv(file_path)\n",
    "\n",
    "groups = data.groupby(\"Age\")[\"Commitment\"]\n",
    "\n",
    "# Extract the scores for each age group\n",
    "anova_data = [group.dropna().values for _, group in groups]  # Drop NaN values if any\n",
    "\n",
    "# Perform one-way ANOVA\n",
    "f_stat, p_value = f_oneway(*anova_data)\n",
    "\n",
    "# Output the results\n",
    "print(f\"F-Statistic: {f_stat}\")\n",
    "print(f\"P-Value: {p_value}\")\n",
    "\n",
    "# Interpretation\n",
    "if p_value < 0.05:\n",
    "    print(\"There is a statistically significant difference between groups.\")\n",
    "else:\n",
    "    print(\"No statistically significant difference between groups.\")"
   ]
  },
  {
   "cell_type": "markdown",
   "id": "84eb6265",
   "metadata": {},
   "source": [
    "## 2. Gender Identity"
   ]
  },
  {
   "cell_type": "code",
   "execution_count": 23,
   "id": "b84ea8c1",
   "metadata": {},
   "outputs": [
    {
     "name": "stdout",
     "output_type": "stream",
     "text": [
      "F-Statistic: 1.843249145101017\n",
      "P-Value: 0.16956291578820495\n",
      "No statistically significant difference between groups.\n"
     ]
    }
   ],
   "source": [
    "#1\n",
    "import pandas as pd\n",
    "from scipy.stats import f_oneway\n",
    "\n",
    "# Load your CSV file\n",
    "file_path = \"Volunteer Engagement in Sustainable Merton - Summary.csv\"  # Replace with your actual file path\n",
    "data = pd.read_csv(file_path)\n",
    "\n",
    "# Example: Perform ANOVA for \"Motivations - Career\" across \"Age\"\n",
    "# Ensure the column names match exactly in your dataset\n",
    "groups = data.groupby(\"What is your gender identity? \\n(Please select one of the options below or describe your gender identity.)\")[\"Motivations - Career\"]\n",
    "\n",
    "# Extract the scores for each age group\n",
    "anova_data = [group.dropna().values for _, group in groups]  # Drop NaN values if any\n",
    "\n",
    "# Perform one-way ANOVA\n",
    "f_stat, p_value = f_oneway(*anova_data)\n",
    "\n",
    "# Output the results\n",
    "print(f\"F-Statistic: {f_stat}\")\n",
    "print(f\"P-Value: {p_value}\")\n",
    "\n",
    "# Interpretation\n",
    "if p_value < 0.05:\n",
    "    print(\"There is a statistically significant difference between groups.\")\n",
    "else:\n",
    "    print(\"No statistically significant difference between groups.\")"
   ]
  },
  {
   "cell_type": "code",
   "execution_count": 24,
   "id": "1d024587",
   "metadata": {},
   "outputs": [
    {
     "name": "stdout",
     "output_type": "stream",
     "text": [
      "F-Statistic: 3.4581480371314868\n",
      "P-Value: 0.03970804430758977\n",
      "There is a statistically significant difference between groups.\n"
     ]
    }
   ],
   "source": [
    "#2\n",
    "\n",
    "# Load your CSV file\n",
    "file_path = \"Volunteer Engagement in Sustainable Merton - Summary.csv\"  # Replace with your actual file path\n",
    "data = pd.read_csv(file_path)\n",
    "\n",
    "groups = data.groupby(\"What is your gender identity? \\n(Please select one of the options below or describe your gender identity.)\")[\"Motivations - Social\"]\n",
    "\n",
    "# Extract the scores for each age group\n",
    "anova_data = [group.dropna().values for _, group in groups]  # Drop NaN values if any\n",
    "\n",
    "# Perform one-way ANOVA\n",
    "f_stat, p_value = f_oneway(*anova_data)\n",
    "\n",
    "# Output the results\n",
    "print(f\"F-Statistic: {f_stat}\")\n",
    "print(f\"P-Value: {p_value}\")\n",
    "\n",
    "# Interpretation\n",
    "if p_value < 0.05:\n",
    "    print(\"There is a statistically significant difference between groups.\")\n",
    "else:\n",
    "    print(\"No statistically significant difference between groups.\")"
   ]
  },
  {
   "cell_type": "code",
   "execution_count": 25,
   "id": "429fb2d5",
   "metadata": {},
   "outputs": [
    {
     "name": "stdout",
     "output_type": "stream",
     "text": [
      "F-Statistic: 0.25848937132519245\n",
      "P-Value: 0.7733078331821023\n",
      "No statistically significant difference between groups.\n"
     ]
    }
   ],
   "source": [
    "#3\n",
    "\n",
    "# Load your CSV file\n",
    "file_path = \"Volunteer Engagement in Sustainable Merton - Summary.csv\"  # Replace with your actual file path\n",
    "data = pd.read_csv(file_path)\n",
    "\n",
    "groups = data.groupby(\"What is your gender identity? \\n(Please select one of the options below or describe your gender identity.)\")[\"Motivations - Values\"]\n",
    "\n",
    "# Extract the scores for each age group\n",
    "anova_data = [group.dropna().values for _, group in groups]  # Drop NaN values if any\n",
    "\n",
    "# Perform one-way ANOVA\n",
    "f_stat, p_value = f_oneway(*anova_data)\n",
    "\n",
    "# Output the results\n",
    "print(f\"F-Statistic: {f_stat}\")\n",
    "print(f\"P-Value: {p_value}\")\n",
    "\n",
    "# Interpretation\n",
    "if p_value < 0.05:\n",
    "    print(\"There is a statistically significant difference between groups.\")\n",
    "else:\n",
    "    print(\"No statistically significant difference between groups.\")"
   ]
  },
  {
   "cell_type": "code",
   "execution_count": 26,
   "id": "55c36b02",
   "metadata": {},
   "outputs": [
    {
     "name": "stdout",
     "output_type": "stream",
     "text": [
      "F-Statistic: 1.5731382496858817\n",
      "P-Value: 0.2181174558988344\n",
      "No statistically significant difference between groups.\n"
     ]
    }
   ],
   "source": [
    "#4\n",
    "\n",
    "# Load your CSV file\n",
    "file_path = \"Volunteer Engagement in Sustainable Merton - Summary.csv\"  # Replace with your actual file path\n",
    "data = pd.read_csv(file_path)\n",
    "\n",
    "groups = data.groupby(\"What is your gender identity? \\n(Please select one of the options below or describe your gender identity.)\")[\"Motivations - Understd\"]\n",
    "\n",
    "# Extract the scores for each age group\n",
    "anova_data = [group.dropna().values for _, group in groups]  # Drop NaN values if any\n",
    "\n",
    "# Perform one-way ANOVA\n",
    "f_stat, p_value = f_oneway(*anova_data)\n",
    "\n",
    "# Output the results\n",
    "print(f\"F-Statistic: {f_stat}\")\n",
    "print(f\"P-Value: {p_value}\")\n",
    "\n",
    "# Interpretation\n",
    "if p_value < 0.05:\n",
    "    print(\"There is a statistically significant difference between groups.\")\n",
    "else:\n",
    "    print(\"No statistically significant difference between groups.\")"
   ]
  },
  {
   "cell_type": "code",
   "execution_count": 27,
   "id": "6eb3fb75",
   "metadata": {},
   "outputs": [
    {
     "name": "stdout",
     "output_type": "stream",
     "text": [
      "F-Statistic: 2.753086953197132\n",
      "P-Value: 0.07402116294099305\n",
      "No statistically significant difference between groups.\n"
     ]
    }
   ],
   "source": [
    "#5\n",
    "\n",
    "# Load your CSV file\n",
    "file_path = \"Volunteer Engagement in Sustainable Merton - Summary.csv\"  # Replace with your actual file path\n",
    "data = pd.read_csv(file_path)\n",
    "\n",
    "groups = data.groupby(\"What is your gender identity? \\n(Please select one of the options below or describe your gender identity.)\")[\"Motivations - Enhance\"]\n",
    "\n",
    "# Extract the scores for each age group\n",
    "anova_data = [group.dropna().values for _, group in groups]  # Drop NaN values if any\n",
    "\n",
    "# Perform one-way ANOVA\n",
    "f_stat, p_value = f_oneway(*anova_data)\n",
    "\n",
    "# Output the results\n",
    "print(f\"F-Statistic: {f_stat}\")\n",
    "print(f\"P-Value: {p_value}\")\n",
    "\n",
    "# Interpretation\n",
    "if p_value < 0.05:\n",
    "    print(\"There is a statistically significant difference between groups.\")\n",
    "else:\n",
    "    print(\"No statistically significant difference between groups.\")"
   ]
  },
  {
   "cell_type": "code",
   "execution_count": 28,
   "id": "7719d63e",
   "metadata": {},
   "outputs": [
    {
     "name": "stdout",
     "output_type": "stream",
     "text": [
      "F-Statistic: 1.8643539440312467\n",
      "P-Value: 0.166278213170716\n",
      "No statistically significant difference between groups.\n"
     ]
    }
   ],
   "source": [
    "#6\n",
    "\n",
    "# Load your CSV file\n",
    "file_path = \"Volunteer Engagement in Sustainable Merton - Summary.csv\"  # Replace with your actual file path\n",
    "data = pd.read_csv(file_path)\n",
    "\n",
    "groups = data.groupby(\"What is your gender identity? \\n(Please select one of the options below or describe your gender identity.)\")[\"Motivations - Protect\"]\n",
    "\n",
    "# Extract the scores for each age group\n",
    "anova_data = [group.dropna().values for _, group in groups]  # Drop NaN values if any\n",
    "\n",
    "# Perform one-way ANOVA\n",
    "f_stat, p_value = f_oneway(*anova_data)\n",
    "\n",
    "# Output the results\n",
    "print(f\"F-Statistic: {f_stat}\")\n",
    "print(f\"P-Value: {p_value}\")\n",
    "\n",
    "# Interpretation\n",
    "if p_value < 0.05:\n",
    "    print(\"There is a statistically significant difference between groups.\")\n",
    "else:\n",
    "    print(\"No statistically significant difference between groups.\")"
   ]
  },
  {
   "cell_type": "code",
   "execution_count": 29,
   "id": "54cd80c6",
   "metadata": {},
   "outputs": [
    {
     "name": "stdout",
     "output_type": "stream",
     "text": [
      "F-Statistic: 0.738381367599298\n",
      "P-Value: 0.48334788775213355\n",
      "No statistically significant difference between groups.\n"
     ]
    }
   ],
   "source": [
    "#7\n",
    "\n",
    "# Load your CSV file\n",
    "file_path = \"Volunteer Engagement in Sustainable Merton - Summary.csv\"  # Replace with your actual file path\n",
    "data = pd.read_csv(file_path)\n",
    "\n",
    "groups = data.groupby(\"What is your gender identity? \\n(Please select one of the options below or describe your gender identity.)\")[\"Engagement - Vigor\"]\n",
    "\n",
    "# Extract the scores for each age group\n",
    "anova_data = [group.dropna().values for _, group in groups]  # Drop NaN values if any\n",
    "\n",
    "# Perform one-way ANOVA\n",
    "f_stat, p_value = f_oneway(*anova_data)\n",
    "\n",
    "# Output the results\n",
    "print(f\"F-Statistic: {f_stat}\")\n",
    "print(f\"P-Value: {p_value}\")\n",
    "\n",
    "# Interpretation\n",
    "if p_value < 0.05:\n",
    "    print(\"There is a statistically significant difference between groups.\")\n",
    "else:\n",
    "    print(\"No statistically significant difference between groups.\")"
   ]
  },
  {
   "cell_type": "code",
   "execution_count": 30,
   "id": "14ea0374",
   "metadata": {},
   "outputs": [
    {
     "name": "stdout",
     "output_type": "stream",
     "text": [
      "F-Statistic: 0.80368775340155\n",
      "P-Value: 0.45373116159477755\n",
      "No statistically significant difference between groups.\n"
     ]
    }
   ],
   "source": [
    "#8\n",
    "\n",
    "# Load your CSV file\n",
    "file_path = \"Volunteer Engagement in Sustainable Merton - Summary.csv\"  # Replace with your actual file path\n",
    "data = pd.read_csv(file_path)\n",
    "\n",
    "groups = data.groupby(\"What is your gender identity? \\n(Please select one of the options below or describe your gender identity.)\")[\"Engagement - Dedication\"]\n",
    "\n",
    "# Extract the scores for each age group\n",
    "anova_data = [group.dropna().values for _, group in groups]  # Drop NaN values if any\n",
    "\n",
    "# Perform one-way ANOVA\n",
    "f_stat, p_value = f_oneway(*anova_data)\n",
    "\n",
    "# Output the results\n",
    "print(f\"F-Statistic: {f_stat}\")\n",
    "print(f\"P-Value: {p_value}\")\n",
    "\n",
    "# Interpretation\n",
    "if p_value < 0.05:\n",
    "    print(\"There is a statistically significant difference between groups.\")\n",
    "else:\n",
    "    print(\"No statistically significant difference between groups.\")"
   ]
  },
  {
   "cell_type": "code",
   "execution_count": 31,
   "id": "6e68af9f",
   "metadata": {},
   "outputs": [
    {
     "name": "stdout",
     "output_type": "stream",
     "text": [
      "F-Statistic: 0.7422332399703315\n",
      "P-Value: 0.4815463190468694\n",
      "No statistically significant difference between groups.\n"
     ]
    }
   ],
   "source": [
    "#9\n",
    "\n",
    "# Load your CSV file\n",
    "file_path = \"Volunteer Engagement in Sustainable Merton - Summary.csv\"  # Replace with your actual file path\n",
    "data = pd.read_csv(file_path)\n",
    "\n",
    "groups = data.groupby(\"What is your gender identity? \\n(Please select one of the options below or describe your gender identity.)\")[\"Engagement - Absorption\"]\n",
    "\n",
    "# Extract the scores for each age group\n",
    "anova_data = [group.dropna().values for _, group in groups]  # Drop NaN values if any\n",
    "\n",
    "# Perform one-way ANOVA\n",
    "f_stat, p_value = f_oneway(*anova_data)\n",
    "\n",
    "# Output the results\n",
    "print(f\"F-Statistic: {f_stat}\")\n",
    "print(f\"P-Value: {p_value}\")\n",
    "\n",
    "# Interpretation\n",
    "if p_value < 0.05:\n",
    "    print(\"There is a statistically significant difference between groups.\")\n",
    "else:\n",
    "    print(\"No statistically significant difference between groups.\")"
   ]
  },
  {
   "cell_type": "code",
   "execution_count": 32,
   "id": "e9f38bd3",
   "metadata": {},
   "outputs": [
    {
     "name": "stdout",
     "output_type": "stream",
     "text": [
      "F-Statistic: 2.1632262583722124\n",
      "P-Value: 0.1262642258111957\n",
      "No statistically significant difference between groups.\n"
     ]
    }
   ],
   "source": [
    "#10\n",
    "\n",
    "# Load your CSV file\n",
    "file_path = \"Volunteer Engagement in Sustainable Merton - Summary.csv\"  # Replace with your actual file path\n",
    "data = pd.read_csv(file_path)\n",
    "\n",
    "groups = data.groupby(\"What is your gender identity? \\n(Please select one of the options below or describe your gender identity.)\")[\"Satisfaction - Task\"]\n",
    "\n",
    "# Extract the scores for each age group\n",
    "anova_data = [group.dropna().values for _, group in groups]  # Drop NaN values if any\n",
    "\n",
    "# Perform one-way ANOVA\n",
    "f_stat, p_value = f_oneway(*anova_data)\n",
    "\n",
    "# Output the results\n",
    "print(f\"F-Statistic: {f_stat}\")\n",
    "print(f\"P-Value: {p_value}\")\n",
    "\n",
    "# Interpretation\n",
    "if p_value < 0.05:\n",
    "    print(\"There is a statistically significant difference between groups.\")\n",
    "else:\n",
    "    print(\"No statistically significant difference between groups.\")"
   ]
  },
  {
   "cell_type": "code",
   "execution_count": 33,
   "id": "b64f59fb",
   "metadata": {},
   "outputs": [
    {
     "name": "stdout",
     "output_type": "stream",
     "text": [
      "F-Statistic: 1.1735314074646155\n",
      "P-Value: 0.31816977443338684\n",
      "No statistically significant difference between groups.\n"
     ]
    }
   ],
   "source": [
    "#11\n",
    "\n",
    "# Load your CSV file\n",
    "file_path = \"Volunteer Engagement in Sustainable Merton - Summary.csv\"  # Replace with your actual file path\n",
    "data = pd.read_csv(file_path)\n",
    "\n",
    "groups = data.groupby(\"What is your gender identity? \\n(Please select one of the options below or describe your gender identity.)\")[\"Satisfaction - Organisation\"]\n",
    "\n",
    "# Extract the scores for each age group\n",
    "anova_data = [group.dropna().values for _, group in groups]  # Drop NaN values if any\n",
    "\n",
    "# Perform one-way ANOVA\n",
    "f_stat, p_value = f_oneway(*anova_data)\n",
    "\n",
    "# Output the results\n",
    "print(f\"F-Statistic: {f_stat}\")\n",
    "print(f\"P-Value: {p_value}\")\n",
    "\n",
    "# Interpretation\n",
    "if p_value < 0.05:\n",
    "    print(\"There is a statistically significant difference between groups.\")\n",
    "else:\n",
    "    print(\"No statistically significant difference between groups.\")"
   ]
  },
  {
   "cell_type": "code",
   "execution_count": 34,
   "id": "f58110e6",
   "metadata": {},
   "outputs": [
    {
     "name": "stdout",
     "output_type": "stream",
     "text": [
      "F-Statistic: 1.6025463878685122\n",
      "P-Value: 0.21219100677119643\n",
      "No statistically significant difference between groups.\n"
     ]
    }
   ],
   "source": [
    "#12\n",
    "\n",
    "# Load your CSV file\n",
    "file_path = \"Volunteer Engagement in Sustainable Merton - Summary.csv\"  # Replace with your actual file path\n",
    "data = pd.read_csv(file_path)\n",
    "\n",
    "groups = data.groupby(\"What is your gender identity? \\n(Please select one of the options below or describe your gender identity.)\")[\"Commitment\"]\n",
    "\n",
    "# Extract the scores for each age group\n",
    "anova_data = [group.dropna().values for _, group in groups]  # Drop NaN values if any\n",
    "\n",
    "# Perform one-way ANOVA\n",
    "f_stat, p_value = f_oneway(*anova_data)\n",
    "\n",
    "# Output the results\n",
    "print(f\"F-Statistic: {f_stat}\")\n",
    "print(f\"P-Value: {p_value}\")\n",
    "\n",
    "# Interpretation\n",
    "if p_value < 0.05:\n",
    "    print(\"There is a statistically significant difference between groups.\")\n",
    "else:\n",
    "    print(\"No statistically significant difference between groups.\")"
   ]
  },
  {
   "cell_type": "markdown",
   "id": "0d79340f",
   "metadata": {},
   "source": [
    "## 3. Ethnic Background"
   ]
  },
  {
   "cell_type": "code",
   "execution_count": 36,
   "id": "61e23145",
   "metadata": {},
   "outputs": [
    {
     "name": "stdout",
     "output_type": "stream",
     "text": [
      "F-Statistic: 5.173344302558738\n",
      "P-Value: 0.001625022688211805\n",
      "There is a statistically significant difference between groups.\n"
     ]
    }
   ],
   "source": [
    "#1\n",
    "import pandas as pd\n",
    "from scipy.stats import f_oneway\n",
    "\n",
    "# Load your CSV file\n",
    "file_path = \"Volunteer Engagement in Sustainable Merton - Summary.csv\"  # Replace with your actual file path\n",
    "data = pd.read_csv(file_path)\n",
    "\n",
    "# Example: Perform ANOVA for \"Motivations - Career\" across \"Age\"\n",
    "# Ensure the column names match exactly in your dataset\n",
    "groups = data.groupby(\"How do you identify your ethnic background?\\n(Please select the option that best describes you.) \")[\"Motivations - Career\"]\n",
    "\n",
    "# Extract the scores for each age group\n",
    "anova_data = [group.dropna().values for _, group in groups]  # Drop NaN values if any\n",
    "\n",
    "# Perform one-way ANOVA\n",
    "f_stat, p_value = f_oneway(*anova_data)\n",
    "\n",
    "# Output the results\n",
    "print(f\"F-Statistic: {f_stat}\")\n",
    "print(f\"P-Value: {p_value}\")\n",
    "\n",
    "# Interpretation\n",
    "if p_value < 0.05:\n",
    "    print(\"There is a statistically significant difference between groups.\")\n",
    "else:\n",
    "    print(\"No statistically significant difference between groups.\")"
   ]
  },
  {
   "cell_type": "code",
   "execution_count": 37,
   "id": "e9a22857",
   "metadata": {},
   "outputs": [
    {
     "name": "stdout",
     "output_type": "stream",
     "text": [
      "F-Statistic: 2.0497088145830857\n",
      "P-Value: 0.10340959031231656\n",
      "No statistically significant difference between groups.\n"
     ]
    }
   ],
   "source": [
    "#2\n",
    "\n",
    "# Load your CSV file\n",
    "file_path = \"Volunteer Engagement in Sustainable Merton - Summary.csv\"  # Replace with your actual file path\n",
    "data = pd.read_csv(file_path)\n",
    "\n",
    "groups = data.groupby(\"How do you identify your ethnic background?\\n(Please select the option that best describes you.) \")[\"Motivations - Social\"]\n",
    "\n",
    "# Extract the scores for each age group\n",
    "anova_data = [group.dropna().values for _, group in groups]  # Drop NaN values if any\n",
    "\n",
    "# Perform one-way ANOVA\n",
    "f_stat, p_value = f_oneway(*anova_data)\n",
    "\n",
    "# Output the results\n",
    "print(f\"F-Statistic: {f_stat}\")\n",
    "print(f\"P-Value: {p_value}\")\n",
    "\n",
    "# Interpretation\n",
    "if p_value < 0.05:\n",
    "    print(\"There is a statistically significant difference between groups.\")\n",
    "else:\n",
    "    print(\"No statistically significant difference between groups.\")"
   ]
  },
  {
   "cell_type": "code",
   "execution_count": 38,
   "id": "b1b0b526",
   "metadata": {},
   "outputs": [
    {
     "name": "stdout",
     "output_type": "stream",
     "text": [
      "F-Statistic: 0.31268561810360956\n",
      "P-Value: 0.8680020489887591\n",
      "No statistically significant difference between groups.\n"
     ]
    }
   ],
   "source": [
    "#3\n",
    "\n",
    "# Load your CSV file\n",
    "file_path = \"Volunteer Engagement in Sustainable Merton - Summary.csv\"  # Replace with your actual file path\n",
    "data = pd.read_csv(file_path)\n",
    "\n",
    "groups = data.groupby(\"How do you identify your ethnic background?\\n(Please select the option that best describes you.) \")[\"Motivations - Values\"]\n",
    "\n",
    "# Extract the scores for each age group\n",
    "anova_data = [group.dropna().values for _, group in groups]  # Drop NaN values if any\n",
    "\n",
    "# Perform one-way ANOVA\n",
    "f_stat, p_value = f_oneway(*anova_data)\n",
    "\n",
    "# Output the results\n",
    "print(f\"F-Statistic: {f_stat}\")\n",
    "print(f\"P-Value: {p_value}\")\n",
    "\n",
    "# Interpretation\n",
    "if p_value < 0.05:\n",
    "    print(\"There is a statistically significant difference between groups.\")\n",
    "else:\n",
    "    print(\"No statistically significant difference between groups.\")"
   ]
  },
  {
   "cell_type": "code",
   "execution_count": 39,
   "id": "a26a6c8f",
   "metadata": {},
   "outputs": [
    {
     "name": "stdout",
     "output_type": "stream",
     "text": [
      "F-Statistic: 3.925310412499529\n",
      "P-Value: 0.008111796613584542\n",
      "There is a statistically significant difference between groups.\n"
     ]
    }
   ],
   "source": [
    "#4\n",
    "\n",
    "# Load your CSV file\n",
    "file_path = \"Volunteer Engagement in Sustainable Merton - Summary.csv\"  # Replace with your actual file path\n",
    "data = pd.read_csv(file_path)\n",
    "\n",
    "groups = data.groupby(\"How do you identify your ethnic background?\\n(Please select the option that best describes you.) \")[\"Motivations - Understd\"]\n",
    "\n",
    "# Extract the scores for each age group\n",
    "anova_data = [group.dropna().values for _, group in groups]  # Drop NaN values if any\n",
    "\n",
    "# Perform one-way ANOVA\n",
    "f_stat, p_value = f_oneway(*anova_data)\n",
    "\n",
    "# Output the results\n",
    "print(f\"F-Statistic: {f_stat}\")\n",
    "print(f\"P-Value: {p_value}\")\n",
    "\n",
    "# Interpretation\n",
    "if p_value < 0.05:\n",
    "    print(\"There is a statistically significant difference between groups.\")\n",
    "else:\n",
    "    print(\"No statistically significant difference between groups.\")"
   ]
  },
  {
   "cell_type": "code",
   "execution_count": 40,
   "id": "35fa397a",
   "metadata": {},
   "outputs": [
    {
     "name": "stdout",
     "output_type": "stream",
     "text": [
      "F-Statistic: 4.562569993196921\n",
      "P-Value: 0.0035316996300269405\n",
      "There is a statistically significant difference between groups.\n"
     ]
    }
   ],
   "source": [
    "#5\n",
    "\n",
    "# Load your CSV file\n",
    "file_path = \"Volunteer Engagement in Sustainable Merton - Summary.csv\"  # Replace with your actual file path\n",
    "data = pd.read_csv(file_path)\n",
    "\n",
    "groups = data.groupby(\"How do you identify your ethnic background?\\n(Please select the option that best describes you.) \")[\"Motivations - Enhance\"]\n",
    "\n",
    "# Extract the scores for each age group\n",
    "anova_data = [group.dropna().values for _, group in groups]  # Drop NaN values if any\n",
    "\n",
    "# Perform one-way ANOVA\n",
    "f_stat, p_value = f_oneway(*anova_data)\n",
    "\n",
    "# Output the results\n",
    "print(f\"F-Statistic: {f_stat}\")\n",
    "print(f\"P-Value: {p_value}\")\n",
    "\n",
    "# Interpretation\n",
    "if p_value < 0.05:\n",
    "    print(\"There is a statistically significant difference between groups.\")\n",
    "else:\n",
    "    print(\"No statistically significant difference between groups.\")"
   ]
  },
  {
   "cell_type": "code",
   "execution_count": 41,
   "id": "c3b68d6f",
   "metadata": {},
   "outputs": [
    {
     "name": "stdout",
     "output_type": "stream",
     "text": [
      "F-Statistic: 2.6375765919491196\n",
      "P-Value: 0.04612293106177416\n",
      "There is a statistically significant difference between groups.\n"
     ]
    }
   ],
   "source": [
    "#6\n",
    "\n",
    "# Load your CSV file\n",
    "file_path = \"Volunteer Engagement in Sustainable Merton - Summary.csv\"  # Replace with your actual file path\n",
    "data = pd.read_csv(file_path)\n",
    "\n",
    "groups = data.groupby(\"How do you identify your ethnic background?\\n(Please select the option that best describes you.) \")[\"Motivations - Protect\"]\n",
    "\n",
    "# Extract the scores for each age group\n",
    "anova_data = [group.dropna().values for _, group in groups]  # Drop NaN values if any\n",
    "\n",
    "# Perform one-way ANOVA\n",
    "f_stat, p_value = f_oneway(*anova_data)\n",
    "\n",
    "# Output the results\n",
    "print(f\"F-Statistic: {f_stat}\")\n",
    "print(f\"P-Value: {p_value}\")\n",
    "\n",
    "# Interpretation\n",
    "if p_value < 0.05:\n",
    "    print(\"There is a statistically significant difference between groups.\")\n",
    "else:\n",
    "    print(\"No statistically significant difference between groups.\")"
   ]
  },
  {
   "cell_type": "code",
   "execution_count": 42,
   "id": "d5aa19f0",
   "metadata": {},
   "outputs": [
    {
     "name": "stdout",
     "output_type": "stream",
     "text": [
      "F-Statistic: 2.09344472996097\n",
      "P-Value: 0.09738720139581482\n",
      "No statistically significant difference between groups.\n"
     ]
    }
   ],
   "source": [
    "#7\n",
    "\n",
    "# Load your CSV file\n",
    "file_path = \"Volunteer Engagement in Sustainable Merton - Summary.csv\"  # Replace with your actual file path\n",
    "data = pd.read_csv(file_path)\n",
    "\n",
    "groups = data.groupby(\"How do you identify your ethnic background?\\n(Please select the option that best describes you.) \")[\"Engagement - Vigor\"]\n",
    "\n",
    "# Extract the scores for each age group\n",
    "anova_data = [group.dropna().values for _, group in groups]  # Drop NaN values if any\n",
    "\n",
    "# Perform one-way ANOVA\n",
    "f_stat, p_value = f_oneway(*anova_data)\n",
    "\n",
    "# Output the results\n",
    "print(f\"F-Statistic: {f_stat}\")\n",
    "print(f\"P-Value: {p_value}\")\n",
    "\n",
    "# Interpretation\n",
    "if p_value < 0.05:\n",
    "    print(\"There is a statistically significant difference between groups.\")\n",
    "else:\n",
    "    print(\"No statistically significant difference between groups.\")"
   ]
  },
  {
   "cell_type": "code",
   "execution_count": 43,
   "id": "dff2c387",
   "metadata": {},
   "outputs": [
    {
     "name": "stdout",
     "output_type": "stream",
     "text": [
      "F-Statistic: 2.694131594473146\n",
      "P-Value: 0.042682537892609944\n",
      "There is a statistically significant difference between groups.\n"
     ]
    }
   ],
   "source": [
    "#8\n",
    "\n",
    "# Load your CSV file\n",
    "file_path = \"Volunteer Engagement in Sustainable Merton - Summary.csv\"  # Replace with your actual file path\n",
    "data = pd.read_csv(file_path)\n",
    "\n",
    "groups = data.groupby(\"How do you identify your ethnic background?\\n(Please select the option that best describes you.) \")[\"Engagement - Dedication\"]\n",
    "\n",
    "# Extract the scores for each age group\n",
    "anova_data = [group.dropna().values for _, group in groups]  # Drop NaN values if any\n",
    "\n",
    "# Perform one-way ANOVA\n",
    "f_stat, p_value = f_oneway(*anova_data)\n",
    "\n",
    "# Output the results\n",
    "print(f\"F-Statistic: {f_stat}\")\n",
    "print(f\"P-Value: {p_value}\")\n",
    "\n",
    "# Interpretation\n",
    "if p_value < 0.05:\n",
    "    print(\"There is a statistically significant difference between groups.\")\n",
    "else:\n",
    "    print(\"No statistically significant difference between groups.\")"
   ]
  },
  {
   "cell_type": "code",
   "execution_count": 44,
   "id": "d3b87c78",
   "metadata": {},
   "outputs": [
    {
     "name": "stdout",
     "output_type": "stream",
     "text": [
      "F-Statistic: 1.538781676003434\n",
      "P-Value: 0.2071708654662448\n",
      "No statistically significant difference between groups.\n"
     ]
    }
   ],
   "source": [
    "#9\n",
    "\n",
    "# Load your CSV file\n",
    "file_path = \"Volunteer Engagement in Sustainable Merton - Summary.csv\"  # Replace with your actual file path\n",
    "data = pd.read_csv(file_path)\n",
    "\n",
    "groups = data.groupby(\"How do you identify your ethnic background?\\n(Please select the option that best describes you.) \")[\"Engagement - Absorption\"]\n",
    "\n",
    "# Extract the scores for each age group\n",
    "anova_data = [group.dropna().values for _, group in groups]  # Drop NaN values if any\n",
    "\n",
    "# Perform one-way ANOVA\n",
    "f_stat, p_value = f_oneway(*anova_data)\n",
    "\n",
    "# Output the results\n",
    "print(f\"F-Statistic: {f_stat}\")\n",
    "print(f\"P-Value: {p_value}\")\n",
    "\n",
    "# Interpretation\n",
    "if p_value < 0.05:\n",
    "    print(\"There is a statistically significant difference between groups.\")\n",
    "else:\n",
    "    print(\"No statistically significant difference between groups.\")"
   ]
  },
  {
   "cell_type": "code",
   "execution_count": 45,
   "id": "b523d36c",
   "metadata": {},
   "outputs": [
    {
     "name": "stdout",
     "output_type": "stream",
     "text": [
      "F-Statistic: 2.137567613977849\n",
      "P-Value: 0.09166346121489172\n",
      "No statistically significant difference between groups.\n"
     ]
    }
   ],
   "source": [
    "#10\n",
    "\n",
    "# Load your CSV file\n",
    "file_path = \"Volunteer Engagement in Sustainable Merton - Summary.csv\"  # Replace with your actual file path\n",
    "data = pd.read_csv(file_path)\n",
    "\n",
    "groups = data.groupby(\"How do you identify your ethnic background?\\n(Please select the option that best describes you.) \")[\"Satisfaction - Task\"]\n",
    "\n",
    "# Extract the scores for each age group\n",
    "anova_data = [group.dropna().values for _, group in groups]  # Drop NaN values if any\n",
    "\n",
    "# Perform one-way ANOVA\n",
    "f_stat, p_value = f_oneway(*anova_data)\n",
    "\n",
    "# Output the results\n",
    "print(f\"F-Statistic: {f_stat}\")\n",
    "print(f\"P-Value: {p_value}\")\n",
    "\n",
    "# Interpretation\n",
    "if p_value < 0.05:\n",
    "    print(\"There is a statistically significant difference between groups.\")\n",
    "else:\n",
    "    print(\"No statistically significant difference between groups.\")"
   ]
  },
  {
   "cell_type": "code",
   "execution_count": 46,
   "id": "cee76fc2",
   "metadata": {},
   "outputs": [
    {
     "name": "stdout",
     "output_type": "stream",
     "text": [
      "F-Statistic: 2.1324297408864163\n",
      "P-Value: 0.0923124165635675\n",
      "No statistically significant difference between groups.\n"
     ]
    }
   ],
   "source": [
    "#11\n",
    "\n",
    "# Load your CSV file\n",
    "file_path = \"Volunteer Engagement in Sustainable Merton - Summary.csv\"  # Replace with your actual file path\n",
    "data = pd.read_csv(file_path)\n",
    "\n",
    "groups = data.groupby(\"How do you identify your ethnic background?\\n(Please select the option that best describes you.) \")[\"Satisfaction - Organisation\"]\n",
    "\n",
    "# Extract the scores for each age group\n",
    "anova_data = [group.dropna().values for _, group in groups]  # Drop NaN values if any\n",
    "\n",
    "# Perform one-way ANOVA\n",
    "f_stat, p_value = f_oneway(*anova_data)\n",
    "\n",
    "# Output the results\n",
    "print(f\"F-Statistic: {f_stat}\")\n",
    "print(f\"P-Value: {p_value}\")\n",
    "\n",
    "# Interpretation\n",
    "if p_value < 0.05:\n",
    "    print(\"There is a statistically significant difference between groups.\")\n",
    "else:\n",
    "    print(\"No statistically significant difference between groups.\")"
   ]
  },
  {
   "cell_type": "code",
   "execution_count": 47,
   "id": "726c9411",
   "metadata": {},
   "outputs": [
    {
     "name": "stdout",
     "output_type": "stream",
     "text": [
      "F-Statistic: 1.4263281471004243\n",
      "P-Value: 0.24074636164820193\n",
      "No statistically significant difference between groups.\n"
     ]
    }
   ],
   "source": [
    "#12\n",
    "\n",
    "# Load your CSV file\n",
    "file_path = \"Volunteer Engagement in Sustainable Merton - Summary.csv\"  # Replace with your actual file path\n",
    "data = pd.read_csv(file_path)\n",
    "\n",
    "groups = data.groupby(\"How do you identify your ethnic background?\\n(Please select the option that best describes you.) \")[\"Commitment\"]\n",
    "\n",
    "# Extract the scores for each age group\n",
    "anova_data = [group.dropna().values for _, group in groups]  # Drop NaN values if any\n",
    "\n",
    "# Perform one-way ANOVA\n",
    "f_stat, p_value = f_oneway(*anova_data)\n",
    "\n",
    "# Output the results\n",
    "print(f\"F-Statistic: {f_stat}\")\n",
    "print(f\"P-Value: {p_value}\")\n",
    "\n",
    "# Interpretation\n",
    "if p_value < 0.05:\n",
    "    print(\"There is a statistically significant difference between groups.\")\n",
    "else:\n",
    "    print(\"No statistically significant difference between groups.\")"
   ]
  },
  {
   "cell_type": "markdown",
   "id": "d9da31c0",
   "metadata": {},
   "source": [
    "## 4. Disability Status"
   ]
  },
  {
   "cell_type": "code",
   "execution_count": 49,
   "id": "d27f680d",
   "metadata": {},
   "outputs": [
    {
     "name": "stdout",
     "output_type": "stream",
     "text": [
      "F-Statistic: 0.29326246676347223\n",
      "P-Value: 0.7471810896102404\n",
      "No statistically significant difference between groups.\n"
     ]
    }
   ],
   "source": [
    "#1\n",
    "import pandas as pd\n",
    "from scipy.stats import f_oneway\n",
    "\n",
    "# Load your CSV file\n",
    "file_path = \"Volunteer Engagement in Sustainable Merton - Summary.csv\"  # Replace with your actual file path\n",
    "data = pd.read_csv(file_path)\n",
    "\n",
    "# Example: Perform ANOVA for \"Motivations - Career\" across \"Age\"\n",
    "# Ensure the column names match exactly in your dataset\n",
    "groups = data.groupby(\"Do you identify as having a disability? \")[\"Motivations - Career\"]\n",
    "\n",
    "# Extract the scores for each age group\n",
    "anova_data = [group.dropna().values for _, group in groups]  # Drop NaN values if any\n",
    "\n",
    "# Perform one-way ANOVA\n",
    "f_stat, p_value = f_oneway(*anova_data)\n",
    "\n",
    "# Output the results\n",
    "print(f\"F-Statistic: {f_stat}\")\n",
    "print(f\"P-Value: {p_value}\")\n",
    "\n",
    "# Interpretation\n",
    "if p_value < 0.05:\n",
    "    print(\"There is a statistically significant difference between groups.\")\n",
    "else:\n",
    "    print(\"No statistically significant difference between groups.\")"
   ]
  },
  {
   "cell_type": "code",
   "execution_count": 50,
   "id": "84c50874",
   "metadata": {},
   "outputs": [
    {
     "name": "stdout",
     "output_type": "stream",
     "text": [
      "F-Statistic: 0.4395352555902369\n",
      "P-Value: 0.6469570636757545\n",
      "No statistically significant difference between groups.\n"
     ]
    }
   ],
   "source": [
    "#2\n",
    "\n",
    "# Load your CSV file\n",
    "file_path = \"Volunteer Engagement in Sustainable Merton - Summary.csv\"  # Replace with your actual file path\n",
    "data = pd.read_csv(file_path)\n",
    "\n",
    "groups = data.groupby(\"Do you identify as having a disability? \")[\"Motivations - Social\"]\n",
    "\n",
    "# Extract the scores for each age group\n",
    "anova_data = [group.dropna().values for _, group in groups]  # Drop NaN values if any\n",
    "\n",
    "# Perform one-way ANOVA\n",
    "f_stat, p_value = f_oneway(*anova_data)\n",
    "\n",
    "# Output the results\n",
    "print(f\"F-Statistic: {f_stat}\")\n",
    "print(f\"P-Value: {p_value}\")\n",
    "\n",
    "# Interpretation\n",
    "if p_value < 0.05:\n",
    "    print(\"There is a statistically significant difference between groups.\")\n",
    "else:\n",
    "    print(\"No statistically significant difference between groups.\")"
   ]
  },
  {
   "cell_type": "code",
   "execution_count": 51,
   "id": "108b5a3f",
   "metadata": {},
   "outputs": [
    {
     "name": "stdout",
     "output_type": "stream",
     "text": [
      "F-Statistic: 1.2067217630854\n",
      "P-Value: 0.3082757334437812\n",
      "No statistically significant difference between groups.\n"
     ]
    }
   ],
   "source": [
    "#3\n",
    "\n",
    "# Load your CSV file\n",
    "file_path = \"Volunteer Engagement in Sustainable Merton - Summary.csv\"  # Replace with your actual file path\n",
    "data = pd.read_csv(file_path)\n",
    "\n",
    "groups = data.groupby(\"Do you identify as having a disability? \")[\"Motivations - Values\"]\n",
    "\n",
    "# Extract the scores for each age group\n",
    "anova_data = [group.dropna().values for _, group in groups]  # Drop NaN values if any\n",
    "\n",
    "# Perform one-way ANOVA\n",
    "f_stat, p_value = f_oneway(*anova_data)\n",
    "\n",
    "# Output the results\n",
    "print(f\"F-Statistic: {f_stat}\")\n",
    "print(f\"P-Value: {p_value}\")\n",
    "\n",
    "# Interpretation\n",
    "if p_value < 0.05:\n",
    "    print(\"There is a statistically significant difference between groups.\")\n",
    "else:\n",
    "    print(\"No statistically significant difference between groups.\")"
   ]
  },
  {
   "cell_type": "code",
   "execution_count": 52,
   "id": "41ad2ba5",
   "metadata": {},
   "outputs": [
    {
     "name": "stdout",
     "output_type": "stream",
     "text": [
      "F-Statistic: 0.8941183755643858\n",
      "P-Value: 0.41580937792316985\n",
      "No statistically significant difference between groups.\n"
     ]
    }
   ],
   "source": [
    "#4\n",
    "\n",
    "# Load your CSV file\n",
    "file_path = \"Volunteer Engagement in Sustainable Merton - Summary.csv\"  # Replace with your actual file path\n",
    "data = pd.read_csv(file_path)\n",
    "\n",
    "groups = data.groupby(\"Do you identify as having a disability? \")[\"Motivations - Understd\"]\n",
    "\n",
    "# Extract the scores for each age group\n",
    "anova_data = [group.dropna().values for _, group in groups]  # Drop NaN values if any\n",
    "\n",
    "# Perform one-way ANOVA\n",
    "f_stat, p_value = f_oneway(*anova_data)\n",
    "\n",
    "# Output the results\n",
    "print(f\"F-Statistic: {f_stat}\")\n",
    "print(f\"P-Value: {p_value}\")\n",
    "\n",
    "# Interpretation\n",
    "if p_value < 0.05:\n",
    "    print(\"There is a statistically significant difference between groups.\")\n",
    "else:\n",
    "    print(\"No statistically significant difference between groups.\")"
   ]
  },
  {
   "cell_type": "code",
   "execution_count": 53,
   "id": "e938861d",
   "metadata": {},
   "outputs": [
    {
     "name": "stdout",
     "output_type": "stream",
     "text": [
      "F-Statistic: 1.3239464235223422\n",
      "P-Value: 0.2758229314404366\n",
      "No statistically significant difference between groups.\n"
     ]
    }
   ],
   "source": [
    "#5\n",
    "\n",
    "# Load your CSV file\n",
    "file_path = \"Volunteer Engagement in Sustainable Merton - Summary.csv\"  # Replace with your actual file path\n",
    "data = pd.read_csv(file_path)\n",
    "\n",
    "groups = data.groupby(\"Do you identify as having a disability? \")[\"Motivations - Enhance\"]\n",
    "\n",
    "# Extract the scores for each age group\n",
    "anova_data = [group.dropna().values for _, group in groups]  # Drop NaN values if any\n",
    "\n",
    "# Perform one-way ANOVA\n",
    "f_stat, p_value = f_oneway(*anova_data)\n",
    "\n",
    "# Output the results\n",
    "print(f\"F-Statistic: {f_stat}\")\n",
    "print(f\"P-Value: {p_value}\")\n",
    "\n",
    "# Interpretation\n",
    "if p_value < 0.05:\n",
    "    print(\"There is a statistically significant difference between groups.\")\n",
    "else:\n",
    "    print(\"No statistically significant difference between groups.\")"
   ]
  },
  {
   "cell_type": "code",
   "execution_count": 54,
   "id": "6ec4168a",
   "metadata": {},
   "outputs": [
    {
     "name": "stdout",
     "output_type": "stream",
     "text": [
      "F-Statistic: 2.6245848787190287\n",
      "P-Value: 0.08306802893501071\n",
      "No statistically significant difference between groups.\n"
     ]
    }
   ],
   "source": [
    "#6\n",
    "\n",
    "# Load your CSV file\n",
    "file_path = \"Volunteer Engagement in Sustainable Merton - Summary.csv\"  # Replace with your actual file path\n",
    "data = pd.read_csv(file_path)\n",
    "\n",
    "groups = data.groupby(\"Do you identify as having a disability? \")[\"Motivations - Protect\"]\n",
    "\n",
    "# Extract the scores for each age group\n",
    "anova_data = [group.dropna().values for _, group in groups]  # Drop NaN values if any\n",
    "\n",
    "# Perform one-way ANOVA\n",
    "f_stat, p_value = f_oneway(*anova_data)\n",
    "\n",
    "# Output the results\n",
    "print(f\"F-Statistic: {f_stat}\")\n",
    "print(f\"P-Value: {p_value}\")\n",
    "\n",
    "# Interpretation\n",
    "if p_value < 0.05:\n",
    "    print(\"There is a statistically significant difference between groups.\")\n",
    "else:\n",
    "    print(\"No statistically significant difference between groups.\")"
   ]
  },
  {
   "cell_type": "code",
   "execution_count": 55,
   "id": "7a3bc66c",
   "metadata": {},
   "outputs": [
    {
     "name": "stdout",
     "output_type": "stream",
     "text": [
      "F-Statistic: 0.8601932176967713\n",
      "P-Value: 0.42963300760444445\n",
      "No statistically significant difference between groups.\n"
     ]
    }
   ],
   "source": [
    "#7\n",
    "\n",
    "# Load your CSV file\n",
    "file_path = \"Volunteer Engagement in Sustainable Merton - Summary.csv\"  # Replace with your actual file path\n",
    "data = pd.read_csv(file_path)\n",
    "\n",
    "groups = data.groupby(\"Do you identify as having a disability? \")[\"Engagement - Vigor\"]\n",
    "\n",
    "# Extract the scores for each age group\n",
    "anova_data = [group.dropna().values for _, group in groups]  # Drop NaN values if any\n",
    "\n",
    "# Perform one-way ANOVA\n",
    "f_stat, p_value = f_oneway(*anova_data)\n",
    "\n",
    "# Output the results\n",
    "print(f\"F-Statistic: {f_stat}\")\n",
    "print(f\"P-Value: {p_value}\")\n",
    "\n",
    "# Interpretation\n",
    "if p_value < 0.05:\n",
    "    print(\"There is a statistically significant difference between groups.\")\n",
    "else:\n",
    "    print(\"No statistically significant difference between groups.\")"
   ]
  },
  {
   "cell_type": "code",
   "execution_count": 56,
   "id": "8bbffc88",
   "metadata": {},
   "outputs": [
    {
     "name": "stdout",
     "output_type": "stream",
     "text": [
      "F-Statistic: 0.3077423548865514\n",
      "P-Value: 0.7365745929583427\n",
      "No statistically significant difference between groups.\n"
     ]
    }
   ],
   "source": [
    "#8\n",
    "\n",
    "# Load your CSV file\n",
    "file_path = \"Volunteer Engagement in Sustainable Merton - Summary.csv\"  # Replace with your actual file path\n",
    "data = pd.read_csv(file_path)\n",
    "\n",
    "groups = data.groupby(\"Do you identify as having a disability? \")[\"Engagement - Dedication\"]\n",
    "\n",
    "# Extract the scores for each age group\n",
    "anova_data = [group.dropna().values for _, group in groups]  # Drop NaN values if any\n",
    "\n",
    "# Perform one-way ANOVA\n",
    "f_stat, p_value = f_oneway(*anova_data)\n",
    "\n",
    "# Output the results\n",
    "print(f\"F-Statistic: {f_stat}\")\n",
    "print(f\"P-Value: {p_value}\")\n",
    "\n",
    "# Interpretation\n",
    "if p_value < 0.05:\n",
    "    print(\"There is a statistically significant difference between groups.\")\n",
    "else:\n",
    "    print(\"No statistically significant difference between groups.\")"
   ]
  },
  {
   "cell_type": "code",
   "execution_count": 57,
   "id": "bc1d55b3",
   "metadata": {},
   "outputs": [
    {
     "name": "stdout",
     "output_type": "stream",
     "text": [
      "F-Statistic: 0.7608486890847059\n",
      "P-Value: 0.47293778913195716\n",
      "No statistically significant difference between groups.\n"
     ]
    }
   ],
   "source": [
    "#9\n",
    "\n",
    "# Load your CSV file\n",
    "file_path = \"Volunteer Engagement in Sustainable Merton - Summary.csv\"  # Replace with your actual file path\n",
    "data = pd.read_csv(file_path)\n",
    "\n",
    "groups = data.groupby(\"Do you identify as having a disability? \")[\"Engagement - Absorption\"]\n",
    "\n",
    "# Extract the scores for each age group\n",
    "anova_data = [group.dropna().values for _, group in groups]  # Drop NaN values if any\n",
    "\n",
    "# Perform one-way ANOVA\n",
    "f_stat, p_value = f_oneway(*anova_data)\n",
    "\n",
    "# Output the results\n",
    "print(f\"F-Statistic: {f_stat}\")\n",
    "print(f\"P-Value: {p_value}\")\n",
    "\n",
    "# Interpretation\n",
    "if p_value < 0.05:\n",
    "    print(\"There is a statistically significant difference between groups.\")\n",
    "else:\n",
    "    print(\"No statistically significant difference between groups.\")"
   ]
  },
  {
   "cell_type": "code",
   "execution_count": 58,
   "id": "5e4f9d6d",
   "metadata": {},
   "outputs": [
    {
     "name": "stdout",
     "output_type": "stream",
     "text": [
      "F-Statistic: 0.6704420227745808\n",
      "P-Value: 0.5163055980017369\n",
      "No statistically significant difference between groups.\n"
     ]
    }
   ],
   "source": [
    "#10\n",
    "\n",
    "# Load your CSV file\n",
    "file_path = \"Volunteer Engagement in Sustainable Merton - Summary.csv\"  # Replace with your actual file path\n",
    "data = pd.read_csv(file_path)\n",
    "\n",
    "groups = data.groupby(\"Do you identify as having a disability? \")[\"Satisfaction - Task\"]\n",
    "\n",
    "# Extract the scores for each age group\n",
    "anova_data = [group.dropna().values for _, group in groups]  # Drop NaN values if any\n",
    "\n",
    "# Perform one-way ANOVA\n",
    "f_stat, p_value = f_oneway(*anova_data)\n",
    "\n",
    "# Output the results\n",
    "print(f\"F-Statistic: {f_stat}\")\n",
    "print(f\"P-Value: {p_value}\")\n",
    "\n",
    "# Interpretation\n",
    "if p_value < 0.05:\n",
    "    print(\"There is a statistically significant difference between groups.\")\n",
    "else:\n",
    "    print(\"No statistically significant difference between groups.\")"
   ]
  },
  {
   "cell_type": "code",
   "execution_count": 59,
   "id": "9c30d943",
   "metadata": {},
   "outputs": [
    {
     "name": "stdout",
     "output_type": "stream",
     "text": [
      "F-Statistic: 1.0325211866187638\n",
      "P-Value: 0.3640436606435315\n",
      "No statistically significant difference between groups.\n"
     ]
    }
   ],
   "source": [
    "#11\n",
    "\n",
    "# Load your CSV file\n",
    "file_path = \"Volunteer Engagement in Sustainable Merton - Summary.csv\"  # Replace with your actual file path\n",
    "data = pd.read_csv(file_path)\n",
    "\n",
    "groups = data.groupby(\"Do you identify as having a disability? \")[\"Satisfaction - Organisation\"]\n",
    "\n",
    "# Extract the scores for each age group\n",
    "anova_data = [group.dropna().values for _, group in groups]  # Drop NaN values if any\n",
    "\n",
    "# Perform one-way ANOVA\n",
    "f_stat, p_value = f_oneway(*anova_data)\n",
    "\n",
    "# Output the results\n",
    "print(f\"F-Statistic: {f_stat}\")\n",
    "print(f\"P-Value: {p_value}\")\n",
    "\n",
    "# Interpretation\n",
    "if p_value < 0.05:\n",
    "    print(\"There is a statistically significant difference between groups.\")\n",
    "else:\n",
    "    print(\"No statistically significant difference between groups.\")"
   ]
  },
  {
   "cell_type": "code",
   "execution_count": 60,
   "id": "6d396068",
   "metadata": {},
   "outputs": [
    {
     "name": "stdout",
     "output_type": "stream",
     "text": [
      "F-Statistic: 1.9965686469070665\n",
      "P-Value: 0.14715463759447273\n",
      "No statistically significant difference between groups.\n"
     ]
    }
   ],
   "source": [
    "#12\n",
    "\n",
    "# Load your CSV file\n",
    "file_path = \"Volunteer Engagement in Sustainable Merton - Summary.csv\"  # Replace with your actual file path\n",
    "data = pd.read_csv(file_path)\n",
    "\n",
    "groups = data.groupby(\"Do you identify as having a disability? \")[\"Commitment\"]\n",
    "\n",
    "# Extract the scores for each age group\n",
    "anova_data = [group.dropna().values for _, group in groups]  # Drop NaN values if any\n",
    "\n",
    "# Perform one-way ANOVA\n",
    "f_stat, p_value = f_oneway(*anova_data)\n",
    "\n",
    "# Output the results\n",
    "print(f\"F-Statistic: {f_stat}\")\n",
    "print(f\"P-Value: {p_value}\")\n",
    "\n",
    "# Interpretation\n",
    "if p_value < 0.05:\n",
    "    print(\"There is a statistically significant difference between groups.\")\n",
    "else:\n",
    "    print(\"No statistically significant difference between groups.\")"
   ]
  },
  {
   "cell_type": "markdown",
   "id": "e6ed9309",
   "metadata": {},
   "source": [
    "## 5. Education Level"
   ]
  },
  {
   "cell_type": "code",
   "execution_count": 62,
   "id": "8ac61774",
   "metadata": {},
   "outputs": [
    {
     "name": "stdout",
     "output_type": "stream",
     "text": [
      "F-Statistic: 2.6228436441276974\n",
      "P-Value: 0.036818374665591375\n",
      "There is a statistically significant difference between groups.\n"
     ]
    }
   ],
   "source": [
    "#1\n",
    "import pandas as pd\n",
    "from scipy.stats import f_oneway\n",
    "\n",
    "# Load your CSV file\n",
    "file_path = \"Volunteer Engagement in Sustainable Merton - Summary.csv\"  # Replace with your actual file path\n",
    "data = pd.read_csv(file_path)\n",
    "\n",
    "# Example: Perform ANOVA for \"Motivations - Career\" across \"Age\"\n",
    "# Ensure the column names match exactly in your dataset\n",
    "groups = data.groupby(\"What is the highest level of education you have completed?\\n(Please select the option that best describes your educational attainment.) \")[\"Motivations - Career\"]\n",
    "\n",
    "# Extract the scores for each age group\n",
    "anova_data = [group.dropna().values for _, group in groups]  # Drop NaN values if any\n",
    "\n",
    "# Perform one-way ANOVA\n",
    "f_stat, p_value = f_oneway(*anova_data)\n",
    "\n",
    "# Output the results\n",
    "print(f\"F-Statistic: {f_stat}\")\n",
    "print(f\"P-Value: {p_value}\")\n",
    "\n",
    "# Interpretation\n",
    "if p_value < 0.05:\n",
    "    print(\"There is a statistically significant difference between groups.\")\n",
    "else:\n",
    "    print(\"No statistically significant difference between groups.\")"
   ]
  },
  {
   "cell_type": "code",
   "execution_count": 63,
   "id": "0ae53a49",
   "metadata": {},
   "outputs": [
    {
     "name": "stdout",
     "output_type": "stream",
     "text": [
      "F-Statistic: 1.6922386933737177\n",
      "P-Value: 0.1564850068694703\n",
      "No statistically significant difference between groups.\n"
     ]
    }
   ],
   "source": [
    "#2\n",
    "\n",
    "# Load your CSV file\n",
    "file_path = \"Volunteer Engagement in Sustainable Merton - Summary.csv\"  # Replace with your actual file path\n",
    "data = pd.read_csv(file_path)\n",
    "\n",
    "groups = data.groupby(\"What is the highest level of education you have completed?\\n(Please select the option that best describes your educational attainment.) \")[\"Motivations - Social\"]\n",
    "\n",
    "# Extract the scores for each age group\n",
    "anova_data = [group.dropna().values for _, group in groups]  # Drop NaN values if any\n",
    "\n",
    "# Perform one-way ANOVA\n",
    "f_stat, p_value = f_oneway(*anova_data)\n",
    "\n",
    "# Output the results\n",
    "print(f\"F-Statistic: {f_stat}\")\n",
    "print(f\"P-Value: {p_value}\")\n",
    "\n",
    "# Interpretation\n",
    "if p_value < 0.05:\n",
    "    print(\"There is a statistically significant difference between groups.\")\n",
    "else:\n",
    "    print(\"No statistically significant difference between groups.\")"
   ]
  },
  {
   "cell_type": "code",
   "execution_count": 64,
   "id": "1788c317",
   "metadata": {},
   "outputs": [
    {
     "name": "stdout",
     "output_type": "stream",
     "text": [
      "F-Statistic: 0.20605155450990723\n",
      "P-Value: 0.9582137833416118\n",
      "No statistically significant difference between groups.\n"
     ]
    }
   ],
   "source": [
    "#3\n",
    "\n",
    "# Load your CSV file\n",
    "file_path = \"Volunteer Engagement in Sustainable Merton - Summary.csv\"  # Replace with your actual file path\n",
    "data = pd.read_csv(file_path)\n",
    "\n",
    "groups = data.groupby(\"What is the highest level of education you have completed?\\n(Please select the option that best describes your educational attainment.) \")[\"Motivations - Values\"]\n",
    "\n",
    "# Extract the scores for each age group\n",
    "anova_data = [group.dropna().values for _, group in groups]  # Drop NaN values if any\n",
    "\n",
    "# Perform one-way ANOVA\n",
    "f_stat, p_value = f_oneway(*anova_data)\n",
    "\n",
    "# Output the results\n",
    "print(f\"F-Statistic: {f_stat}\")\n",
    "print(f\"P-Value: {p_value}\")\n",
    "\n",
    "# Interpretation\n",
    "if p_value < 0.05:\n",
    "    print(\"There is a statistically significant difference between groups.\")\n",
    "else:\n",
    "    print(\"No statistically significant difference between groups.\")"
   ]
  },
  {
   "cell_type": "code",
   "execution_count": 65,
   "id": "4fb5d4bc",
   "metadata": {},
   "outputs": [
    {
     "name": "stdout",
     "output_type": "stream",
     "text": [
      "F-Statistic: 2.0329652069495388\n",
      "P-Value: 0.09249465820323804\n",
      "No statistically significant difference between groups.\n"
     ]
    }
   ],
   "source": [
    "#4\n",
    "\n",
    "# Load your CSV file\n",
    "file_path = \"Volunteer Engagement in Sustainable Merton - Summary.csv\"  # Replace with your actual file path\n",
    "data = pd.read_csv(file_path)\n",
    "\n",
    "groups = data.groupby(\"What is the highest level of education you have completed?\\n(Please select the option that best describes your educational attainment.) \")[\"Motivations - Understd\"]\n",
    "\n",
    "# Extract the scores for each age group\n",
    "anova_data = [group.dropna().values for _, group in groups]  # Drop NaN values if any\n",
    "\n",
    "# Perform one-way ANOVA\n",
    "f_stat, p_value = f_oneway(*anova_data)\n",
    "\n",
    "# Output the results\n",
    "print(f\"F-Statistic: {f_stat}\")\n",
    "print(f\"P-Value: {p_value}\")\n",
    "\n",
    "# Interpretation\n",
    "if p_value < 0.05:\n",
    "    print(\"There is a statistically significant difference between groups.\")\n",
    "else:\n",
    "    print(\"No statistically significant difference between groups.\")"
   ]
  },
  {
   "cell_type": "code",
   "execution_count": 66,
   "id": "58817fef",
   "metadata": {},
   "outputs": [
    {
     "name": "stdout",
     "output_type": "stream",
     "text": [
      "F-Statistic: 6.412435809969861\n",
      "P-Value: 0.00014846977519976438\n",
      "There is a statistically significant difference between groups.\n"
     ]
    }
   ],
   "source": [
    "#5\n",
    "\n",
    "# Load your CSV file\n",
    "file_path = \"Volunteer Engagement in Sustainable Merton - Summary.csv\"  # Replace with your actual file path\n",
    "data = pd.read_csv(file_path)\n",
    "\n",
    "groups = data.groupby(\"What is the highest level of education you have completed?\\n(Please select the option that best describes your educational attainment.) \")[\"Motivations - Enhance\"]\n",
    "\n",
    "# Extract the scores for each age group\n",
    "anova_data = [group.dropna().values for _, group in groups]  # Drop NaN values if any\n",
    "\n",
    "# Perform one-way ANOVA\n",
    "f_stat, p_value = f_oneway(*anova_data)\n",
    "\n",
    "# Output the results\n",
    "print(f\"F-Statistic: {f_stat}\")\n",
    "print(f\"P-Value: {p_value}\")\n",
    "\n",
    "# Interpretation\n",
    "if p_value < 0.05:\n",
    "    print(\"There is a statistically significant difference between groups.\")\n",
    "else:\n",
    "    print(\"No statistically significant difference between groups.\")"
   ]
  },
  {
   "cell_type": "code",
   "execution_count": 67,
   "id": "1eb4ef55",
   "metadata": {},
   "outputs": [
    {
     "name": "stdout",
     "output_type": "stream",
     "text": [
      "F-Statistic: 3.5631284782478607\n",
      "P-Value: 0.008611872135272721\n",
      "There is a statistically significant difference between groups.\n"
     ]
    }
   ],
   "source": [
    "#6\n",
    "\n",
    "# Load your CSV file\n",
    "file_path = \"Volunteer Engagement in Sustainable Merton - Summary.csv\"  # Replace with your actual file path\n",
    "data = pd.read_csv(file_path)\n",
    "\n",
    "groups = data.groupby(\"What is the highest level of education you have completed?\\n(Please select the option that best describes your educational attainment.) \")[\"Motivations - Protect\"]\n",
    "\n",
    "# Extract the scores for each age group\n",
    "anova_data = [group.dropna().values for _, group in groups]  # Drop NaN values if any\n",
    "\n",
    "# Perform one-way ANOVA\n",
    "f_stat, p_value = f_oneway(*anova_data)\n",
    "\n",
    "# Output the results\n",
    "print(f\"F-Statistic: {f_stat}\")\n",
    "print(f\"P-Value: {p_value}\")\n",
    "\n",
    "# Interpretation\n",
    "if p_value < 0.05:\n",
    "    print(\"There is a statistically significant difference between groups.\")\n",
    "else:\n",
    "    print(\"No statistically significant difference between groups.\")"
   ]
  },
  {
   "cell_type": "code",
   "execution_count": 68,
   "id": "324e6f85",
   "metadata": {},
   "outputs": [
    {
     "name": "stdout",
     "output_type": "stream",
     "text": [
      "F-Statistic: 1.0514449452891559\n",
      "P-Value: 0.40002471870409245\n",
      "No statistically significant difference between groups.\n"
     ]
    }
   ],
   "source": [
    "#7\n",
    "\n",
    "# Load your CSV file\n",
    "file_path = \"Volunteer Engagement in Sustainable Merton - Summary.csv\"  # Replace with your actual file path\n",
    "data = pd.read_csv(file_path)\n",
    "\n",
    "groups = data.groupby(\"What is the highest level of education you have completed?\\n(Please select the option that best describes your educational attainment.) \")[\"Engagement - Vigor\"]\n",
    "\n",
    "# Extract the scores for each age group\n",
    "anova_data = [group.dropna().values for _, group in groups]  # Drop NaN values if any\n",
    "\n",
    "# Perform one-way ANOVA\n",
    "f_stat, p_value = f_oneway(*anova_data)\n",
    "\n",
    "# Output the results\n",
    "print(f\"F-Statistic: {f_stat}\")\n",
    "print(f\"P-Value: {p_value}\")\n",
    "\n",
    "# Interpretation\n",
    "if p_value < 0.05:\n",
    "    print(\"There is a statistically significant difference between groups.\")\n",
    "else:\n",
    "    print(\"No statistically significant difference between groups.\")"
   ]
  },
  {
   "cell_type": "code",
   "execution_count": 69,
   "id": "8f4543c9",
   "metadata": {},
   "outputs": [
    {
     "name": "stdout",
     "output_type": "stream",
     "text": [
      "F-Statistic: 0.5435792285035768\n",
      "P-Value: 0.7422061423812247\n",
      "No statistically significant difference between groups.\n"
     ]
    }
   ],
   "source": [
    "#8\n",
    "\n",
    "# Load your CSV file\n",
    "file_path = \"Volunteer Engagement in Sustainable Merton - Summary.csv\"  # Replace with your actual file path\n",
    "data = pd.read_csv(file_path)\n",
    "\n",
    "groups = data.groupby(\"What is the highest level of education you have completed?\\n(Please select the option that best describes your educational attainment.) \")[\"Engagement - Dedication\"]\n",
    "\n",
    "# Extract the scores for each age group\n",
    "anova_data = [group.dropna().values for _, group in groups]  # Drop NaN values if any\n",
    "\n",
    "# Perform one-way ANOVA\n",
    "f_stat, p_value = f_oneway(*anova_data)\n",
    "\n",
    "# Output the results\n",
    "print(f\"F-Statistic: {f_stat}\")\n",
    "print(f\"P-Value: {p_value}\")\n",
    "\n",
    "# Interpretation\n",
    "if p_value < 0.05:\n",
    "    print(\"There is a statistically significant difference between groups.\")\n",
    "else:\n",
    "    print(\"No statistically significant difference between groups.\")"
   ]
  },
  {
   "cell_type": "code",
   "execution_count": 70,
   "id": "4d2c17e4",
   "metadata": {},
   "outputs": [
    {
     "name": "stdout",
     "output_type": "stream",
     "text": [
      "F-Statistic: 0.848243137430178\n",
      "P-Value: 0.5232024023537936\n",
      "No statistically significant difference between groups.\n"
     ]
    }
   ],
   "source": [
    "#9\n",
    "\n",
    "# Load your CSV file\n",
    "file_path = \"Volunteer Engagement in Sustainable Merton - Summary.csv\"  # Replace with your actual file path\n",
    "data = pd.read_csv(file_path)\n",
    "\n",
    "groups = data.groupby(\"What is the highest level of education you have completed?\\n(Please select the option that best describes your educational attainment.) \")[\"Engagement - Absorption\"]\n",
    "\n",
    "# Extract the scores for each age group\n",
    "anova_data = [group.dropna().values for _, group in groups]  # Drop NaN values if any\n",
    "\n",
    "# Perform one-way ANOVA\n",
    "f_stat, p_value = f_oneway(*anova_data)\n",
    "\n",
    "# Output the results\n",
    "print(f\"F-Statistic: {f_stat}\")\n",
    "print(f\"P-Value: {p_value}\")\n",
    "\n",
    "# Interpretation\n",
    "if p_value < 0.05:\n",
    "    print(\"There is a statistically significant difference between groups.\")\n",
    "else:\n",
    "    print(\"No statistically significant difference between groups.\")"
   ]
  },
  {
   "cell_type": "code",
   "execution_count": 71,
   "id": "532a22f4",
   "metadata": {},
   "outputs": [
    {
     "name": "stdout",
     "output_type": "stream",
     "text": [
      "F-Statistic: 1.0869367868015505\n",
      "P-Value: 0.3809352964479943\n",
      "No statistically significant difference between groups.\n"
     ]
    }
   ],
   "source": [
    "#10\n",
    "\n",
    "# Load your CSV file\n",
    "file_path = \"Volunteer Engagement in Sustainable Merton - Summary.csv\"  # Replace with your actual file path\n",
    "data = pd.read_csv(file_path)\n",
    "\n",
    "groups = data.groupby(\"What is the highest level of education you have completed?\\n(Please select the option that best describes your educational attainment.) \")[\"Satisfaction - Task\"]\n",
    "\n",
    "# Extract the scores for each age group\n",
    "anova_data = [group.dropna().values for _, group in groups]  # Drop NaN values if any\n",
    "\n",
    "# Perform one-way ANOVA\n",
    "f_stat, p_value = f_oneway(*anova_data)\n",
    "\n",
    "# Output the results\n",
    "print(f\"F-Statistic: {f_stat}\")\n",
    "print(f\"P-Value: {p_value}\")\n",
    "\n",
    "# Interpretation\n",
    "if p_value < 0.05:\n",
    "    print(\"There is a statistically significant difference between groups.\")\n",
    "else:\n",
    "    print(\"No statistically significant difference between groups.\")"
   ]
  },
  {
   "cell_type": "code",
   "execution_count": 72,
   "id": "52cd45fa",
   "metadata": {},
   "outputs": [
    {
     "name": "stdout",
     "output_type": "stream",
     "text": [
      "F-Statistic: 1.0826664600871925\n",
      "P-Value: 0.38319342478146134\n",
      "No statistically significant difference between groups.\n"
     ]
    }
   ],
   "source": [
    "#11\n",
    "\n",
    "# Load your CSV file\n",
    "file_path = \"Volunteer Engagement in Sustainable Merton - Summary.csv\"  # Replace with your actual file path\n",
    "data = pd.read_csv(file_path)\n",
    "\n",
    "groups = data.groupby(\"What is the highest level of education you have completed?\\n(Please select the option that best describes your educational attainment.) \")[\"Satisfaction - Organisation\"]\n",
    "\n",
    "# Extract the scores for each age group\n",
    "anova_data = [group.dropna().values for _, group in groups]  # Drop NaN values if any\n",
    "\n",
    "# Perform one-way ANOVA\n",
    "f_stat, p_value = f_oneway(*anova_data)\n",
    "\n",
    "# Output the results\n",
    "print(f\"F-Statistic: {f_stat}\")\n",
    "print(f\"P-Value: {p_value}\")\n",
    "\n",
    "# Interpretation\n",
    "if p_value < 0.05:\n",
    "    print(\"There is a statistically significant difference between groups.\")\n",
    "else:\n",
    "    print(\"No statistically significant difference between groups.\")"
   ]
  },
  {
   "cell_type": "code",
   "execution_count": 73,
   "id": "440617ff",
   "metadata": {},
   "outputs": [
    {
     "name": "stdout",
     "output_type": "stream",
     "text": [
      "F-Statistic: 1.326530263819027\n",
      "P-Value: 0.2706828460366153\n",
      "No statistically significant difference between groups.\n"
     ]
    }
   ],
   "source": [
    "#12\n",
    "\n",
    "# Load your CSV file\n",
    "file_path = \"Volunteer Engagement in Sustainable Merton - Summary.csv\"  # Replace with your actual file path\n",
    "data = pd.read_csv(file_path)\n",
    "\n",
    "groups = data.groupby(\"What is the highest level of education you have completed?\\n(Please select the option that best describes your educational attainment.) \")[\"Commitment\"]\n",
    "\n",
    "# Extract the scores for each age group\n",
    "anova_data = [group.dropna().values for _, group in groups]  # Drop NaN values if any\n",
    "\n",
    "# Perform one-way ANOVA\n",
    "f_stat, p_value = f_oneway(*anova_data)\n",
    "\n",
    "# Output the results\n",
    "print(f\"F-Statistic: {f_stat}\")\n",
    "print(f\"P-Value: {p_value}\")\n",
    "\n",
    "# Interpretation\n",
    "if p_value < 0.05:\n",
    "    print(\"There is a statistically significant difference between groups.\")\n",
    "else:\n",
    "    print(\"No statistically significant difference between groups.\")"
   ]
  },
  {
   "cell_type": "markdown",
   "id": "d06c4dc1",
   "metadata": {},
   "source": [
    "## 6. Employment Status"
   ]
  },
  {
   "cell_type": "code",
   "execution_count": 75,
   "id": "6c3a735b",
   "metadata": {},
   "outputs": [
    {
     "name": "stdout",
     "output_type": "stream",
     "text": [
      "F-Statistic: 4.051336613108195\n",
      "P-Value: 0.0017867449872141982\n",
      "There is a statistically significant difference between groups.\n"
     ]
    }
   ],
   "source": [
    "#1\n",
    "import pandas as pd\n",
    "from scipy.stats import f_oneway\n",
    "\n",
    "# Load your CSV file\n",
    "file_path = \"Volunteer Engagement in Sustainable Merton - Summary.csv\"  # Replace with your actual file path\n",
    "data = pd.read_csv(file_path)\n",
    "\n",
    "# Example: Perform ANOVA for \"Motivations - Career\" across \"Age\"\n",
    "# Ensure the column names match exactly in your dataset\n",
    "groups = data.groupby(\"What is your current employment status?\\n(Please select the option that best describes your current employment status.) \")[\"Motivations - Career\"]\n",
    "\n",
    "# Extract the scores for each age group\n",
    "anova_data = [group.dropna().values for _, group in groups]  # Drop NaN values if any\n",
    "\n",
    "# Perform one-way ANOVA\n",
    "f_stat, p_value = f_oneway(*anova_data)\n",
    "\n",
    "# Output the results\n",
    "print(f\"F-Statistic: {f_stat}\")\n",
    "print(f\"P-Value: {p_value}\")\n",
    "\n",
    "# Interpretation\n",
    "if p_value < 0.05:\n",
    "    print(\"There is a statistically significant difference between groups.\")\n",
    "else:\n",
    "    print(\"No statistically significant difference between groups.\")"
   ]
  },
  {
   "cell_type": "code",
   "execution_count": 76,
   "id": "ae52fe08",
   "metadata": {},
   "outputs": [
    {
     "name": "stdout",
     "output_type": "stream",
     "text": [
      "F-Statistic: 3.0805187483049226\n",
      "P-Value: 0.010343173841568977\n",
      "There is a statistically significant difference between groups.\n"
     ]
    }
   ],
   "source": [
    "#2\n",
    "\n",
    "# Load your CSV file\n",
    "file_path = \"Volunteer Engagement in Sustainable Merton - Summary.csv\"  # Replace with your actual file path\n",
    "data = pd.read_csv(file_path)\n",
    "\n",
    "groups = data.groupby(\"What is your current employment status?\\n(Please select the option that best describes your current employment status.) \")[\"Motivations - Social\"]\n",
    "\n",
    "# Extract the scores for each age group\n",
    "anova_data = [group.dropna().values for _, group in groups]  # Drop NaN values if any\n",
    "\n",
    "# Perform one-way ANOVA\n",
    "f_stat, p_value = f_oneway(*anova_data)\n",
    "\n",
    "# Output the results\n",
    "print(f\"F-Statistic: {f_stat}\")\n",
    "print(f\"P-Value: {p_value}\")\n",
    "\n",
    "# Interpretation\n",
    "if p_value < 0.05:\n",
    "    print(\"There is a statistically significant difference between groups.\")\n",
    "else:\n",
    "    print(\"No statistically significant difference between groups.\")"
   ]
  },
  {
   "cell_type": "code",
   "execution_count": 77,
   "id": "30dfa39a",
   "metadata": {},
   "outputs": [
    {
     "name": "stdout",
     "output_type": "stream",
     "text": [
      "F-Statistic: 1.912728469465414\n",
      "P-Value: 0.09153323484561285\n",
      "No statistically significant difference between groups.\n"
     ]
    }
   ],
   "source": [
    "#3\n",
    "\n",
    "# Load your CSV file\n",
    "file_path = \"Volunteer Engagement in Sustainable Merton - Summary.csv\"  # Replace with your actual file path\n",
    "data = pd.read_csv(file_path)\n",
    "\n",
    "groups = data.groupby(\"What is your current employment status?\\n(Please select the option that best describes your current employment status.) \")[\"Motivations - Values\"]\n",
    "\n",
    "# Extract the scores for each age group\n",
    "anova_data = [group.dropna().values for _, group in groups]  # Drop NaN values if any\n",
    "\n",
    "# Perform one-way ANOVA\n",
    "f_stat, p_value = f_oneway(*anova_data)\n",
    "\n",
    "# Output the results\n",
    "print(f\"F-Statistic: {f_stat}\")\n",
    "print(f\"P-Value: {p_value}\")\n",
    "\n",
    "# Interpretation\n",
    "if p_value < 0.05:\n",
    "    print(\"There is a statistically significant difference between groups.\")\n",
    "else:\n",
    "    print(\"No statistically significant difference between groups.\")"
   ]
  },
  {
   "cell_type": "code",
   "execution_count": 78,
   "id": "a15a6382",
   "metadata": {},
   "outputs": [
    {
     "name": "stdout",
     "output_type": "stream",
     "text": [
      "F-Statistic: 1.9009162105263153\n",
      "P-Value: 0.09355569990366565\n",
      "No statistically significant difference between groups.\n"
     ]
    }
   ],
   "source": [
    "#4\n",
    "\n",
    "# Load your CSV file\n",
    "file_path = \"Volunteer Engagement in Sustainable Merton - Summary.csv\"  # Replace with your actual file path\n",
    "data = pd.read_csv(file_path)\n",
    "\n",
    "groups = data.groupby(\"What is your current employment status?\\n(Please select the option that best describes your current employment status.) \")[\"Motivations - Understd\"]\n",
    "\n",
    "# Extract the scores for each age group\n",
    "anova_data = [group.dropna().values for _, group in groups]  # Drop NaN values if any\n",
    "\n",
    "# Perform one-way ANOVA\n",
    "f_stat, p_value = f_oneway(*anova_data)\n",
    "\n",
    "# Output the results\n",
    "print(f\"F-Statistic: {f_stat}\")\n",
    "print(f\"P-Value: {p_value}\")\n",
    "\n",
    "# Interpretation\n",
    "if p_value < 0.05:\n",
    "    print(\"There is a statistically significant difference between groups.\")\n",
    "else:\n",
    "    print(\"No statistically significant difference between groups.\")"
   ]
  },
  {
   "cell_type": "code",
   "execution_count": 79,
   "id": "7bd919fb",
   "metadata": {},
   "outputs": [
    {
     "name": "stdout",
     "output_type": "stream",
     "text": [
      "F-Statistic: 1.0939736561024611\n",
      "P-Value: 0.3845246189107069\n",
      "No statistically significant difference between groups.\n"
     ]
    }
   ],
   "source": [
    "#7\n",
    "\n",
    "# Load your CSV file\n",
    "file_path = \"Volunteer Engagement in Sustainable Merton - Summary.csv\"  # Replace with your actual file path\n",
    "data = pd.read_csv(file_path)\n",
    "\n",
    "groups = data.groupby(\"What is your current employment status?\\n(Please select the option that best describes your current employment status.) \")[\"Engagement - Vigor\"]\n",
    "\n",
    "# Extract the scores for each age group\n",
    "anova_data = [group.dropna().values for _, group in groups]  # Drop NaN values if any\n",
    "\n",
    "# Perform one-way ANOVA\n",
    "f_stat, p_value = f_oneway(*anova_data)\n",
    "\n",
    "# Output the results\n",
    "print(f\"F-Statistic: {f_stat}\")\n",
    "print(f\"P-Value: {p_value}\")\n",
    "\n",
    "# Interpretation\n",
    "if p_value < 0.05:\n",
    "    print(\"There is a statistically significant difference between groups.\")\n",
    "else:\n",
    "    print(\"No statistically significant difference between groups.\")"
   ]
  },
  {
   "cell_type": "code",
   "execution_count": 80,
   "id": "55cdf5d8",
   "metadata": {},
   "outputs": [
    {
     "name": "stdout",
     "output_type": "stream",
     "text": [
      "F-Statistic: 0.9102211032570479\n",
      "P-Value: 0.5080122985420146\n",
      "No statistically significant difference between groups.\n"
     ]
    }
   ],
   "source": [
    "#8\n",
    "\n",
    "# Load your CSV file\n",
    "file_path = \"Volunteer Engagement in Sustainable Merton - Summary.csv\"  # Replace with your actual file path\n",
    "data = pd.read_csv(file_path)\n",
    "\n",
    "groups = data.groupby(\"What is your current employment status?\\n(Please select the option that best describes your current employment status.) \")[\"Engagement - Dedication\"]\n",
    "\n",
    "# Extract the scores for each age group\n",
    "anova_data = [group.dropna().values for _, group in groups]  # Drop NaN values if any\n",
    "\n",
    "# Perform one-way ANOVA\n",
    "f_stat, p_value = f_oneway(*anova_data)\n",
    "\n",
    "# Output the results\n",
    "print(f\"F-Statistic: {f_stat}\")\n",
    "print(f\"P-Value: {p_value}\")\n",
    "\n",
    "# Interpretation\n",
    "if p_value < 0.05:\n",
    "    print(\"There is a statistically significant difference between groups.\")\n",
    "else:\n",
    "    print(\"No statistically significant difference between groups.\")"
   ]
  },
  {
   "cell_type": "code",
   "execution_count": 81,
   "id": "3671e618",
   "metadata": {},
   "outputs": [
    {
     "name": "stdout",
     "output_type": "stream",
     "text": [
      "F-Statistic: 0.6874480703239166\n",
      "P-Value: 0.6819165301958185\n",
      "No statistically significant difference between groups.\n"
     ]
    }
   ],
   "source": [
    "#9\n",
    "\n",
    "# Load your CSV file\n",
    "file_path = \"Volunteer Engagement in Sustainable Merton - Summary.csv\"  # Replace with your actual file path\n",
    "data = pd.read_csv(file_path)\n",
    "\n",
    "groups = data.groupby(\"What is your current employment status?\\n(Please select the option that best describes your current employment status.) \")[\"Engagement - Absorption\"]\n",
    "\n",
    "# Extract the scores for each age group\n",
    "anova_data = [group.dropna().values for _, group in groups]  # Drop NaN values if any\n",
    "\n",
    "# Perform one-way ANOVA\n",
    "f_stat, p_value = f_oneway(*anova_data)\n",
    "\n",
    "# Output the results\n",
    "print(f\"F-Statistic: {f_stat}\")\n",
    "print(f\"P-Value: {p_value}\")\n",
    "\n",
    "# Interpretation\n",
    "if p_value < 0.05:\n",
    "    print(\"There is a statistically significant difference between groups.\")\n",
    "else:\n",
    "    print(\"No statistically significant difference between groups.\")"
   ]
  },
  {
   "cell_type": "code",
   "execution_count": 82,
   "id": "a66b9e42",
   "metadata": {},
   "outputs": [
    {
     "name": "stdout",
     "output_type": "stream",
     "text": [
      "F-Statistic: 0.6787517209729232\n",
      "P-Value: 0.6889536475897975\n",
      "No statistically significant difference between groups.\n"
     ]
    }
   ],
   "source": [
    "#10\n",
    "\n",
    "# Load your CSV file\n",
    "file_path = \"Volunteer Engagement in Sustainable Merton - Summary.csv\"  # Replace with your actual file path\n",
    "data = pd.read_csv(file_path)\n",
    "\n",
    "groups = data.groupby(\"What is your current employment status?\\n(Please select the option that best describes your current employment status.) \")[\"Satisfaction - Task\"]\n",
    "\n",
    "# Extract the scores for each age group\n",
    "anova_data = [group.dropna().values for _, group in groups]  # Drop NaN values if any\n",
    "\n",
    "# Perform one-way ANOVA\n",
    "f_stat, p_value = f_oneway(*anova_data)\n",
    "\n",
    "# Output the results\n",
    "print(f\"F-Statistic: {f_stat}\")\n",
    "print(f\"P-Value: {p_value}\")\n",
    "\n",
    "# Interpretation\n",
    "if p_value < 0.05:\n",
    "    print(\"There is a statistically significant difference between groups.\")\n",
    "else:\n",
    "    print(\"No statistically significant difference between groups.\")"
   ]
  },
  {
   "cell_type": "code",
   "execution_count": 83,
   "id": "d5218b75",
   "metadata": {},
   "outputs": [
    {
     "name": "stdout",
     "output_type": "stream",
     "text": [
      "F-Statistic: 0.5690419774429386\n",
      "P-Value: 0.7767145615559377\n",
      "No statistically significant difference between groups.\n"
     ]
    }
   ],
   "source": [
    "#11\n",
    "\n",
    "# Load your CSV file\n",
    "file_path = \"Volunteer Engagement in Sustainable Merton - Summary.csv\"  # Replace with your actual file path\n",
    "data = pd.read_csv(file_path)\n",
    "\n",
    "groups = data.groupby(\"What is your current employment status?\\n(Please select the option that best describes your current employment status.) \")[\"Satisfaction - Organisation\"]\n",
    "\n",
    "# Extract the scores for each age group\n",
    "anova_data = [group.dropna().values for _, group in groups]  # Drop NaN values if any\n",
    "\n",
    "# Perform one-way ANOVA\n",
    "f_stat, p_value = f_oneway(*anova_data)\n",
    "\n",
    "# Output the results\n",
    "print(f\"F-Statistic: {f_stat}\")\n",
    "print(f\"P-Value: {p_value}\")\n",
    "\n",
    "# Interpretation\n",
    "if p_value < 0.05:\n",
    "    print(\"There is a statistically significant difference between groups.\")\n",
    "else:\n",
    "    print(\"No statistically significant difference between groups.\")"
   ]
  },
  {
   "cell_type": "code",
   "execution_count": 84,
   "id": "927468f7",
   "metadata": {},
   "outputs": [
    {
     "name": "stdout",
     "output_type": "stream",
     "text": [
      "F-Statistic: 0.672851604256745\n",
      "P-Value: 0.6937276805744885\n",
      "No statistically significant difference between groups.\n"
     ]
    }
   ],
   "source": [
    "#12\n",
    "\n",
    "# Load your CSV file\n",
    "file_path = \"Volunteer Engagement in Sustainable Merton - Summary.csv\"  # Replace with your actual file path\n",
    "data = pd.read_csv(file_path)\n",
    "\n",
    "groups = data.groupby(\"What is your current employment status?\\n(Please select the option that best describes your current employment status.) \")[\"Commitment\"]\n",
    "\n",
    "# Extract the scores for each age group\n",
    "anova_data = [group.dropna().values for _, group in groups]  # Drop NaN values if any\n",
    "\n",
    "# Perform one-way ANOVA\n",
    "f_stat, p_value = f_oneway(*anova_data)\n",
    "\n",
    "# Output the results\n",
    "print(f\"F-Statistic: {f_stat}\")\n",
    "print(f\"P-Value: {p_value}\")\n",
    "\n",
    "# Interpretation\n",
    "if p_value < 0.05:\n",
    "    print(\"There is a statistically significant difference between groups.\")\n",
    "else:\n",
    "    print(\"No statistically significant difference between groups.\")"
   ]
  },
  {
   "cell_type": "code",
   "execution_count": null,
   "id": "0d502b38",
   "metadata": {},
   "outputs": [],
   "source": []
  }
 ],
 "metadata": {
  "kernelspec": {
   "display_name": "Python 3 (ipykernel)",
   "language": "python",
   "name": "python3"
  },
  "language_info": {
   "codemirror_mode": {
    "name": "ipython",
    "version": 3
   },
   "file_extension": ".py",
   "mimetype": "text/x-python",
   "name": "python",
   "nbconvert_exporter": "python",
   "pygments_lexer": "ipython3",
   "version": "3.9.12"
  }
 },
 "nbformat": 4,
 "nbformat_minor": 5
}
